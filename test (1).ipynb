{
  "nbformat": 4,
  "nbformat_minor": 0,
  "metadata": {
    "colab": {
      "name": "test.ipynb",
      "version": "0.3.2",
      "provenance": []
    },
    "kernelspec": {
      "name": "python3",
      "display_name": "Python 3"
    },
    "accelerator": "GPU"
  },
  "cells": [
    {
      "cell_type": "code",
      "metadata": {
        "id": "SrKbUKGGymBe",
        "colab_type": "code",
        "outputId": "b8f92909-a439-41f8-ba44-de29ab8d90f0",
        "colab": {
          "base_uri": "https://localhost:8080/",
          "height": 34
        }
      },
      "source": [
        "1+2"
      ],
      "execution_count": 0,
      "outputs": [
        {
          "output_type": "execute_result",
          "data": {
            "text/plain": [
              "3"
            ]
          },
          "metadata": {
            "tags": []
          },
          "execution_count": 1
        }
      ]
    },
    {
      "cell_type": "code",
      "metadata": {
        "id": "cgMGTi9Mzo5U",
        "colab_type": "code",
        "outputId": "12748814-5526-4063-dc68-edebe015e00e",
        "colab": {
          "base_uri": "https://localhost:8080/",
          "height": 470
        }
      },
      "source": [
        "from tensorflow.python.client import device_lib\n",
        "device_lib.list_local_devices()"
      ],
      "execution_count": 0,
      "outputs": [
        {
          "output_type": "execute_result",
          "data": {
            "text/plain": [
              "[name: \"/device:CPU:0\"\n",
              " device_type: \"CPU\"\n",
              " memory_limit: 268435456\n",
              " locality {\n",
              " }\n",
              " incarnation: 12147666162139220877, name: \"/device:XLA_CPU:0\"\n",
              " device_type: \"XLA_CPU\"\n",
              " memory_limit: 17179869184\n",
              " locality {\n",
              " }\n",
              " incarnation: 14758135346299258524\n",
              " physical_device_desc: \"device: XLA_CPU device\", name: \"/device:XLA_GPU:0\"\n",
              " device_type: \"XLA_GPU\"\n",
              " memory_limit: 17179869184\n",
              " locality {\n",
              " }\n",
              " incarnation: 15077788490555740760\n",
              " physical_device_desc: \"device: XLA_GPU device\", name: \"/device:GPU:0\"\n",
              " device_type: \"GPU\"\n",
              " memory_limit: 14800692839\n",
              " locality {\n",
              "   bus_id: 1\n",
              "   links {\n",
              "   }\n",
              " }\n",
              " incarnation: 7149464202415558200\n",
              " physical_device_desc: \"device: 0, name: Tesla T4, pci bus id: 0000:00:04.0, compute capability: 7.5\"]"
            ]
          },
          "metadata": {
            "tags": []
          },
          "execution_count": 1
        }
      ]
    },
    {
      "cell_type": "code",
      "metadata": {
        "id": "NqSIdl9E6EOQ",
        "colab_type": "code",
        "colab": {}
      },
      "source": [
        "import numpy as np"
      ],
      "execution_count": 0,
      "outputs": []
    },
    {
      "cell_type": "code",
      "metadata": {
        "id": "pYGFbUNH7h-i",
        "colab_type": "code",
        "outputId": "41060c9b-2d49-442e-a644-967f52a7c94e",
        "colab": {
          "base_uri": "https://localhost:8080/",
          "height": 50
        }
      },
      "source": [
        "data = np.array([[0.9526,-0.246,-0.8856],[0.5639,0.2379,0.9104]])\n",
        "data"
      ],
      "execution_count": 0,
      "outputs": [
        {
          "output_type": "execute_result",
          "data": {
            "text/plain": [
              "array([[ 0.9526, -0.246 , -0.8856],\n",
              "       [ 0.5639,  0.2379,  0.9104]])"
            ]
          },
          "metadata": {
            "tags": []
          },
          "execution_count": 3
        }
      ]
    },
    {
      "cell_type": "code",
      "metadata": {
        "id": "qkHj568x8E7c",
        "colab_type": "code",
        "outputId": "57401192-7511-476c-aab2-549ef11ec6b5",
        "colab": {
          "base_uri": "https://localhost:8080/",
          "height": 50
        }
      },
      "source": [
        "data*10"
      ],
      "execution_count": 0,
      "outputs": [
        {
          "output_type": "execute_result",
          "data": {
            "text/plain": [
              "array([[ 9.526, -2.46 , -8.856],\n",
              "       [ 5.639,  2.379,  9.104]])"
            ]
          },
          "metadata": {
            "tags": []
          },
          "execution_count": 4
        }
      ]
    },
    {
      "cell_type": "code",
      "metadata": {
        "id": "VEJdIXeK8KP5",
        "colab_type": "code",
        "outputId": "36afed95-d7ec-4ba7-c4f3-74cec1644350",
        "colab": {
          "base_uri": "https://localhost:8080/",
          "height": 50
        }
      },
      "source": [
        "data+data"
      ],
      "execution_count": 0,
      "outputs": [
        {
          "output_type": "execute_result",
          "data": {
            "text/plain": [
              "array([[ 1.9052, -0.492 , -1.7712],\n",
              "       [ 1.1278,  0.4758,  1.8208]])"
            ]
          },
          "metadata": {
            "tags": []
          },
          "execution_count": 5
        }
      ]
    },
    {
      "cell_type": "code",
      "metadata": {
        "id": "GbjswXCj8PHO",
        "colab_type": "code",
        "outputId": "2a28ed22-319b-4175-e890-9428d8235549",
        "colab": {
          "base_uri": "https://localhost:8080/",
          "height": 34
        }
      },
      "source": [
        "data.shape"
      ],
      "execution_count": 0,
      "outputs": [
        {
          "output_type": "execute_result",
          "data": {
            "text/plain": [
              "(2, 3)"
            ]
          },
          "metadata": {
            "tags": []
          },
          "execution_count": 6
        }
      ]
    },
    {
      "cell_type": "code",
      "metadata": {
        "id": "eE5ZDwBY9QHX",
        "colab_type": "code",
        "outputId": "e2adce7b-a46a-4557-d22a-747f96dc5026",
        "colab": {
          "base_uri": "https://localhost:8080/",
          "height": 34
        }
      },
      "source": [
        "data.ndim"
      ],
      "execution_count": 0,
      "outputs": [
        {
          "output_type": "execute_result",
          "data": {
            "text/plain": [
              "2"
            ]
          },
          "metadata": {
            "tags": []
          },
          "execution_count": 7
        }
      ]
    },
    {
      "cell_type": "code",
      "metadata": {
        "id": "I60pE-s89ZCx",
        "colab_type": "code",
        "outputId": "5871e29c-9132-421d-f0ee-5be00038e2f1",
        "colab": {
          "base_uri": "https://localhost:8080/",
          "height": 34
        }
      },
      "source": [
        "data.dtype"
      ],
      "execution_count": 0,
      "outputs": [
        {
          "output_type": "execute_result",
          "data": {
            "text/plain": [
              "dtype('float64')"
            ]
          },
          "metadata": {
            "tags": []
          },
          "execution_count": 8
        }
      ]
    },
    {
      "cell_type": "code",
      "metadata": {
        "id": "UUqhgdg6-BUA",
        "colab_type": "code",
        "outputId": "12967bf8-c347-49a8-ab97-d00d4b69c2ae",
        "colab": {
          "base_uri": "https://localhost:8080/",
          "height": 34
        }
      },
      "source": [
        "np.zeros(10)"
      ],
      "execution_count": 0,
      "outputs": [
        {
          "output_type": "execute_result",
          "data": {
            "text/plain": [
              "array([0., 0., 0., 0., 0., 0., 0., 0., 0., 0.])"
            ]
          },
          "metadata": {
            "tags": []
          },
          "execution_count": 9
        }
      ]
    },
    {
      "cell_type": "code",
      "metadata": {
        "id": "n8-ZoJjl-gDb",
        "colab_type": "code",
        "outputId": "46cf3b1f-340b-4132-9bf3-721b56793f3a",
        "colab": {
          "base_uri": "https://localhost:8080/",
          "height": 67
        }
      },
      "source": [
        "np.zeros((3,6))"
      ],
      "execution_count": 0,
      "outputs": [
        {
          "output_type": "execute_result",
          "data": {
            "text/plain": [
              "array([[0., 0., 0., 0., 0., 0.],\n",
              "       [0., 0., 0., 0., 0., 0.],\n",
              "       [0., 0., 0., 0., 0., 0.]])"
            ]
          },
          "metadata": {
            "tags": []
          },
          "execution_count": 11
        }
      ]
    },
    {
      "cell_type": "code",
      "metadata": {
        "id": "EtwOBXpG-o15",
        "colab_type": "code",
        "outputId": "5285e4af-ea4b-4fd0-b7a9-30e00132b343",
        "colab": {
          "base_uri": "https://localhost:8080/",
          "height": 134
        }
      },
      "source": [
        "np.empty((2,3,2))"
      ],
      "execution_count": 0,
      "outputs": [
        {
          "output_type": "execute_result",
          "data": {
            "text/plain": [
              "array([[[2.05560178e-315, 0.00000000e+000],\n",
              "        [0.00000000e+000, 0.00000000e+000],\n",
              "        [0.00000000e+000, 0.00000000e+000]],\n",
              "\n",
              "       [[0.00000000e+000, 0.00000000e+000],\n",
              "        [0.00000000e+000, 0.00000000e+000],\n",
              "        [0.00000000e+000, 0.00000000e+000]]])"
            ]
          },
          "metadata": {
            "tags": []
          },
          "execution_count": 12
        }
      ]
    },
    {
      "cell_type": "code",
      "metadata": {
        "id": "o9u9aR9J-vbj",
        "colab_type": "code",
        "outputId": "bea5b40c-2c38-4836-e8aa-f07dfe56dbfb",
        "colab": {
          "base_uri": "https://localhost:8080/",
          "height": 34
        }
      },
      "source": [
        "np.arange(15)"
      ],
      "execution_count": 0,
      "outputs": [
        {
          "output_type": "execute_result",
          "data": {
            "text/plain": [
              "array([ 0,  1,  2,  3,  4,  5,  6,  7,  8,  9, 10, 11, 12, 13, 14])"
            ]
          },
          "metadata": {
            "tags": []
          },
          "execution_count": 13
        }
      ]
    },
    {
      "cell_type": "code",
      "metadata": {
        "id": "6dddssN5-8wr",
        "colab_type": "code",
        "colab": {}
      },
      "source": [
        "arr1 = np.array([1,2,3],dtype=np.float64)"
      ],
      "execution_count": 0,
      "outputs": []
    },
    {
      "cell_type": "code",
      "metadata": {
        "id": "lGJo-Y5a_Pqn",
        "colab_type": "code",
        "colab": {}
      },
      "source": [
        "arr2 = np.array([1,2,3],dtype=np.int32)"
      ],
      "execution_count": 0,
      "outputs": []
    },
    {
      "cell_type": "code",
      "metadata": {
        "id": "gGBxkew6_YVG",
        "colab_type": "code",
        "outputId": "248784a9-bd02-41bd-cbf7-2df3a24fa0a3",
        "colab": {
          "base_uri": "https://localhost:8080/",
          "height": 34
        }
      },
      "source": [
        "arr1.dtype"
      ],
      "execution_count": 0,
      "outputs": [
        {
          "output_type": "execute_result",
          "data": {
            "text/plain": [
              "dtype('float64')"
            ]
          },
          "metadata": {
            "tags": []
          },
          "execution_count": 21
        }
      ]
    },
    {
      "cell_type": "code",
      "metadata": {
        "id": "WWbAa8Vt_YdN",
        "colab_type": "code",
        "outputId": "f9be9569-9991-49e7-d04f-4747e9c8f743",
        "colab": {
          "base_uri": "https://localhost:8080/",
          "height": 34
        }
      },
      "source": [
        "arr2.dtype"
      ],
      "execution_count": 0,
      "outputs": [
        {
          "output_type": "execute_result",
          "data": {
            "text/plain": [
              "dtype('int32')"
            ]
          },
          "metadata": {
            "tags": []
          },
          "execution_count": 22
        }
      ]
    },
    {
      "cell_type": "code",
      "metadata": {
        "id": "5ltV1OlF_YhC",
        "colab_type": "code",
        "colab": {}
      },
      "source": [
        "arr = np.array([1,2,3,4,5])"
      ],
      "execution_count": 0,
      "outputs": []
    },
    {
      "cell_type": "code",
      "metadata": {
        "id": "zyD_JrTQ_Yke",
        "colab_type": "code",
        "outputId": "17c9c1fe-f29e-4882-ab09-1ef748259360",
        "colab": {
          "base_uri": "https://localhost:8080/",
          "height": 34
        }
      },
      "source": [
        "arr.dtype"
      ],
      "execution_count": 0,
      "outputs": [
        {
          "output_type": "execute_result",
          "data": {
            "text/plain": [
              "dtype('int64')"
            ]
          },
          "metadata": {
            "tags": []
          },
          "execution_count": 24
        }
      ]
    },
    {
      "cell_type": "code",
      "metadata": {
        "id": "4S-rroa4_Yo5",
        "colab_type": "code",
        "colab": {}
      },
      "source": [
        "float_arr = arr.astype(np.float64)"
      ],
      "execution_count": 0,
      "outputs": []
    },
    {
      "cell_type": "code",
      "metadata": {
        "id": "2a_pYTfpAI3r",
        "colab_type": "code",
        "outputId": "0e9bbf02-78e5-4674-f657-3063a1f4d755",
        "colab": {
          "base_uri": "https://localhost:8080/",
          "height": 34
        }
      },
      "source": [
        "float_arr"
      ],
      "execution_count": 0,
      "outputs": [
        {
          "output_type": "execute_result",
          "data": {
            "text/plain": [
              "array([1., 2., 3., 4., 5.])"
            ]
          },
          "metadata": {
            "tags": []
          },
          "execution_count": 26
        }
      ]
    },
    {
      "cell_type": "code",
      "metadata": {
        "id": "Hl1FvQ9uAI6t",
        "colab_type": "code",
        "outputId": "91f052b4-6601-4cce-9cdb-2c2053c02248",
        "colab": {
          "base_uri": "https://localhost:8080/",
          "height": 34
        }
      },
      "source": [
        "float_arr.dtype"
      ],
      "execution_count": 0,
      "outputs": [
        {
          "output_type": "execute_result",
          "data": {
            "text/plain": [
              "dtype('float64')"
            ]
          },
          "metadata": {
            "tags": []
          },
          "execution_count": 27
        }
      ]
    },
    {
      "cell_type": "code",
      "metadata": {
        "id": "FhhRF-3WAI_3",
        "colab_type": "code",
        "colab": {}
      },
      "source": [
        "arr = np.array([3.7,-1.2,-2.6,0.5,12.9,10.1])"
      ],
      "execution_count": 0,
      "outputs": []
    },
    {
      "cell_type": "code",
      "metadata": {
        "id": "EHaQWF6pAJCp",
        "colab_type": "code",
        "colab": {
          "base_uri": "https://localhost:8080/",
          "height": 34
        },
        "outputId": "c655eaec-5704-46c4-e2a8-4f1141ab4627"
      },
      "source": [
        "arr"
      ],
      "execution_count": 29,
      "outputs": [
        {
          "output_type": "execute_result",
          "data": {
            "text/plain": [
              "array([ 3.7, -1.2, -2.6,  0.5, 12.9, 10.1])"
            ]
          },
          "metadata": {
            "tags": []
          },
          "execution_count": 29
        }
      ]
    },
    {
      "cell_type": "code",
      "metadata": {
        "id": "T_t8VQn4AJFE",
        "colab_type": "code",
        "colab": {
          "base_uri": "https://localhost:8080/",
          "height": 34
        },
        "outputId": "5b7d117b-a611-4145-e10a-92b1e70b68cb"
      },
      "source": [
        "arr.astype(np.int32)"
      ],
      "execution_count": 31,
      "outputs": [
        {
          "output_type": "execute_result",
          "data": {
            "text/plain": [
              "array([ 3, -1, -2,  0, 12, 10], dtype=int32)"
            ]
          },
          "metadata": {
            "tags": []
          },
          "execution_count": 31
        }
      ]
    },
    {
      "cell_type": "code",
      "metadata": {
        "id": "xGnYLaFcAJIL",
        "colab_type": "code",
        "colab": {}
      },
      "source": [
        "numeric_string = np.array(['1.25','-9.6','42'],dtype=np.string_)"
      ],
      "execution_count": 0,
      "outputs": []
    },
    {
      "cell_type": "code",
      "metadata": {
        "id": "3aTsPz9fDb6w",
        "colab_type": "code",
        "colab": {
          "base_uri": "https://localhost:8080/",
          "height": 34
        },
        "outputId": "6f3bf5b3-ad82-4ab6-bcdf-b266ac43926d"
      },
      "source": [
        "numeric_string"
      ],
      "execution_count": 33,
      "outputs": [
        {
          "output_type": "execute_result",
          "data": {
            "text/plain": [
              "array([b'1.25', b'-9.6', b'42'], dtype='|S4')"
            ]
          },
          "metadata": {
            "tags": []
          },
          "execution_count": 33
        }
      ]
    },
    {
      "cell_type": "code",
      "metadata": {
        "id": "eR1lRR4PDcDb",
        "colab_type": "code",
        "colab": {
          "base_uri": "https://localhost:8080/",
          "height": 34
        },
        "outputId": "ef66d3fe-9976-4687-f5ce-d2a156429708"
      },
      "source": [
        "numeric_string.astype(float)"
      ],
      "execution_count": 34,
      "outputs": [
        {
          "output_type": "execute_result",
          "data": {
            "text/plain": [
              "array([ 1.25, -9.6 , 42.  ])"
            ]
          },
          "metadata": {
            "tags": []
          },
          "execution_count": 34
        }
      ]
    },
    {
      "cell_type": "code",
      "metadata": {
        "id": "QCtkMRt7DcGS",
        "colab_type": "code",
        "colab": {}
      },
      "source": [
        "int_array = np.arange(10)"
      ],
      "execution_count": 0,
      "outputs": []
    },
    {
      "cell_type": "code",
      "metadata": {
        "id": "rO-pRiIyDcJr",
        "colab_type": "code",
        "colab": {}
      },
      "source": [
        "calibers = np.array([.22,.270,.357],dtype=np.float64)"
      ],
      "execution_count": 0,
      "outputs": []
    },
    {
      "cell_type": "code",
      "metadata": {
        "id": "ET07MVi4FCIO",
        "colab_type": "code",
        "colab": {
          "base_uri": "https://localhost:8080/",
          "height": 34
        },
        "outputId": "1a61ae71-6535-4d8d-ca3b-2ec181ab7da8"
      },
      "source": [
        "int_array.astype(calibers.dtype)"
      ],
      "execution_count": 37,
      "outputs": [
        {
          "output_type": "execute_result",
          "data": {
            "text/plain": [
              "array([0., 1., 2., 3., 4., 5., 6., 7., 8., 9.])"
            ]
          },
          "metadata": {
            "tags": []
          },
          "execution_count": 37
        }
      ]
    },
    {
      "cell_type": "code",
      "metadata": {
        "id": "JSqkYK6GFCPT",
        "colab_type": "code",
        "colab": {}
      },
      "source": [
        "empty_uint32 = np.empty(8,dtype='u4')"
      ],
      "execution_count": 0,
      "outputs": []
    },
    {
      "cell_type": "code",
      "metadata": {
        "id": "j8E2HrOgFCSL",
        "colab_type": "code",
        "colab": {
          "base_uri": "https://localhost:8080/",
          "height": 34
        },
        "outputId": "6f67e486-229e-4361-cf83-13cea07d3bf8"
      },
      "source": [
        "empty_uint32"
      ],
      "execution_count": 39,
      "outputs": [
        {
          "output_type": "execute_result",
          "data": {
            "text/plain": [
              "array([1, 0, 1, 0, 1, 0, 0, 0], dtype=uint32)"
            ]
          },
          "metadata": {
            "tags": []
          },
          "execution_count": 39
        }
      ]
    },
    {
      "cell_type": "code",
      "metadata": {
        "id": "s9Lw0vzxFCXV",
        "colab_type": "code",
        "colab": {}
      },
      "source": [
        "arr = np.array([[1.,2.,3.],[4.,5.,6.]])"
      ],
      "execution_count": 0,
      "outputs": []
    },
    {
      "cell_type": "code",
      "metadata": {
        "id": "FvW3mvtMJO92",
        "colab_type": "code",
        "colab": {
          "base_uri": "https://localhost:8080/",
          "height": 50
        },
        "outputId": "4e4a4fcd-a83e-43f9-8270-cf107503fcbb"
      },
      "source": [
        "arr"
      ],
      "execution_count": 41,
      "outputs": [
        {
          "output_type": "execute_result",
          "data": {
            "text/plain": [
              "array([[1., 2., 3.],\n",
              "       [4., 5., 6.]])"
            ]
          },
          "metadata": {
            "tags": []
          },
          "execution_count": 41
        }
      ]
    },
    {
      "cell_type": "code",
      "metadata": {
        "id": "OAWXTLEzJPBP",
        "colab_type": "code",
        "colab": {
          "base_uri": "https://localhost:8080/",
          "height": 50
        },
        "outputId": "9b00c9f3-4f5f-40ae-c654-f33c8abb03d7"
      },
      "source": [
        "arr*arr"
      ],
      "execution_count": 42,
      "outputs": [
        {
          "output_type": "execute_result",
          "data": {
            "text/plain": [
              "array([[ 1.,  4.,  9.],\n",
              "       [16., 25., 36.]])"
            ]
          },
          "metadata": {
            "tags": []
          },
          "execution_count": 42
        }
      ]
    },
    {
      "cell_type": "code",
      "metadata": {
        "id": "eDEzG68FJPEw",
        "colab_type": "code",
        "colab": {
          "base_uri": "https://localhost:8080/",
          "height": 50
        },
        "outputId": "94a9d4a9-0042-4d87-8ca7-fba3f6a101dd"
      },
      "source": [
        "arr-arr"
      ],
      "execution_count": 43,
      "outputs": [
        {
          "output_type": "execute_result",
          "data": {
            "text/plain": [
              "array([[0., 0., 0.],\n",
              "       [0., 0., 0.]])"
            ]
          },
          "metadata": {
            "tags": []
          },
          "execution_count": 43
        }
      ]
    },
    {
      "cell_type": "code",
      "metadata": {
        "id": "DdH5QHuXJPIv",
        "colab_type": "code",
        "colab": {
          "base_uri": "https://localhost:8080/",
          "height": 50
        },
        "outputId": "d26b9390-b96c-474d-9cea-51908e90e233"
      },
      "source": [
        "1/arr"
      ],
      "execution_count": 44,
      "outputs": [
        {
          "output_type": "execute_result",
          "data": {
            "text/plain": [
              "array([[1.        , 0.5       , 0.33333333],\n",
              "       [0.25      , 0.2       , 0.16666667]])"
            ]
          },
          "metadata": {
            "tags": []
          },
          "execution_count": 44
        }
      ]
    },
    {
      "cell_type": "code",
      "metadata": {
        "id": "uNQUq8doJPL5",
        "colab_type": "code",
        "colab": {
          "base_uri": "https://localhost:8080/",
          "height": 50
        },
        "outputId": "337c9222-4746-4b8a-b361-17d3565ba0fd"
      },
      "source": [
        "arr**0.5"
      ],
      "execution_count": 45,
      "outputs": [
        {
          "output_type": "execute_result",
          "data": {
            "text/plain": [
              "array([[1.        , 1.41421356, 1.73205081],\n",
              "       [2.        , 2.23606798, 2.44948974]])"
            ]
          },
          "metadata": {
            "tags": []
          },
          "execution_count": 45
        }
      ]
    },
    {
      "cell_type": "code",
      "metadata": {
        "id": "fkJO5lu9JkPt",
        "colab_type": "code",
        "colab": {}
      },
      "source": [
        "arr = np.arange(10)"
      ],
      "execution_count": 0,
      "outputs": []
    },
    {
      "cell_type": "code",
      "metadata": {
        "id": "QbaIvredJkSj",
        "colab_type": "code",
        "colab": {
          "base_uri": "https://localhost:8080/",
          "height": 34
        },
        "outputId": "505caa1d-dc6e-4d46-86a0-17dc5f49f443"
      },
      "source": [
        "arr"
      ],
      "execution_count": 47,
      "outputs": [
        {
          "output_type": "execute_result",
          "data": {
            "text/plain": [
              "array([0, 1, 2, 3, 4, 5, 6, 7, 8, 9])"
            ]
          },
          "metadata": {
            "tags": []
          },
          "execution_count": 47
        }
      ]
    },
    {
      "cell_type": "code",
      "metadata": {
        "id": "SyQoJTFRJkYK",
        "colab_type": "code",
        "colab": {
          "base_uri": "https://localhost:8080/",
          "height": 34
        },
        "outputId": "6c39ddeb-0a30-4406-c0f4-68278f82b2fd"
      },
      "source": [
        "arr[5]"
      ],
      "execution_count": 48,
      "outputs": [
        {
          "output_type": "execute_result",
          "data": {
            "text/plain": [
              "5"
            ]
          },
          "metadata": {
            "tags": []
          },
          "execution_count": 48
        }
      ]
    },
    {
      "cell_type": "code",
      "metadata": {
        "id": "jlFgVgZVJkcn",
        "colab_type": "code",
        "colab": {
          "base_uri": "https://localhost:8080/",
          "height": 34
        },
        "outputId": "ae3b17ef-5250-4e22-ca9f-8b6af234e653"
      },
      "source": [
        "arr[5:8]"
      ],
      "execution_count": 49,
      "outputs": [
        {
          "output_type": "execute_result",
          "data": {
            "text/plain": [
              "array([5, 6, 7])"
            ]
          },
          "metadata": {
            "tags": []
          },
          "execution_count": 49
        }
      ]
    },
    {
      "cell_type": "code",
      "metadata": {
        "id": "tTZADFHvJkg7",
        "colab_type": "code",
        "colab": {}
      },
      "source": [
        "arr[5:8]=12"
      ],
      "execution_count": 0,
      "outputs": []
    },
    {
      "cell_type": "code",
      "metadata": {
        "id": "wVtPjz4qJkj4",
        "colab_type": "code",
        "colab": {
          "base_uri": "https://localhost:8080/",
          "height": 34
        },
        "outputId": "dfd75271-8081-422a-ecde-904985730de6"
      },
      "source": [
        "arr"
      ],
      "execution_count": 51,
      "outputs": [
        {
          "output_type": "execute_result",
          "data": {
            "text/plain": [
              "array([ 0,  1,  2,  3,  4, 12, 12, 12,  8,  9])"
            ]
          },
          "metadata": {
            "tags": []
          },
          "execution_count": 51
        }
      ]
    },
    {
      "cell_type": "code",
      "metadata": {
        "id": "hCrBzY-YRhpT",
        "colab_type": "code",
        "colab": {}
      },
      "source": [
        "arr_slice = arr[5:8]"
      ],
      "execution_count": 0,
      "outputs": []
    },
    {
      "cell_type": "code",
      "metadata": {
        "id": "Ilj2l6LeRhs6",
        "colab_type": "code",
        "colab": {}
      },
      "source": [
        "arr_slice[1]=12345"
      ],
      "execution_count": 0,
      "outputs": []
    },
    {
      "cell_type": "code",
      "metadata": {
        "id": "-YaZVSuYRhzK",
        "colab_type": "code",
        "colab": {
          "base_uri": "https://localhost:8080/",
          "height": 50
        },
        "outputId": "1700aa21-2e16-4b31-a568-b3f8aa7a6c37"
      },
      "source": [
        "arr"
      ],
      "execution_count": 54,
      "outputs": [
        {
          "output_type": "execute_result",
          "data": {
            "text/plain": [
              "array([    0,     1,     2,     3,     4,    12, 12345,    12,     8,\n",
              "           9])"
            ]
          },
          "metadata": {
            "tags": []
          },
          "execution_count": 54
        }
      ]
    },
    {
      "cell_type": "code",
      "metadata": {
        "id": "zBBRiuZCRh2n",
        "colab_type": "code",
        "colab": {}
      },
      "source": [
        "arr_slice[:]=64"
      ],
      "execution_count": 0,
      "outputs": []
    },
    {
      "cell_type": "code",
      "metadata": {
        "id": "9ivOp4WwR18Z",
        "colab_type": "code",
        "colab": {
          "base_uri": "https://localhost:8080/",
          "height": 34
        },
        "outputId": "3d289c77-d818-4078-fa32-971bb6559300"
      },
      "source": [
        "arr"
      ],
      "execution_count": 56,
      "outputs": [
        {
          "output_type": "execute_result",
          "data": {
            "text/plain": [
              "array([ 0,  1,  2,  3,  4, 64, 64, 64,  8,  9])"
            ]
          },
          "metadata": {
            "tags": []
          },
          "execution_count": 56
        }
      ]
    },
    {
      "cell_type": "code",
      "metadata": {
        "id": "XCQV23fQR1_R",
        "colab_type": "code",
        "colab": {}
      },
      "source": [
        "arr2d = np.array([[1,2,3],[4,5,6],[7,8,9]])"
      ],
      "execution_count": 0,
      "outputs": []
    },
    {
      "cell_type": "code",
      "metadata": {
        "id": "773SEeNOR2E9",
        "colab_type": "code",
        "colab": {
          "base_uri": "https://localhost:8080/",
          "height": 34
        },
        "outputId": "b03a34ab-272d-4a2c-acea-4461909af3d6"
      },
      "source": [
        "arr2d[2]"
      ],
      "execution_count": 58,
      "outputs": [
        {
          "output_type": "execute_result",
          "data": {
            "text/plain": [
              "array([7, 8, 9])"
            ]
          },
          "metadata": {
            "tags": []
          },
          "execution_count": 58
        }
      ]
    },
    {
      "cell_type": "code",
      "metadata": {
        "id": "LYx__iq_R2H4",
        "colab_type": "code",
        "colab": {
          "base_uri": "https://localhost:8080/",
          "height": 34
        },
        "outputId": "3bf3f507-4c86-40c7-8145-8ec942ec7484"
      },
      "source": [
        "arr2d[0,2]"
      ],
      "execution_count": 59,
      "outputs": [
        {
          "output_type": "execute_result",
          "data": {
            "text/plain": [
              "3"
            ]
          },
          "metadata": {
            "tags": []
          },
          "execution_count": 59
        }
      ]
    },
    {
      "cell_type": "code",
      "metadata": {
        "id": "lxyKnnQYR2KY",
        "colab_type": "code",
        "colab": {
          "base_uri": "https://localhost:8080/",
          "height": 67
        },
        "outputId": "2d3ff840-159e-494d-abe7-aa58aa5748a3"
      },
      "source": [
        "arr2d"
      ],
      "execution_count": 60,
      "outputs": [
        {
          "output_type": "execute_result",
          "data": {
            "text/plain": [
              "array([[1, 2, 3],\n",
              "       [4, 5, 6],\n",
              "       [7, 8, 9]])"
            ]
          },
          "metadata": {
            "tags": []
          },
          "execution_count": 60
        }
      ]
    },
    {
      "cell_type": "code",
      "metadata": {
        "id": "0zYCTd7TR2Nn",
        "colab_type": "code",
        "colab": {}
      },
      "source": [
        "arr3d = np.array([[[1,2,3],[4,5,6]],[[7,8,9],[10,11,12]]])"
      ],
      "execution_count": 0,
      "outputs": []
    },
    {
      "cell_type": "code",
      "metadata": {
        "id": "0YUh6-JZSw3x",
        "colab_type": "code",
        "colab": {
          "base_uri": "https://localhost:8080/",
          "height": 101
        },
        "outputId": "226b23a6-3e96-4743-b70e-151745f54187"
      },
      "source": [
        "arr3d"
      ],
      "execution_count": 80,
      "outputs": [
        {
          "output_type": "execute_result",
          "data": {
            "text/plain": [
              "array([[[ 1,  2,  3],\n",
              "        [ 4,  5,  6]],\n",
              "\n",
              "       [[ 7,  8,  9],\n",
              "        [10, 11, 12]]])"
            ]
          },
          "metadata": {
            "tags": []
          },
          "execution_count": 80
        }
      ]
    },
    {
      "cell_type": "code",
      "metadata": {
        "id": "QBqkbyE8Sw61",
        "colab_type": "code",
        "colab": {
          "base_uri": "https://localhost:8080/",
          "height": 50
        },
        "outputId": "48b1a1b7-0abb-4289-a8b1-6744f99166dc"
      },
      "source": [
        "arr3d[0]"
      ],
      "execution_count": 81,
      "outputs": [
        {
          "output_type": "execute_result",
          "data": {
            "text/plain": [
              "array([[1, 2, 3],\n",
              "       [4, 5, 6]])"
            ]
          },
          "metadata": {
            "tags": []
          },
          "execution_count": 81
        }
      ]
    },
    {
      "cell_type": "code",
      "metadata": {
        "id": "u_AgzhDRSw9b",
        "colab_type": "code",
        "colab": {}
      },
      "source": [
        "old_values = arr3d[0].copy()"
      ],
      "execution_count": 0,
      "outputs": []
    },
    {
      "cell_type": "code",
      "metadata": {
        "id": "mE_BvlFgSxAB",
        "colab_type": "code",
        "colab": {}
      },
      "source": [
        "arr3d[0]=42"
      ],
      "execution_count": 0,
      "outputs": []
    },
    {
      "cell_type": "code",
      "metadata": {
        "id": "VSAPH597SxC9",
        "colab_type": "code",
        "colab": {
          "base_uri": "https://localhost:8080/",
          "height": 101
        },
        "outputId": "ba8c75f7-fb10-4c9c-962e-37aa9a2c0940"
      },
      "source": [
        "arr3d"
      ],
      "execution_count": 84,
      "outputs": [
        {
          "output_type": "execute_result",
          "data": {
            "text/plain": [
              "array([[[42, 42, 42],\n",
              "        [42, 42, 42]],\n",
              "\n",
              "       [[ 7,  8,  9],\n",
              "        [10, 11, 12]]])"
            ]
          },
          "metadata": {
            "tags": []
          },
          "execution_count": 84
        }
      ]
    },
    {
      "cell_type": "code",
      "metadata": {
        "id": "T-m_8i-qSxF5",
        "colab_type": "code",
        "colab": {}
      },
      "source": [
        "arr3d[0] = old_values"
      ],
      "execution_count": 0,
      "outputs": []
    },
    {
      "cell_type": "code",
      "metadata": {
        "id": "_-RCmgB4TE2q",
        "colab_type": "code",
        "colab": {
          "base_uri": "https://localhost:8080/",
          "height": 101
        },
        "outputId": "73983e22-49d3-4049-cde8-51fe30416226"
      },
      "source": [
        "arr3d"
      ],
      "execution_count": 86,
      "outputs": [
        {
          "output_type": "execute_result",
          "data": {
            "text/plain": [
              "array([[[ 1,  2,  3],\n",
              "        [ 4,  5,  6]],\n",
              "\n",
              "       [[ 7,  8,  9],\n",
              "        [10, 11, 12]]])"
            ]
          },
          "metadata": {
            "tags": []
          },
          "execution_count": 86
        }
      ]
    },
    {
      "cell_type": "code",
      "metadata": {
        "id": "LeLTWvMnTE8h",
        "colab_type": "code",
        "colab": {
          "base_uri": "https://localhost:8080/",
          "height": 34
        },
        "outputId": "8ac96ef8-7599-4bee-c4ff-20f19ecdb011"
      },
      "source": [
        "arr3d[1,0]"
      ],
      "execution_count": 87,
      "outputs": [
        {
          "output_type": "execute_result",
          "data": {
            "text/plain": [
              "array([7, 8, 9])"
            ]
          },
          "metadata": {
            "tags": []
          },
          "execution_count": 87
        }
      ]
    },
    {
      "cell_type": "code",
      "metadata": {
        "id": "4UpJpnfpTE_J",
        "colab_type": "code",
        "colab": {
          "base_uri": "https://localhost:8080/",
          "height": 34
        },
        "outputId": "58a75377-24c9-4a4f-b1ed-1ae84687a1da"
      },
      "source": [
        "arr[1:6]"
      ],
      "execution_count": 88,
      "outputs": [
        {
          "output_type": "execute_result",
          "data": {
            "text/plain": [
              "array([ 1,  2,  3,  4, 64])"
            ]
          },
          "metadata": {
            "tags": []
          },
          "execution_count": 88
        }
      ]
    },
    {
      "cell_type": "code",
      "metadata": {
        "id": "3IxJofE2TFBr",
        "colab_type": "code",
        "colab": {
          "base_uri": "https://localhost:8080/",
          "height": 50
        },
        "outputId": "f5f91b68-fd32-4e23-d6a0-cf93ced942f0"
      },
      "source": [
        "arr2d[:2]"
      ],
      "execution_count": 89,
      "outputs": [
        {
          "output_type": "execute_result",
          "data": {
            "text/plain": [
              "array([[1, 2, 3],\n",
              "       [4, 5, 6]])"
            ]
          },
          "metadata": {
            "tags": []
          },
          "execution_count": 89
        }
      ]
    },
    {
      "cell_type": "code",
      "metadata": {
        "id": "ZFIlKj6KTFEd",
        "colab_type": "code",
        "colab": {
          "base_uri": "https://localhost:8080/",
          "height": 50
        },
        "outputId": "dbd22f8f-82e1-414f-f933-272bd54657cb"
      },
      "source": [
        "arr2d[:2,1:]"
      ],
      "execution_count": 90,
      "outputs": [
        {
          "output_type": "execute_result",
          "data": {
            "text/plain": [
              "array([[2, 3],\n",
              "       [5, 6]])"
            ]
          },
          "metadata": {
            "tags": []
          },
          "execution_count": 90
        }
      ]
    },
    {
      "cell_type": "code",
      "metadata": {
        "id": "QzIq0pXBUf8Q",
        "colab_type": "code",
        "colab": {
          "base_uri": "https://localhost:8080/",
          "height": 34
        },
        "outputId": "c99eee3f-b75d-4767-b799-868e8b77bdd1"
      },
      "source": [
        "arr2d[1,:2]"
      ],
      "execution_count": 91,
      "outputs": [
        {
          "output_type": "execute_result",
          "data": {
            "text/plain": [
              "array([4, 5])"
            ]
          },
          "metadata": {
            "tags": []
          },
          "execution_count": 91
        }
      ]
    },
    {
      "cell_type": "code",
      "metadata": {
        "id": "FjasXPn3UgCL",
        "colab_type": "code",
        "colab": {
          "base_uri": "https://localhost:8080/",
          "height": 34
        },
        "outputId": "69892918-6894-429b-99f5-cb94a19299df"
      },
      "source": [
        "arr2d[2,:1]"
      ],
      "execution_count": 92,
      "outputs": [
        {
          "output_type": "execute_result",
          "data": {
            "text/plain": [
              "array([7])"
            ]
          },
          "metadata": {
            "tags": []
          },
          "execution_count": 92
        }
      ]
    },
    {
      "cell_type": "code",
      "metadata": {
        "id": "79_ZUeJZUgFH",
        "colab_type": "code",
        "colab": {
          "base_uri": "https://localhost:8080/",
          "height": 67
        },
        "outputId": "e93da213-1406-4cba-b7f5-5fbb7a5f5efe"
      },
      "source": [
        "arr2d[:,:1]"
      ],
      "execution_count": 93,
      "outputs": [
        {
          "output_type": "execute_result",
          "data": {
            "text/plain": [
              "array([[1],\n",
              "       [4],\n",
              "       [7]])"
            ]
          },
          "metadata": {
            "tags": []
          },
          "execution_count": 93
        }
      ]
    },
    {
      "cell_type": "code",
      "metadata": {
        "id": "6_tukaJnUgHr",
        "colab_type": "code",
        "colab": {}
      },
      "source": [
        "arr2d[:2,1:]=0"
      ],
      "execution_count": 0,
      "outputs": []
    },
    {
      "cell_type": "code",
      "metadata": {
        "id": "uSogKVRxUgKn",
        "colab_type": "code",
        "colab": {
          "base_uri": "https://localhost:8080/",
          "height": 67
        },
        "outputId": "38463804-a60b-4ecc-c9af-1fe9d462b968"
      },
      "source": [
        "arr2d"
      ],
      "execution_count": 95,
      "outputs": [
        {
          "output_type": "execute_result",
          "data": {
            "text/plain": [
              "array([[1, 0, 0],\n",
              "       [4, 0, 0],\n",
              "       [7, 8, 9]])"
            ]
          },
          "metadata": {
            "tags": []
          },
          "execution_count": 95
        }
      ]
    },
    {
      "cell_type": "code",
      "metadata": {
        "id": "i9upcNwiUgNw",
        "colab_type": "code",
        "colab": {}
      },
      "source": [
        "names = np.array(['bob','joe','will','bob','will','joe','joe'])"
      ],
      "execution_count": 0,
      "outputs": []
    },
    {
      "cell_type": "code",
      "metadata": {
        "id": "rYkT2jvyUgY5",
        "colab_type": "code",
        "colab": {
          "base_uri": "https://localhost:8080/",
          "height": 34
        },
        "outputId": "970ec15a-7dd2-42cf-c4b2-bdc59a85977e"
      },
      "source": [
        "names"
      ],
      "execution_count": 97,
      "outputs": [
        {
          "output_type": "execute_result",
          "data": {
            "text/plain": [
              "array(['bob', 'joe', 'will', 'bob', 'will', 'joe', 'joe'], dtype='<U4')"
            ]
          },
          "metadata": {
            "tags": []
          },
          "execution_count": 97
        }
      ]
    },
    {
      "cell_type": "code",
      "metadata": {
        "id": "TFab7Fq9VaWO",
        "colab_type": "code",
        "colab": {}
      },
      "source": [
        "data = np.random.randn(7,4)"
      ],
      "execution_count": 0,
      "outputs": []
    },
    {
      "cell_type": "code",
      "metadata": {
        "id": "E_nAee2oVaZm",
        "colab_type": "code",
        "colab": {
          "base_uri": "https://localhost:8080/",
          "height": 134
        },
        "outputId": "d7deef7b-8549-48b1-a603-999d4de86c1d"
      },
      "source": [
        "data"
      ],
      "execution_count": 101,
      "outputs": [
        {
          "output_type": "execute_result",
          "data": {
            "text/plain": [
              "array([[-0.31982022, -0.41108874,  1.81064553, -0.29570284],\n",
              "       [-1.14220748,  0.38232159, -0.87353824,  1.49922984],\n",
              "       [ 0.59209967, -1.06753062,  0.54241792, -1.12609163],\n",
              "       [ 0.12100704, -0.04240849,  0.19514602, -0.06523488],\n",
              "       [ 1.94995763, -1.04259567,  2.57831576, -0.06214156],\n",
              "       [ 1.13278818, -0.0141407 , -0.12785526,  1.58758441],\n",
              "       [-0.92553062, -2.36561328, -0.39324918, -0.81401908]])"
            ]
          },
          "metadata": {
            "tags": []
          },
          "execution_count": 101
        }
      ]
    },
    {
      "cell_type": "code",
      "metadata": {
        "id": "-RI_NH6rVacd",
        "colab_type": "code",
        "colab": {
          "base_uri": "https://localhost:8080/",
          "height": 34
        },
        "outputId": "99e8e342-949f-444d-f924-388d0480c6a6"
      },
      "source": [
        "names == 'bob'"
      ],
      "execution_count": 102,
      "outputs": [
        {
          "output_type": "execute_result",
          "data": {
            "text/plain": [
              "array([ True, False, False,  True, False, False, False])"
            ]
          },
          "metadata": {
            "tags": []
          },
          "execution_count": 102
        }
      ]
    },
    {
      "cell_type": "code",
      "metadata": {
        "id": "7IkyqUtFVafE",
        "colab_type": "code",
        "colab": {
          "base_uri": "https://localhost:8080/",
          "height": 50
        },
        "outputId": "f336a99f-8e1c-4b9e-b6fb-4e8c95cb77aa"
      },
      "source": [
        "data[names == 'bob']"
      ],
      "execution_count": 103,
      "outputs": [
        {
          "output_type": "execute_result",
          "data": {
            "text/plain": [
              "array([[-0.31982022, -0.41108874,  1.81064553, -0.29570284],\n",
              "       [ 0.12100704, -0.04240849,  0.19514602, -0.06523488]])"
            ]
          },
          "metadata": {
            "tags": []
          },
          "execution_count": 103
        }
      ]
    },
    {
      "cell_type": "code",
      "metadata": {
        "id": "m7-0x5GKVah3",
        "colab_type": "code",
        "colab": {
          "base_uri": "https://localhost:8080/",
          "height": 50
        },
        "outputId": "e4e58c9d-4266-4428-96ca-523306f07d25"
      },
      "source": [
        "data[names == 'bob',2:]"
      ],
      "execution_count": 104,
      "outputs": [
        {
          "output_type": "execute_result",
          "data": {
            "text/plain": [
              "array([[ 1.81064553, -0.29570284],\n",
              "       [ 0.19514602, -0.06523488]])"
            ]
          },
          "metadata": {
            "tags": []
          },
          "execution_count": 104
        }
      ]
    },
    {
      "cell_type": "code",
      "metadata": {
        "id": "FsQJeas0Vakm",
        "colab_type": "code",
        "colab": {
          "base_uri": "https://localhost:8080/",
          "height": 34
        },
        "outputId": "cd4c6b4c-2897-4d43-a1d0-79711d482561"
      },
      "source": [
        "data[names == 'bob',3]"
      ],
      "execution_count": 105,
      "outputs": [
        {
          "output_type": "execute_result",
          "data": {
            "text/plain": [
              "array([-0.29570284, -0.06523488])"
            ]
          },
          "metadata": {
            "tags": []
          },
          "execution_count": 105
        }
      ]
    },
    {
      "cell_type": "code",
      "metadata": {
        "id": "VECh_YMLVanb",
        "colab_type": "code",
        "colab": {
          "base_uri": "https://localhost:8080/",
          "height": 34
        },
        "outputId": "75a8141b-0a0e-4f0e-855a-5a705b05a5aa"
      },
      "source": [
        "names !='bob'"
      ],
      "execution_count": 106,
      "outputs": [
        {
          "output_type": "execute_result",
          "data": {
            "text/plain": [
              "array([False,  True,  True, False,  True,  True,  True])"
            ]
          },
          "metadata": {
            "tags": []
          },
          "execution_count": 106
        }
      ]
    },
    {
      "cell_type": "code",
      "metadata": {
        "id": "JMGpw5EJVatb",
        "colab_type": "code",
        "colab": {
          "base_uri": "https://localhost:8080/",
          "height": 101
        },
        "outputId": "2e51ba99-80e5-4932-db6c-8207c359a4ca"
      },
      "source": [
        "data[~(names == 'bob')]"
      ],
      "execution_count": 109,
      "outputs": [
        {
          "output_type": "execute_result",
          "data": {
            "text/plain": [
              "array([[-1.14220748,  0.38232159, -0.87353824,  1.49922984],\n",
              "       [ 0.59209967, -1.06753062,  0.54241792, -1.12609163],\n",
              "       [ 1.94995763, -1.04259567,  2.57831576, -0.06214156],\n",
              "       [ 1.13278818, -0.0141407 , -0.12785526,  1.58758441],\n",
              "       [-0.92553062, -2.36561328, -0.39324918, -0.81401908]])"
            ]
          },
          "metadata": {
            "tags": []
          },
          "execution_count": 109
        }
      ]
    },
    {
      "cell_type": "code",
      "metadata": {
        "id": "p-tUYW5oVawq",
        "colab_type": "code",
        "colab": {}
      },
      "source": [
        "mask = [names == 'bob']|(names == 'will')"
      ],
      "execution_count": 0,
      "outputs": []
    },
    {
      "cell_type": "code",
      "metadata": {
        "id": "9raazP_LXAnQ",
        "colab_type": "code",
        "colab": {
          "base_uri": "https://localhost:8080/",
          "height": 34
        },
        "outputId": "595defa9-2c5c-43c2-c481-05c8798bb765"
      },
      "source": [
        "mask"
      ],
      "execution_count": 115,
      "outputs": [
        {
          "output_type": "execute_result",
          "data": {
            "text/plain": [
              "array([[ True, False,  True,  True,  True, False, False]])"
            ]
          },
          "metadata": {
            "tags": []
          },
          "execution_count": 115
        }
      ]
    },
    {
      "cell_type": "code",
      "metadata": {
        "id": "y8pWr8jTXAs4",
        "colab_type": "code",
        "colab": {
          "base_uri": "https://localhost:8080/",
          "height": 134
        },
        "outputId": "2ff47de4-e7ac-4cd7-d2e5-b64644d92199"
      },
      "source": [
        "data"
      ],
      "execution_count": 116,
      "outputs": [
        {
          "output_type": "execute_result",
          "data": {
            "text/plain": [
              "array([[-0.31982022, -0.41108874,  1.81064553, -0.29570284],\n",
              "       [-1.14220748,  0.38232159, -0.87353824,  1.49922984],\n",
              "       [ 0.59209967, -1.06753062,  0.54241792, -1.12609163],\n",
              "       [ 0.12100704, -0.04240849,  0.19514602, -0.06523488],\n",
              "       [ 1.94995763, -1.04259567,  2.57831576, -0.06214156],\n",
              "       [ 1.13278818, -0.0141407 , -0.12785526,  1.58758441],\n",
              "       [-0.92553062, -2.36561328, -0.39324918, -0.81401908]])"
            ]
          },
          "metadata": {
            "tags": []
          },
          "execution_count": 116
        }
      ]
    },
    {
      "cell_type": "code",
      "metadata": {
        "id": "tnKjZYQWXAva",
        "colab_type": "code",
        "colab": {
          "base_uri": "https://localhost:8080/",
          "height": 84
        },
        "outputId": "0aba22a3-0380-4c27-c3b5-e1bcafb249c3"
      },
      "source": [
        "data[mask[0]]"
      ],
      "execution_count": 121,
      "outputs": [
        {
          "output_type": "execute_result",
          "data": {
            "text/plain": [
              "array([[-0.31982022, -0.41108874,  1.81064553, -0.29570284],\n",
              "       [ 0.59209967, -1.06753062,  0.54241792, -1.12609163],\n",
              "       [ 0.12100704, -0.04240849,  0.19514602, -0.06523488],\n",
              "       [ 1.94995763, -1.04259567,  2.57831576, -0.06214156]])"
            ]
          },
          "metadata": {
            "tags": []
          },
          "execution_count": 121
        }
      ]
    },
    {
      "cell_type": "code",
      "metadata": {
        "id": "7W0okq2LXAx3",
        "colab_type": "code",
        "colab": {}
      },
      "source": [
        "data[data<0]=0"
      ],
      "execution_count": 0,
      "outputs": []
    },
    {
      "cell_type": "code",
      "metadata": {
        "id": "Ui24MIjZXA0t",
        "colab_type": "code",
        "colab": {
          "base_uri": "https://localhost:8080/",
          "height": 134
        },
        "outputId": "3acb358b-c597-41d0-c735-0bcc99f272fe"
      },
      "source": [
        "data"
      ],
      "execution_count": 123,
      "outputs": [
        {
          "output_type": "execute_result",
          "data": {
            "text/plain": [
              "array([[0.        , 0.        , 1.81064553, 0.        ],\n",
              "       [0.        , 0.38232159, 0.        , 1.49922984],\n",
              "       [0.59209967, 0.        , 0.54241792, 0.        ],\n",
              "       [0.12100704, 0.        , 0.19514602, 0.        ],\n",
              "       [1.94995763, 0.        , 2.57831576, 0.        ],\n",
              "       [1.13278818, 0.        , 0.        , 1.58758441],\n",
              "       [0.        , 0.        , 0.        , 0.        ]])"
            ]
          },
          "metadata": {
            "tags": []
          },
          "execution_count": 123
        }
      ]
    },
    {
      "cell_type": "code",
      "metadata": {
        "id": "poU6ntZKXA3l",
        "colab_type": "code",
        "colab": {}
      },
      "source": [
        "data[names != 'joe']=7"
      ],
      "execution_count": 0,
      "outputs": []
    },
    {
      "cell_type": "code",
      "metadata": {
        "id": "NbtPGywmXA6K",
        "colab_type": "code",
        "colab": {
          "base_uri": "https://localhost:8080/",
          "height": 134
        },
        "outputId": "b3b1cbc2-5457-4ec7-cbca-66ec25c1366d"
      },
      "source": [
        "data"
      ],
      "execution_count": 125,
      "outputs": [
        {
          "output_type": "execute_result",
          "data": {
            "text/plain": [
              "array([[7.        , 7.        , 7.        , 7.        ],\n",
              "       [0.        , 0.38232159, 0.        , 1.49922984],\n",
              "       [7.        , 7.        , 7.        , 7.        ],\n",
              "       [7.        , 7.        , 7.        , 7.        ],\n",
              "       [7.        , 7.        , 7.        , 7.        ],\n",
              "       [1.13278818, 0.        , 0.        , 1.58758441],\n",
              "       [0.        , 0.        , 0.        , 0.        ]])"
            ]
          },
          "metadata": {
            "tags": []
          },
          "execution_count": 125
        }
      ]
    },
    {
      "cell_type": "code",
      "metadata": {
        "id": "OkvKyp5cXA9F",
        "colab_type": "code",
        "colab": {}
      },
      "source": [
        "arr = np.empty((8,4))"
      ],
      "execution_count": 0,
      "outputs": []
    },
    {
      "cell_type": "code",
      "metadata": {
        "id": "Zfc1FDPpXBAR",
        "colab_type": "code",
        "colab": {}
      },
      "source": [
        "for i in range(8):\n",
        "  arr[i]=i"
      ],
      "execution_count": 0,
      "outputs": []
    },
    {
      "cell_type": "code",
      "metadata": {
        "id": "KglD7wpTYoBV",
        "colab_type": "code",
        "colab": {
          "base_uri": "https://localhost:8080/",
          "height": 151
        },
        "outputId": "ecf15126-94ad-4c4a-a535-d8ec3c220350"
      },
      "source": [
        "arr"
      ],
      "execution_count": 128,
      "outputs": [
        {
          "output_type": "execute_result",
          "data": {
            "text/plain": [
              "array([[0., 0., 0., 0.],\n",
              "       [1., 1., 1., 1.],\n",
              "       [2., 2., 2., 2.],\n",
              "       [3., 3., 3., 3.],\n",
              "       [4., 4., 4., 4.],\n",
              "       [5., 5., 5., 5.],\n",
              "       [6., 6., 6., 6.],\n",
              "       [7., 7., 7., 7.]])"
            ]
          },
          "metadata": {
            "tags": []
          },
          "execution_count": 128
        }
      ]
    },
    {
      "cell_type": "code",
      "metadata": {
        "id": "MCe8hZn4YoEQ",
        "colab_type": "code",
        "colab": {
          "base_uri": "https://localhost:8080/",
          "height": 84
        },
        "outputId": "4bbf7f0f-d658-47ab-8b88-4eda65d60711"
      },
      "source": [
        "arr[[4,3,0,6]]"
      ],
      "execution_count": 129,
      "outputs": [
        {
          "output_type": "execute_result",
          "data": {
            "text/plain": [
              "array([[4., 4., 4., 4.],\n",
              "       [3., 3., 3., 3.],\n",
              "       [0., 0., 0., 0.],\n",
              "       [6., 6., 6., 6.]])"
            ]
          },
          "metadata": {
            "tags": []
          },
          "execution_count": 129
        }
      ]
    },
    {
      "cell_type": "code",
      "metadata": {
        "id": "ndbiiVkaYoMf",
        "colab_type": "code",
        "colab": {
          "base_uri": "https://localhost:8080/",
          "height": 67
        },
        "outputId": "aee7af38-4c08-4b24-d1f7-3fc8c7b5a718"
      },
      "source": [
        "arr[[-3,-5,-7]]"
      ],
      "execution_count": 130,
      "outputs": [
        {
          "output_type": "execute_result",
          "data": {
            "text/plain": [
              "array([[5., 5., 5., 5.],\n",
              "       [3., 3., 3., 3.],\n",
              "       [1., 1., 1., 1.]])"
            ]
          },
          "metadata": {
            "tags": []
          },
          "execution_count": 130
        }
      ]
    },
    {
      "cell_type": "code",
      "metadata": {
        "id": "DDZKv1nFYoPt",
        "colab_type": "code",
        "colab": {}
      },
      "source": [
        "arr = np.arange(32).reshape((8,4))"
      ],
      "execution_count": 0,
      "outputs": []
    },
    {
      "cell_type": "code",
      "metadata": {
        "id": "7GTPWYtbYoK1",
        "colab_type": "code",
        "colab": {
          "base_uri": "https://localhost:8080/",
          "height": 151
        },
        "outputId": "6541e9c9-c56c-4bc9-e11a-bdfb4812bec9"
      },
      "source": [
        "arr"
      ],
      "execution_count": 132,
      "outputs": [
        {
          "output_type": "execute_result",
          "data": {
            "text/plain": [
              "array([[ 0,  1,  2,  3],\n",
              "       [ 4,  5,  6,  7],\n",
              "       [ 8,  9, 10, 11],\n",
              "       [12, 13, 14, 15],\n",
              "       [16, 17, 18, 19],\n",
              "       [20, 21, 22, 23],\n",
              "       [24, 25, 26, 27],\n",
              "       [28, 29, 30, 31]])"
            ]
          },
          "metadata": {
            "tags": []
          },
          "execution_count": 132
        }
      ]
    },
    {
      "cell_type": "code",
      "metadata": {
        "id": "bHSX5zEtZSNw",
        "colab_type": "code",
        "colab": {
          "base_uri": "https://localhost:8080/",
          "height": 84
        },
        "outputId": "2ece2030-aeec-4d59-a583-fe5f444ffd03"
      },
      "source": [
        "arr[[1,5,7,2]][:,[0,3,1,2]]"
      ],
      "execution_count": 133,
      "outputs": [
        {
          "output_type": "execute_result",
          "data": {
            "text/plain": [
              "array([[ 4,  7,  5,  6],\n",
              "       [20, 23, 21, 22],\n",
              "       [28, 31, 29, 30],\n",
              "       [ 8, 11,  9, 10]])"
            ]
          },
          "metadata": {
            "tags": []
          },
          "execution_count": 133
        }
      ]
    },
    {
      "cell_type": "code",
      "metadata": {
        "id": "GbRZilFaZSV4",
        "colab_type": "code",
        "colab": {
          "base_uri": "https://localhost:8080/",
          "height": 34
        },
        "outputId": "74933bab-101e-422a-ecf9-b1ec1e8c3ed7"
      },
      "source": [
        "arr[[1,5,7,2],[0,3,1,2]]"
      ],
      "execution_count": 134,
      "outputs": [
        {
          "output_type": "execute_result",
          "data": {
            "text/plain": [
              "array([ 4, 23, 29, 10])"
            ]
          },
          "metadata": {
            "tags": []
          },
          "execution_count": 134
        }
      ]
    },
    {
      "cell_type": "code",
      "metadata": {
        "id": "xCcT10sHZSZQ",
        "colab_type": "code",
        "colab": {
          "base_uri": "https://localhost:8080/",
          "height": 84
        },
        "outputId": "27608d8b-e269-4970-b4b7-24143d18525e"
      },
      "source": [
        "arr[np.ix_([1,5,7,2],[0,3,1,2])]"
      ],
      "execution_count": 136,
      "outputs": [
        {
          "output_type": "execute_result",
          "data": {
            "text/plain": [
              "array([[ 4,  7,  5,  6],\n",
              "       [20, 23, 21, 22],\n",
              "       [28, 31, 29, 30],\n",
              "       [ 8, 11,  9, 10]])"
            ]
          },
          "metadata": {
            "tags": []
          },
          "execution_count": 136
        }
      ]
    },
    {
      "cell_type": "code",
      "metadata": {
        "id": "Ql20xEczZSes",
        "colab_type": "code",
        "colab": {}
      },
      "source": [
        "arr = np.arange(15).reshape((3,5))"
      ],
      "execution_count": 0,
      "outputs": []
    },
    {
      "cell_type": "code",
      "metadata": {
        "id": "vmHdKeWPZShr",
        "colab_type": "code",
        "colab": {
          "base_uri": "https://localhost:8080/",
          "height": 67
        },
        "outputId": "23a3ad23-3c36-4cd1-dc6f-beb0665eb372"
      },
      "source": [
        "arr"
      ],
      "execution_count": 138,
      "outputs": [
        {
          "output_type": "execute_result",
          "data": {
            "text/plain": [
              "array([[ 0,  1,  2,  3,  4],\n",
              "       [ 5,  6,  7,  8,  9],\n",
              "       [10, 11, 12, 13, 14]])"
            ]
          },
          "metadata": {
            "tags": []
          },
          "execution_count": 138
        }
      ]
    },
    {
      "cell_type": "code",
      "metadata": {
        "id": "mYs_R4U2ZSkp",
        "colab_type": "code",
        "colab": {
          "base_uri": "https://localhost:8080/",
          "height": 101
        },
        "outputId": "69b21436-b05b-41c3-b925-62630d48a324"
      },
      "source": [
        "arr.T"
      ],
      "execution_count": 139,
      "outputs": [
        {
          "output_type": "execute_result",
          "data": {
            "text/plain": [
              "array([[ 0,  5, 10],\n",
              "       [ 1,  6, 11],\n",
              "       [ 2,  7, 12],\n",
              "       [ 3,  8, 13],\n",
              "       [ 4,  9, 14]])"
            ]
          },
          "metadata": {
            "tags": []
          },
          "execution_count": 139
        }
      ]
    },
    {
      "cell_type": "code",
      "metadata": {
        "id": "VvKUWLEtZSb_",
        "colab_type": "code",
        "colab": {}
      },
      "source": [
        "arr = np.random.randn(6,3)"
      ],
      "execution_count": 0,
      "outputs": []
    },
    {
      "cell_type": "code",
      "metadata": {
        "id": "CENohJ_jakui",
        "colab_type": "code",
        "colab": {
          "base_uri": "https://localhost:8080/",
          "height": 67
        },
        "outputId": "d5b8536c-cba7-407d-897e-69c3ea0de441"
      },
      "source": [
        "np.dot(arr.T,arr)"
      ],
      "execution_count": 142,
      "outputs": [
        {
          "output_type": "execute_result",
          "data": {
            "text/plain": [
              "array([[ 7.34334822,  0.08259229, -4.22153363],\n",
              "       [ 0.08259229,  2.71899764,  1.15865801],\n",
              "       [-4.22153363,  1.15865801, 10.82755301]])"
            ]
          },
          "metadata": {
            "tags": []
          },
          "execution_count": 142
        }
      ]
    },
    {
      "cell_type": "code",
      "metadata": {
        "id": "dinnWh62akxd",
        "colab_type": "code",
        "colab": {
          "base_uri": "https://localhost:8080/",
          "height": 67
        },
        "outputId": "9373ab8e-8bb3-4063-c27d-45f41a01468d"
      },
      "source": [
        "arr.T.dot(arr)"
      ],
      "execution_count": 143,
      "outputs": [
        {
          "output_type": "execute_result",
          "data": {
            "text/plain": [
              "array([[ 7.34334822,  0.08259229, -4.22153363],\n",
              "       [ 0.08259229,  2.71899764,  1.15865801],\n",
              "       [-4.22153363,  1.15865801, 10.82755301]])"
            ]
          },
          "metadata": {
            "tags": []
          },
          "execution_count": 143
        }
      ]
    },
    {
      "cell_type": "code",
      "metadata": {
        "id": "lBxbFAgwak3z",
        "colab_type": "code",
        "colab": {}
      },
      "source": [
        "arr = np.arange(16).reshape((2,2,4))"
      ],
      "execution_count": 0,
      "outputs": []
    },
    {
      "cell_type": "code",
      "metadata": {
        "id": "OgefAU7vak6_",
        "colab_type": "code",
        "colab": {
          "base_uri": "https://localhost:8080/",
          "height": 101
        },
        "outputId": "a160fc83-ce53-41b4-e5df-1fe35b9de188"
      },
      "source": [
        "arr"
      ],
      "execution_count": 146,
      "outputs": [
        {
          "output_type": "execute_result",
          "data": {
            "text/plain": [
              "array([[[ 0,  1,  2,  3],\n",
              "        [ 4,  5,  6,  7]],\n",
              "\n",
              "       [[ 8,  9, 10, 11],\n",
              "        [12, 13, 14, 15]]])"
            ]
          },
          "metadata": {
            "tags": []
          },
          "execution_count": 146
        }
      ]
    },
    {
      "cell_type": "code",
      "metadata": {
        "id": "lXr0CUxcbDrD",
        "colab_type": "code",
        "colab": {
          "base_uri": "https://localhost:8080/",
          "height": 101
        },
        "outputId": "ff4d75a3-ab82-4aaf-f565-d957d3923f5d"
      },
      "source": [
        "arr.transpose((1,0,2))"
      ],
      "execution_count": 147,
      "outputs": [
        {
          "output_type": "execute_result",
          "data": {
            "text/plain": [
              "array([[[ 0,  1,  2,  3],\n",
              "        [ 8,  9, 10, 11]],\n",
              "\n",
              "       [[ 4,  5,  6,  7],\n",
              "        [12, 13, 14, 15]]])"
            ]
          },
          "metadata": {
            "tags": []
          },
          "execution_count": 147
        }
      ]
    },
    {
      "cell_type": "code",
      "metadata": {
        "id": "bx-fI9QUbDuo",
        "colab_type": "code",
        "colab": {
          "base_uri": "https://localhost:8080/",
          "height": 101
        },
        "outputId": "aff8a5c4-4a02-4fe5-88f4-43c308cb7699"
      },
      "source": [
        "arr"
      ],
      "execution_count": 148,
      "outputs": [
        {
          "output_type": "execute_result",
          "data": {
            "text/plain": [
              "array([[[ 0,  1,  2,  3],\n",
              "        [ 4,  5,  6,  7]],\n",
              "\n",
              "       [[ 8,  9, 10, 11],\n",
              "        [12, 13, 14, 15]]])"
            ]
          },
          "metadata": {
            "tags": []
          },
          "execution_count": 148
        }
      ]
    },
    {
      "cell_type": "code",
      "metadata": {
        "id": "hPlbSft2bDxr",
        "colab_type": "code",
        "colab": {
          "base_uri": "https://localhost:8080/",
          "height": 168
        },
        "outputId": "176a2bd9-82f3-41b4-f550-c1d27388f55d"
      },
      "source": [
        "arr.swapaxes(1,2)"
      ],
      "execution_count": 149,
      "outputs": [
        {
          "output_type": "execute_result",
          "data": {
            "text/plain": [
              "array([[[ 0,  4],\n",
              "        [ 1,  5],\n",
              "        [ 2,  6],\n",
              "        [ 3,  7]],\n",
              "\n",
              "       [[ 8, 12],\n",
              "        [ 9, 13],\n",
              "        [10, 14],\n",
              "        [11, 15]]])"
            ]
          },
          "metadata": {
            "tags": []
          },
          "execution_count": 149
        }
      ]
    },
    {
      "cell_type": "code",
      "metadata": {
        "id": "XBY1UgimbD5u",
        "colab_type": "code",
        "colab": {}
      },
      "source": [
        "arr = np.arange(10)"
      ],
      "execution_count": 0,
      "outputs": []
    },
    {
      "cell_type": "code",
      "metadata": {
        "id": "dIguoHwnbD8W",
        "colab_type": "code",
        "colab": {
          "base_uri": "https://localhost:8080/",
          "height": 50
        },
        "outputId": "1e203973-c902-43a3-8573-301a51bf5a25"
      },
      "source": [
        "np.sqrt(arr)"
      ],
      "execution_count": 152,
      "outputs": [
        {
          "output_type": "execute_result",
          "data": {
            "text/plain": [
              "array([0.        , 1.        , 1.41421356, 1.73205081, 2.        ,\n",
              "       2.23606798, 2.44948974, 2.64575131, 2.82842712, 3.        ])"
            ]
          },
          "metadata": {
            "tags": []
          },
          "execution_count": 152
        }
      ]
    },
    {
      "cell_type": "code",
      "metadata": {
        "id": "IMkvWbk7bD_o",
        "colab_type": "code",
        "colab": {
          "base_uri": "https://localhost:8080/",
          "height": 67
        },
        "outputId": "f2815d10-0a82-49c8-d67f-66d7a847a497"
      },
      "source": [
        "np.exp(arr)"
      ],
      "execution_count": 154,
      "outputs": [
        {
          "output_type": "execute_result",
          "data": {
            "text/plain": [
              "array([1.00000000e+00, 2.71828183e+00, 7.38905610e+00, 2.00855369e+01,\n",
              "       5.45981500e+01, 1.48413159e+02, 4.03428793e+02, 1.09663316e+03,\n",
              "       2.98095799e+03, 8.10308393e+03])"
            ]
          },
          "metadata": {
            "tags": []
          },
          "execution_count": 154
        }
      ]
    },
    {
      "cell_type": "code",
      "metadata": {
        "id": "jddsAZRybyVd",
        "colab_type": "code",
        "colab": {}
      },
      "source": [
        "x = np.random.randn(8)\n",
        "y = np.random.randn(8)"
      ],
      "execution_count": 0,
      "outputs": []
    },
    {
      "cell_type": "code",
      "metadata": {
        "id": "XINAxrzTbyYZ",
        "colab_type": "code",
        "colab": {
          "base_uri": "https://localhost:8080/",
          "height": 50
        },
        "outputId": "cfcac429-bd14-4739-a711-9fdd539278da"
      },
      "source": [
        "x"
      ],
      "execution_count": 156,
      "outputs": [
        {
          "output_type": "execute_result",
          "data": {
            "text/plain": [
              "array([ 0.249703  ,  1.28672014, -0.06551858, -0.37943254, -1.13217416,\n",
              "        1.48978033,  0.12202034, -0.08831614])"
            ]
          },
          "metadata": {
            "tags": []
          },
          "execution_count": 156
        }
      ]
    },
    {
      "cell_type": "code",
      "metadata": {
        "id": "tUPaOonobyeD",
        "colab_type": "code",
        "colab": {
          "base_uri": "https://localhost:8080/",
          "height": 50
        },
        "outputId": "74b596e5-b451-4809-af9a-9ccea36d8775"
      },
      "source": [
        "y"
      ],
      "execution_count": 157,
      "outputs": [
        {
          "output_type": "execute_result",
          "data": {
            "text/plain": [
              "array([-0.52841651, -0.12557069, -0.62010718, -0.09220707, -0.81222284,\n",
              "        2.62629567,  0.71268015, -0.62449529])"
            ]
          },
          "metadata": {
            "tags": []
          },
          "execution_count": 157
        }
      ]
    },
    {
      "cell_type": "code",
      "metadata": {
        "id": "xurgDJdpbylv",
        "colab_type": "code",
        "colab": {
          "base_uri": "https://localhost:8080/",
          "height": 50
        },
        "outputId": "c6d137e8-2a5b-44ba-f049-4ce7830ac0d5"
      },
      "source": [
        "np.maximum(x,y)"
      ],
      "execution_count": 159,
      "outputs": [
        {
          "output_type": "execute_result",
          "data": {
            "text/plain": [
              "array([ 0.249703  ,  1.28672014, -0.06551858, -0.09220707, -0.81222284,\n",
              "        2.62629567,  0.71268015, -0.08831614])"
            ]
          },
          "metadata": {
            "tags": []
          },
          "execution_count": 159
        }
      ]
    },
    {
      "cell_type": "code",
      "metadata": {
        "id": "GbR9DW0ObybW",
        "colab_type": "code",
        "colab": {}
      },
      "source": [
        "arr = np.random.randn(7)*5"
      ],
      "execution_count": 0,
      "outputs": []
    },
    {
      "cell_type": "code",
      "metadata": {
        "id": "7KAM_XB5bD4H",
        "colab_type": "code",
        "colab": {
          "base_uri": "https://localhost:8080/",
          "height": 50
        },
        "outputId": "699e6ba6-47cb-4911-e754-cb01d9f0990b"
      },
      "source": [
        "arr"
      ],
      "execution_count": 162,
      "outputs": [
        {
          "output_type": "execute_result",
          "data": {
            "text/plain": [
              "array([ 3.2893321 , -3.62395496,  2.98013938, -6.25026045, -0.63709581,\n",
              "        3.22623655, -2.57197007])"
            ]
          },
          "metadata": {
            "tags": []
          },
          "execution_count": 162
        }
      ]
    },
    {
      "cell_type": "code",
      "metadata": {
        "id": "deGlnZZicZcs",
        "colab_type": "code",
        "colab": {
          "base_uri": "https://localhost:8080/",
          "height": 50
        },
        "outputId": "a0663879-c917-4792-e0a9-f2c48c78ffc7"
      },
      "source": [
        "np.modf(arr)"
      ],
      "execution_count": 163,
      "outputs": [
        {
          "output_type": "execute_result",
          "data": {
            "text/plain": [
              "(array([ 0.2893321 , -0.62395496,  0.98013938, -0.25026045, -0.63709581,\n",
              "         0.22623655, -0.57197007]), array([ 3., -3.,  2., -6., -0.,  3., -2.]))"
            ]
          },
          "metadata": {
            "tags": []
          },
          "execution_count": 163
        }
      ]
    },
    {
      "cell_type": "code",
      "metadata": {
        "id": "tPlZM8BMcZid",
        "colab_type": "code",
        "colab": {}
      },
      "source": [
        "points = np.arange(-5,5,0.01)"
      ],
      "execution_count": 0,
      "outputs": []
    },
    {
      "cell_type": "code",
      "metadata": {
        "id": "MxiBocGecZmB",
        "colab_type": "code",
        "colab": {}
      },
      "source": [
        "xs,ys = np.meshgrid(points,points)"
      ],
      "execution_count": 0,
      "outputs": []
    },
    {
      "cell_type": "code",
      "metadata": {
        "id": "PaOoVgEEcZpA",
        "colab_type": "code",
        "colab": {
          "base_uri": "https://localhost:8080/",
          "height": 134
        },
        "outputId": "d964368b-72d5-47a0-d70b-8af19fd8ce8e"
      },
      "source": [
        "ys"
      ],
      "execution_count": 166,
      "outputs": [
        {
          "output_type": "execute_result",
          "data": {
            "text/plain": [
              "array([[-5.  , -5.  , -5.  , ..., -5.  , -5.  , -5.  ],\n",
              "       [-4.99, -4.99, -4.99, ..., -4.99, -4.99, -4.99],\n",
              "       [-4.98, -4.98, -4.98, ..., -4.98, -4.98, -4.98],\n",
              "       ...,\n",
              "       [ 4.97,  4.97,  4.97, ...,  4.97,  4.97,  4.97],\n",
              "       [ 4.98,  4.98,  4.98, ...,  4.98,  4.98,  4.98],\n",
              "       [ 4.99,  4.99,  4.99, ...,  4.99,  4.99,  4.99]])"
            ]
          },
          "metadata": {
            "tags": []
          },
          "execution_count": 166
        }
      ]
    },
    {
      "cell_type": "code",
      "metadata": {
        "id": "nVLNEFSlcZsU",
        "colab_type": "code",
        "colab": {}
      },
      "source": [
        "import matplotlib.pyplot as plt\n",
        "#%matplotlib inline"
      ],
      "execution_count": 0,
      "outputs": []
    },
    {
      "cell_type": "code",
      "metadata": {
        "id": "GKZIcJAxdiEG",
        "colab_type": "code",
        "colab": {}
      },
      "source": [
        "z = np.sqrt(xs**2+ys**2)"
      ],
      "execution_count": 0,
      "outputs": []
    },
    {
      "cell_type": "code",
      "metadata": {
        "id": "qG7Gwt5YdiHb",
        "colab_type": "code",
        "colab": {
          "base_uri": "https://localhost:8080/",
          "height": 235
        },
        "outputId": "68226189-b25b-4723-ac89-e47106b4f68f"
      },
      "source": [
        "z"
      ],
      "execution_count": 169,
      "outputs": [
        {
          "output_type": "execute_result",
          "data": {
            "text/plain": [
              "array([[7.07106781, 7.06400028, 7.05693985, ..., 7.04988652, 7.05693985,\n",
              "        7.06400028],\n",
              "       [7.06400028, 7.05692568, 7.04985815, ..., 7.04279774, 7.04985815,\n",
              "        7.05692568],\n",
              "       [7.05693985, 7.04985815, 7.04278354, ..., 7.03571603, 7.04278354,\n",
              "        7.04985815],\n",
              "       ...,\n",
              "       [7.04988652, 7.04279774, 7.03571603, ..., 7.0286414 , 7.03571603,\n",
              "        7.04279774],\n",
              "       [7.05693985, 7.04985815, 7.04278354, ..., 7.03571603, 7.04278354,\n",
              "        7.04985815],\n",
              "       [7.06400028, 7.05692568, 7.04985815, ..., 7.04279774, 7.04985815,\n",
              "        7.05692568]])"
            ]
          },
          "metadata": {
            "tags": []
          },
          "execution_count": 169
        }
      ]
    },
    {
      "cell_type": "code",
      "metadata": {
        "id": "UIcP8e6cdjHm",
        "colab_type": "code",
        "colab": {
          "base_uri": "https://localhost:8080/",
          "height": 286
        },
        "outputId": "a976ddc0-ae07-49ba-e1fb-360506ee24b6"
      },
      "source": [
        "plt.imshow(z,cmap=plt.cm.gray);plt.colorbar()"
      ],
      "execution_count": 172,
      "outputs": [
        {
          "output_type": "execute_result",
          "data": {
            "text/plain": [
              "<matplotlib.colorbar.Colorbar at 0x7f0ca69a8ef0>"
            ]
          },
          "metadata": {
            "tags": []
          },
          "execution_count": 172
        },
        {
          "output_type": "display_data",
          "data": {
            "image/png": "[encoded data removed]",
            "text/plain": [
              "<Figure size 432x288 with 2 Axes>"
            ]
          },
          "metadata": {
            "tags": []
          }
        }
      ]
    },
    {
      "cell_type": "code",
      "metadata": {
        "id": "WiRy5AS7djKn",
        "colab_type": "code",
        "colab": {}
      },
      "source": [
        "xarr = np.array([1.1,1.2,1.3,1.4,1.5])\n",
        "yarr = np.array([2.1,2.2,2.3,2.4,2.5])"
      ],
      "execution_count": 0,
      "outputs": []
    },
    {
      "cell_type": "code",
      "metadata": {
        "id": "q4GrwKOydjOG",
        "colab_type": "code",
        "colab": {}
      },
      "source": [
        "cond = np.array([True,False,True,True,False])"
      ],
      "execution_count": 0,
      "outputs": []
    },
    {
      "cell_type": "code",
      "metadata": {
        "id": "KajJeDNkeYmY",
        "colab_type": "code",
        "colab": {}
      },
      "source": [
        "result = [(x if c else y)for x,y,c in zip(xarr,yarr,cond)]"
      ],
      "execution_count": 0,
      "outputs": []
    },
    {
      "cell_type": "code",
      "metadata": {
        "id": "wAg6XxxteYux",
        "colab_type": "code",
        "colab": {
          "base_uri": "https://localhost:8080/",
          "height": 34
        },
        "outputId": "35479e14-c6e7-44d0-d6b6-2f2cd2560068"
      },
      "source": [
        "result"
      ],
      "execution_count": 176,
      "outputs": [
        {
          "output_type": "execute_result",
          "data": {
            "text/plain": [
              "[1.1, 2.2, 1.3, 1.4, 2.5]"
            ]
          },
          "metadata": {
            "tags": []
          },
          "execution_count": 176
        }
      ]
    },
    {
      "cell_type": "code",
      "metadata": {
        "id": "ldbQuax3eY0t",
        "colab_type": "code",
        "colab": {}
      },
      "source": [
        "result = np.where(cond,xarr,yarr)"
      ],
      "execution_count": 0,
      "outputs": []
    },
    {
      "cell_type": "code",
      "metadata": {
        "id": "yEgVzdpYeYxz",
        "colab_type": "code",
        "colab": {
          "base_uri": "https://localhost:8080/",
          "height": 34
        },
        "outputId": "2a573d32-f09a-452c-c9cc-509ebbc0d30d"
      },
      "source": [
        "result"
      ],
      "execution_count": 178,
      "outputs": [
        {
          "output_type": "execute_result",
          "data": {
            "text/plain": [
              "array([1.1, 2.2, 1.3, 1.4, 2.5])"
            ]
          },
          "metadata": {
            "tags": []
          },
          "execution_count": 178
        }
      ]
    },
    {
      "cell_type": "code",
      "metadata": {
        "id": "aFxj8AyjeYr_",
        "colab_type": "code",
        "colab": {}
      },
      "source": [
        "arr = np.random.randn(4,4)"
      ],
      "execution_count": 0,
      "outputs": []
    },
    {
      "cell_type": "code",
      "metadata": {
        "id": "-SEtHGRrfJYN",
        "colab_type": "code",
        "colab": {
          "base_uri": "https://localhost:8080/",
          "height": 84
        },
        "outputId": "255e72ff-1277-40e9-9dc8-bdf159bba15a"
      },
      "source": [
        "arr"
      ],
      "execution_count": 180,
      "outputs": [
        {
          "output_type": "execute_result",
          "data": {
            "text/plain": [
              "array([[-0.12268514,  0.49173007,  0.81969982,  0.69545726],\n",
              "       [ 1.30513104, -0.54021741,  1.10977483, -0.22475897],\n",
              "       [ 0.27094544, -0.04317279,  0.05192962, -1.63458391],\n",
              "       [-0.07917023,  0.42916713, -1.13630915,  1.19277402]])"
            ]
          },
          "metadata": {
            "tags": []
          },
          "execution_count": 180
        }
      ]
    },
    {
      "cell_type": "code",
      "metadata": {
        "id": "gXV4eZEsfJkr",
        "colab_type": "code",
        "colab": {
          "base_uri": "https://localhost:8080/",
          "height": 84
        },
        "outputId": "1f220709-1221-4257-a0ab-fddbfc6b5733"
      },
      "source": [
        "np.where(arr>0,2,-2)"
      ],
      "execution_count": 181,
      "outputs": [
        {
          "output_type": "execute_result",
          "data": {
            "text/plain": [
              "array([[-2,  2,  2,  2],\n",
              "       [ 2, -2,  2, -2],\n",
              "       [ 2, -2,  2, -2],\n",
              "       [-2,  2, -2,  2]])"
            ]
          },
          "metadata": {
            "tags": []
          },
          "execution_count": 181
        }
      ]
    },
    {
      "cell_type": "code",
      "metadata": {
        "id": "yKqec9yifJn7",
        "colab_type": "code",
        "colab": {
          "base_uri": "https://localhost:8080/",
          "height": 84
        },
        "outputId": "e35add24-d17a-47d3-d80b-df38974c056d"
      },
      "source": [
        "np.where(arr>0,2,arr)"
      ],
      "execution_count": 182,
      "outputs": [
        {
          "output_type": "execute_result",
          "data": {
            "text/plain": [
              "array([[-0.12268514,  2.        ,  2.        ,  2.        ],\n",
              "       [ 2.        , -0.54021741,  2.        , -0.22475897],\n",
              "       [ 2.        , -0.04317279,  2.        , -1.63458391],\n",
              "       [-0.07917023,  2.        , -1.13630915,  2.        ]])"
            ]
          },
          "metadata": {
            "tags": []
          },
          "execution_count": 182
        }
      ]
    },
    {
      "cell_type": "code",
      "metadata": {
        "id": "0CCYNaKrfJiC",
        "colab_type": "code",
        "colab": {}
      },
      "source": [
        "arr = np.random.randn(5,4)"
      ],
      "execution_count": 0,
      "outputs": []
    },
    {
      "cell_type": "code",
      "metadata": {
        "id": "Fxlv0W6efJgQ",
        "colab_type": "code",
        "colab": {
          "base_uri": "https://localhost:8080/",
          "height": 101
        },
        "outputId": "54e4668d-f87e-4511-ba98-90a3ff15a4b1"
      },
      "source": [
        "arr"
      ],
      "execution_count": 184,
      "outputs": [
        {
          "output_type": "execute_result",
          "data": {
            "text/plain": [
              "array([[-0.80455328, -0.8636292 , -0.78067254, -0.91309833],\n",
              "       [-1.70059831,  2.73795   , -1.74398731, -0.86610247],\n",
              "       [-0.21025509,  1.660729  ,  1.15694948, -0.39537138],\n",
              "       [-1.78609465, -0.83981159,  0.53541809, -1.47490412],\n",
              "       [-0.74142491, -1.47191569,  0.26470068, -0.45972937]])"
            ]
          },
          "metadata": {
            "tags": []
          },
          "execution_count": 184
        }
      ]
    },
    {
      "cell_type": "code",
      "metadata": {
        "id": "iv-nQZJteYp2",
        "colab_type": "code",
        "colab": {
          "base_uri": "https://localhost:8080/",
          "height": 34
        },
        "outputId": "3e4667b5-be29-4337-eb91-0cf969a646ac"
      },
      "source": [
        "arr.mean()"
      ],
      "execution_count": 185,
      "outputs": [
        {
          "output_type": "execute_result",
          "data": {
            "text/plain": [
              "-0.4348200493270428"
            ]
          },
          "metadata": {
            "tags": []
          },
          "execution_count": 185
        }
      ]
    },
    {
      "cell_type": "code",
      "metadata": {
        "id": "aOWiNBPdf9xp",
        "colab_type": "code",
        "colab": {
          "base_uri": "https://localhost:8080/",
          "height": 34
        },
        "outputId": "7e36ce21-fee3-47b7-a852-557d94f78dad"
      },
      "source": [
        "np.mean(arr)"
      ],
      "execution_count": 186,
      "outputs": [
        {
          "output_type": "execute_result",
          "data": {
            "text/plain": [
              "-0.4348200493270428"
            ]
          },
          "metadata": {
            "tags": []
          },
          "execution_count": 186
        }
      ]
    },
    {
      "cell_type": "code",
      "metadata": {
        "id": "f9hkx41jf91F",
        "colab_type": "code",
        "colab": {
          "base_uri": "https://localhost:8080/",
          "height": 34
        },
        "outputId": "4839c17a-2bb0-4165-a39b-8afd3be6d3d8"
      },
      "source": [
        "arr.sum()"
      ],
      "execution_count": 187,
      "outputs": [
        {
          "output_type": "execute_result",
          "data": {
            "text/plain": [
              "-8.696400986540857"
            ]
          },
          "metadata": {
            "tags": []
          },
          "execution_count": 187
        }
      ]
    },
    {
      "cell_type": "code",
      "metadata": {
        "id": "1EswPk4vf96T",
        "colab_type": "code",
        "colab": {
          "base_uri": "https://localhost:8080/",
          "height": 34
        },
        "outputId": "467198f8-e980-4710-9f73-6c65e24f6252"
      },
      "source": [
        "arr.mean(axis=1)"
      ],
      "execution_count": 188,
      "outputs": [
        {
          "output_type": "execute_result",
          "data": {
            "text/plain": [
              "array([-0.84048834, -0.39318452,  0.553013  , -0.89134807, -0.60209232])"
            ]
          },
          "metadata": {
            "tags": []
          },
          "execution_count": 188
        }
      ]
    },
    {
      "cell_type": "code",
      "metadata": {
        "id": "GTs28rMef-C6",
        "colab_type": "code",
        "colab": {
          "base_uri": "https://localhost:8080/",
          "height": 34
        },
        "outputId": "bee0e05d-32a9-44c5-b8ce-fde9533c2968"
      },
      "source": [
        "arr.sum(0)"
      ],
      "execution_count": 189,
      "outputs": [
        {
          "output_type": "execute_result",
          "data": {
            "text/plain": [
              "array([-5.24292624,  1.22332252, -0.5675916 , -4.10920567])"
            ]
          },
          "metadata": {
            "tags": []
          },
          "execution_count": 189
        }
      ]
    },
    {
      "cell_type": "code",
      "metadata": {
        "id": "IprlWWIvf-P2",
        "colab_type": "code",
        "colab": {
          "base_uri": "https://localhost:8080/",
          "height": 101
        },
        "outputId": "e5f168fe-c26a-4ac8-b95c-245ecd81282b"
      },
      "source": [
        "arr.cumsum(0)"
      ],
      "execution_count": 190,
      "outputs": [
        {
          "output_type": "execute_result",
          "data": {
            "text/plain": [
              "array([[-0.80455328, -0.8636292 , -0.78067254, -0.91309833],\n",
              "       [-2.50515158,  1.8743208 , -2.52465985, -1.77920081],\n",
              "       [-2.71540667,  3.5350498 , -1.36771037, -2.17457218],\n",
              "       [-4.50150133,  2.69523821, -0.83229228, -3.6494763 ],\n",
              "       [-5.24292624,  1.22332252, -0.5675916 , -4.10920567]])"
            ]
          },
          "metadata": {
            "tags": []
          },
          "execution_count": 190
        }
      ]
    },
    {
      "cell_type": "code",
      "metadata": {
        "id": "YtEFmkuSf-NT",
        "colab_type": "code",
        "colab": {
          "base_uri": "https://localhost:8080/",
          "height": 101
        },
        "outputId": "3dbf008b-7188-4adf-fde2-d5ff0678901e"
      },
      "source": [
        "arr.cumprod(1)"
      ],
      "execution_count": 191,
      "outputs": [
        {
          "output_type": "execute_result",
          "data": {
            "text/plain": [
              "array([[-0.80455328,  0.6948357 , -0.54243915,  0.49530028],\n",
              "       [-1.70059831, -4.65615313,  8.12027199, -7.03298765],\n",
              "       [-0.21025509, -0.34917672, -0.40397983,  0.15972206],\n",
              "       [-1.78609465,  1.49998299,  0.80311803, -1.18452209],\n",
              "       [-0.74142491,  1.09131496,  0.28887182, -0.13280286]])"
            ]
          },
          "metadata": {
            "tags": []
          },
          "execution_count": 191
        }
      ]
    },
    {
      "cell_type": "code",
      "metadata": {
        "id": "jAzC6jcof-Ka",
        "colab_type": "code",
        "colab": {}
      },
      "source": [
        "arr = np.random.randn(100)"
      ],
      "execution_count": 0,
      "outputs": []
    },
    {
      "cell_type": "code",
      "metadata": {
        "id": "5XwWBL2Mf-IY",
        "colab_type": "code",
        "colab": {
          "base_uri": "https://localhost:8080/",
          "height": 34
        },
        "outputId": "bddf9b8e-ef9e-42b0-88bf-4246b34baaa4"
      },
      "source": [
        "(arr>0).sum()"
      ],
      "execution_count": 193,
      "outputs": [
        {
          "output_type": "execute_result",
          "data": {
            "text/plain": [
              "48"
            ]
          },
          "metadata": {
            "tags": []
          },
          "execution_count": 193
        }
      ]
    },
    {
      "cell_type": "code",
      "metadata": {
        "id": "SRjoYmMZf-BA",
        "colab_type": "code",
        "colab": {}
      },
      "source": [
        "bools = np.array([False,  True,  True, False,  True,  True,  True])"
      ],
      "execution_count": 0,
      "outputs": []
    },
    {
      "cell_type": "code",
      "metadata": {
        "id": "YvwsM2qkg9A1",
        "colab_type": "code",
        "colab": {
          "base_uri": "https://localhost:8080/",
          "height": 34
        },
        "outputId": "86603c1d-14fe-478f-a96c-024961ade845"
      },
      "source": [
        "bools.any()"
      ],
      "execution_count": 195,
      "outputs": [
        {
          "output_type": "execute_result",
          "data": {
            "text/plain": [
              "True"
            ]
          },
          "metadata": {
            "tags": []
          },
          "execution_count": 195
        }
      ]
    },
    {
      "cell_type": "code",
      "metadata": {
        "id": "92cduO5Cg9ER",
        "colab_type": "code",
        "colab": {
          "base_uri": "https://localhost:8080/",
          "height": 34
        },
        "outputId": "0234fcff-53c5-4fd5-e4d8-3bca1161ce8b"
      },
      "source": [
        "bools.all()"
      ],
      "execution_count": 196,
      "outputs": [
        {
          "output_type": "execute_result",
          "data": {
            "text/plain": [
              "False"
            ]
          },
          "metadata": {
            "tags": []
          },
          "execution_count": 196
        }
      ]
    },
    {
      "cell_type": "code",
      "metadata": {
        "id": "46yxIvaKg9MJ",
        "colab_type": "code",
        "colab": {}
      },
      "source": [
        "arr = np.random.randn(8)"
      ],
      "execution_count": 0,
      "outputs": []
    },
    {
      "cell_type": "code",
      "metadata": {
        "id": "VSDO7z1Eg9RP",
        "colab_type": "code",
        "colab": {
          "base_uri": "https://localhost:8080/",
          "height": 50
        },
        "outputId": "a57bf366-22b1-45b5-9210-bf625d183933"
      },
      "source": [
        "arr"
      ],
      "execution_count": 198,
      "outputs": [
        {
          "output_type": "execute_result",
          "data": {
            "text/plain": [
              "array([ 0.23975842,  0.00891359,  0.40798223,  1.52217413,  0.30515071,\n",
              "       -0.64546179,  0.9588662 ,  0.58336555])"
            ]
          },
          "metadata": {
            "tags": []
          },
          "execution_count": 198
        }
      ]
    },
    {
      "cell_type": "code",
      "metadata": {
        "id": "dOf4ggJYg9Uy",
        "colab_type": "code",
        "colab": {}
      },
      "source": [
        "arr.sort()"
      ],
      "execution_count": 0,
      "outputs": []
    },
    {
      "cell_type": "code",
      "metadata": {
        "id": "MRUGSAJ-g9JH",
        "colab_type": "code",
        "colab": {
          "base_uri": "https://localhost:8080/",
          "height": 50
        },
        "outputId": "970efc87-8723-41f7-d997-df9eaf698309"
      },
      "source": [
        "arr"
      ],
      "execution_count": 200,
      "outputs": [
        {
          "output_type": "execute_result",
          "data": {
            "text/plain": [
              "array([-0.64546179,  0.00891359,  0.23975842,  0.30515071,  0.40798223,\n",
              "        0.58336555,  0.9588662 ,  1.52217413])"
            ]
          },
          "metadata": {
            "tags": []
          },
          "execution_count": 200
        }
      ]
    },
    {
      "cell_type": "code",
      "metadata": {
        "id": "YNRgcCZGhOBi",
        "colab_type": "code",
        "colab": {}
      },
      "source": [
        "arr = np.random.randn(5,3)"
      ],
      "execution_count": 0,
      "outputs": []
    },
    {
      "cell_type": "code",
      "metadata": {
        "id": "cP3dKVKjhOFZ",
        "colab_type": "code",
        "colab": {
          "base_uri": "https://localhost:8080/",
          "height": 101
        },
        "outputId": "150b8d4f-e81c-42e6-bf35-331eaf787085"
      },
      "source": [
        "arr"
      ],
      "execution_count": 202,
      "outputs": [
        {
          "output_type": "execute_result",
          "data": {
            "text/plain": [
              "array([[-0.46465088, -0.59026241, -0.71209709],\n",
              "       [-1.39690657,  1.32949771,  0.23623453],\n",
              "       [-0.35241896,  0.59929614,  0.81010464],\n",
              "       [ 2.48832089, -1.25629943, -1.01114863],\n",
              "       [ 0.57473242,  0.54327482, -0.76017063]])"
            ]
          },
          "metadata": {
            "tags": []
          },
          "execution_count": 202
        }
      ]
    },
    {
      "cell_type": "code",
      "metadata": {
        "id": "iExS2icyhOKQ",
        "colab_type": "code",
        "colab": {}
      },
      "source": [
        "arr.sort(1)"
      ],
      "execution_count": 0,
      "outputs": []
    },
    {
      "cell_type": "code",
      "metadata": {
        "id": "RmVIWe9uhOcE",
        "colab_type": "code",
        "colab": {
          "base_uri": "https://localhost:8080/",
          "height": 101
        },
        "outputId": "63a48401-3fec-4cde-8906-11d50cf89647"
      },
      "source": [
        "arr"
      ],
      "execution_count": 204,
      "outputs": [
        {
          "output_type": "execute_result",
          "data": {
            "text/plain": [
              "array([[-0.71209709, -0.59026241, -0.46465088],\n",
              "       [-1.39690657,  0.23623453,  1.32949771],\n",
              "       [-0.35241896,  0.59929614,  0.81010464],\n",
              "       [-1.25629943, -1.01114863,  2.48832089],\n",
              "       [-0.76017063,  0.54327482,  0.57473242]])"
            ]
          },
          "metadata": {
            "tags": []
          },
          "execution_count": 204
        }
      ]
    },
    {
      "cell_type": "markdown",
      "metadata": {
        "id": "k9pQmp1ahpWX",
        "colab_type": "text"
      },
      "source": [
        "np.sort()返回的是副本"
      ]
    },
    {
      "cell_type": "code",
      "metadata": {
        "id": "I8TVWdJwhOZZ",
        "colab_type": "code",
        "colab": {}
      },
      "source": [
        "large_arr = np.random.randn(1000)"
      ],
      "execution_count": 0,
      "outputs": []
    },
    {
      "cell_type": "code",
      "metadata": {
        "id": "QgYhYDJfhOVx",
        "colab_type": "code",
        "colab": {}
      },
      "source": [
        "large_arr.sort()"
      ],
      "execution_count": 0,
      "outputs": []
    },
    {
      "cell_type": "code",
      "metadata": {
        "id": "f28N9KQrhOS2",
        "colab_type": "code",
        "colab": {
          "base_uri": "https://localhost:8080/",
          "height": 34
        },
        "outputId": "5df1b023-59d6-487a-9888-d9ade39e0947"
      },
      "source": [
        "large_arr[int(0.05*len(large_arr))]#5%分位数"
      ],
      "execution_count": 207,
      "outputs": [
        {
          "output_type": "execute_result",
          "data": {
            "text/plain": [
              "-1.6030419573298247"
            ]
          },
          "metadata": {
            "tags": []
          },
          "execution_count": 207
        }
      ]
    },
    {
      "cell_type": "code",
      "metadata": {
        "id": "qhN3lwY3h6fT",
        "colab_type": "code",
        "colab": {}
      },
      "source": [
        "names = np.array(['bob','joe','will','bob','will','joe','joe'])"
      ],
      "execution_count": 0,
      "outputs": []
    },
    {
      "cell_type": "code",
      "metadata": {
        "id": "wcucCF9Uh6i6",
        "colab_type": "code",
        "colab": {
          "base_uri": "https://localhost:8080/",
          "height": 34
        },
        "outputId": "d932a071-2357-4362-c4c2-fa99f0209cd6"
      },
      "source": [
        "np.unique(names)"
      ],
      "execution_count": 210,
      "outputs": [
        {
          "output_type": "execute_result",
          "data": {
            "text/plain": [
              "array(['bob', 'joe', 'will'], dtype='<U4')"
            ]
          },
          "metadata": {
            "tags": []
          },
          "execution_count": 210
        }
      ]
    },
    {
      "cell_type": "code",
      "metadata": {
        "id": "TmBqKO14h6oK",
        "colab_type": "code",
        "colab": {}
      },
      "source": [
        "ints = np.array([3,3,3,2,2,1,1,4,4])"
      ],
      "execution_count": 0,
      "outputs": []
    },
    {
      "cell_type": "code",
      "metadata": {
        "id": "FJHwj7QfhOPw",
        "colab_type": "code",
        "colab": {
          "base_uri": "https://localhost:8080/",
          "height": 34
        },
        "outputId": "1b7fc347-636d-48af-ff84-94af41f7979d"
      },
      "source": [
        "np.unique(ints)"
      ],
      "execution_count": 213,
      "outputs": [
        {
          "output_type": "execute_result",
          "data": {
            "text/plain": [
              "array([1, 2, 3, 4])"
            ]
          },
          "metadata": {
            "tags": []
          },
          "execution_count": 213
        }
      ]
    },
    {
      "cell_type": "code",
      "metadata": {
        "id": "T2yJZzReim0j",
        "colab_type": "code",
        "colab": {
          "base_uri": "https://localhost:8080/",
          "height": 34
        },
        "outputId": "5ca5009e-38d3-4d5d-b490-a6412005d8c9"
      },
      "source": [
        "sorted(set(names))"
      ],
      "execution_count": 214,
      "outputs": [
        {
          "output_type": "execute_result",
          "data": {
            "text/plain": [
              "['bob', 'joe', 'will']"
            ]
          },
          "metadata": {
            "tags": []
          },
          "execution_count": 214
        }
      ]
    },
    {
      "cell_type": "code",
      "metadata": {
        "id": "lLNxzEVyim6s",
        "colab_type": "code",
        "colab": {}
      },
      "source": [
        "values = np.array([6,0,0,3,2,5,6])"
      ],
      "execution_count": 0,
      "outputs": []
    },
    {
      "cell_type": "code",
      "metadata": {
        "id": "PhZl5BgYim_d",
        "colab_type": "code",
        "colab": {
          "base_uri": "https://localhost:8080/",
          "height": 34
        },
        "outputId": "bf22da41-b465-4be5-9b4e-58145c90c58d"
      },
      "source": [
        "np.in1d(values,[2,3,6])"
      ],
      "execution_count": 216,
      "outputs": [
        {
          "output_type": "execute_result",
          "data": {
            "text/plain": [
              "array([ True, False, False,  True,  True, False,  True])"
            ]
          },
          "metadata": {
            "tags": []
          },
          "execution_count": 216
        }
      ]
    },
    {
      "cell_type": "code",
      "metadata": {
        "id": "XPAF_eQ_inOm",
        "colab_type": "code",
        "colab": {}
      },
      "source": [
        "arr = np.arange(10)"
      ],
      "execution_count": 0,
      "outputs": []
    },
    {
      "cell_type": "code",
      "metadata": {
        "id": "lcq2vB0winMN",
        "colab_type": "code",
        "colab": {}
      },
      "source": [
        "np.save('some_arrray',arr)"
      ],
      "execution_count": 0,
      "outputs": []
    },
    {
      "cell_type": "code",
      "metadata": {
        "id": "vW6V7PefinKU",
        "colab_type": "code",
        "colab": {
          "base_uri": "https://localhost:8080/",
          "height": 34
        },
        "outputId": "4f79b9e8-2c93-4409-b5d4-6d4ead00bbfa"
      },
      "source": [
        "np.load('some_arrray.npy')"
      ],
      "execution_count": 219,
      "outputs": [
        {
          "output_type": "execute_result",
          "data": {
            "text/plain": [
              "array([0, 1, 2, 3, 4, 5, 6, 7, 8, 9])"
            ]
          },
          "metadata": {
            "tags": []
          },
          "execution_count": 219
        }
      ]
    },
    {
      "cell_type": "code",
      "metadata": {
        "id": "4ifCtfpXinIU",
        "colab_type": "code",
        "colab": {}
      },
      "source": [
        "np.savez('some_array.npz',a=arr,b=arr)"
      ],
      "execution_count": 0,
      "outputs": []
    },
    {
      "cell_type": "code",
      "metadata": {
        "id": "b4u54GMbim4A",
        "colab_type": "code",
        "colab": {}
      },
      "source": [
        "arch = np.load('some_array.npz')"
      ],
      "execution_count": 0,
      "outputs": []
    },
    {
      "cell_type": "code",
      "metadata": {
        "id": "crNkYO03j9Y2",
        "colab_type": "code",
        "colab": {
          "base_uri": "https://localhost:8080/",
          "height": 34
        },
        "outputId": "cb058def-72c6-476d-a1f9-85cf33034e8a"
      },
      "source": [
        "arch"
      ],
      "execution_count": 222,
      "outputs": [
        {
          "output_type": "execute_result",
          "data": {
            "text/plain": [
              "<numpy.lib.npyio.NpzFile at 0x7f0cb34e51d0>"
            ]
          },
          "metadata": {
            "tags": []
          },
          "execution_count": 222
        }
      ]
    },
    {
      "cell_type": "code",
      "metadata": {
        "id": "Brp71T-Uj9jk",
        "colab_type": "code",
        "colab": {
          "base_uri": "https://localhost:8080/",
          "height": 34
        },
        "outputId": "6566272d-2520-42d5-8e47-2a64fca43170"
      },
      "source": [
        "arch['b']"
      ],
      "execution_count": 223,
      "outputs": [
        {
          "output_type": "execute_result",
          "data": {
            "text/plain": [
              "array([0, 1, 2, 3, 4, 5, 6, 7, 8, 9])"
            ]
          },
          "metadata": {
            "tags": []
          },
          "execution_count": 223
        }
      ]
    },
    {
      "cell_type": "code",
      "metadata": {
        "id": "UU-Igrojj9nQ",
        "colab_type": "code",
        "colab": {
          "base_uri": "https://localhost:8080/",
          "height": 50
        },
        "outputId": "45e48577-c22d-4236-dab5-5171211dd59e"
      },
      "source": [
        "!cat array_ex.txt\n",
        "0.523,0.1876,0.365795\n",
        "0.1234,52.367,12.056"
      ],
      "execution_count": 224,
      "outputs": [
        {
          "output_type": "stream",
          "text": [
            "cat: array_ex.txt: No such file or directory\n"
          ],
          "name": "stdout"
        },
        {
          "output_type": "execute_result",
          "data": {
            "text/plain": [
              "(0.1234, 52.367, 12.056)"
            ]
          },
          "metadata": {
            "tags": []
          },
          "execution_count": 224
        }
      ]
    },
    {
      "cell_type": "markdown",
      "metadata": {
        "id": "GxGmzOqgk3ke",
        "colab_type": "text"
      },
      "source": [
        "arr = np.loadtxt('array_ex.txt',delimiter=\",\")"
      ]
    },
    {
      "cell_type": "code",
      "metadata": {
        "id": "-lZy0pY6j9WB",
        "colab_type": "code",
        "colab": {}
      },
      "source": [
        "x = np.array([[1.,2.,3.],[4.,5.,6.]])"
      ],
      "execution_count": 0,
      "outputs": []
    },
    {
      "cell_type": "code",
      "metadata": {
        "id": "T_241QzQj9TN",
        "colab_type": "code",
        "colab": {}
      },
      "source": [
        "y = np.array([[6.,23.],[-1,7],[8,9]])"
      ],
      "execution_count": 0,
      "outputs": []
    },
    {
      "cell_type": "code",
      "metadata": {
        "id": "70xI-P17lJ3S",
        "colab_type": "code",
        "colab": {
          "base_uri": "https://localhost:8080/",
          "height": 50
        },
        "outputId": "42b1a1ca-f515-497a-c5da-19d34f95c6f7"
      },
      "source": [
        "x"
      ],
      "execution_count": 230,
      "outputs": [
        {
          "output_type": "execute_result",
          "data": {
            "text/plain": [
              "array([[1., 2., 3.],\n",
              "       [4., 5., 6.]])"
            ]
          },
          "metadata": {
            "tags": []
          },
          "execution_count": 230
        }
      ]
    },
    {
      "cell_type": "code",
      "metadata": {
        "id": "vTgmjOzElJ0N",
        "colab_type": "code",
        "colab": {
          "base_uri": "https://localhost:8080/",
          "height": 67
        },
        "outputId": "d27e3389-e658-407f-9b0d-e0cbff124ac4"
      },
      "source": [
        "y"
      ],
      "execution_count": 231,
      "outputs": [
        {
          "output_type": "execute_result",
          "data": {
            "text/plain": [
              "array([[ 6., 23.],\n",
              "       [-1.,  7.],\n",
              "       [ 8.,  9.]])"
            ]
          },
          "metadata": {
            "tags": []
          },
          "execution_count": 231
        }
      ]
    },
    {
      "cell_type": "code",
      "metadata": {
        "id": "4NIyjhgvlJxn",
        "colab_type": "code",
        "colab": {
          "base_uri": "https://localhost:8080/",
          "height": 50
        },
        "outputId": "f0d01e89-edc3-4ac2-8a4d-effde699d275"
      },
      "source": [
        "x.dot(y)#np.dot(x,y)"
      ],
      "execution_count": 232,
      "outputs": [
        {
          "output_type": "execute_result",
          "data": {
            "text/plain": [
              "array([[ 28.,  64.],\n",
              "       [ 67., 181.]])"
            ]
          },
          "metadata": {
            "tags": []
          },
          "execution_count": 232
        }
      ]
    },
    {
      "cell_type": "code",
      "metadata": {
        "id": "o0zwTIIblJuy",
        "colab_type": "code",
        "colab": {
          "base_uri": "https://localhost:8080/",
          "height": 34
        },
        "outputId": "96de32a9-7ac8-45d0-a43f-6490f71912dc"
      },
      "source": [
        "np.dot(x,np.ones(3))"
      ],
      "execution_count": 233,
      "outputs": [
        {
          "output_type": "execute_result",
          "data": {
            "text/plain": [
              "array([ 6., 15.])"
            ]
          },
          "metadata": {
            "tags": []
          },
          "execution_count": 233
        }
      ]
    },
    {
      "cell_type": "code",
      "metadata": {
        "id": "jmPlZz3AlJrv",
        "colab_type": "code",
        "colab": {}
      },
      "source": [
        "from numpy.linalg import inv ,qr"
      ],
      "execution_count": 0,
      "outputs": []
    },
    {
      "cell_type": "code",
      "metadata": {
        "id": "1RpSTzMdlxhs",
        "colab_type": "code",
        "colab": {}
      },
      "source": [
        "x = np.random.randn(5,5)"
      ],
      "execution_count": 0,
      "outputs": []
    },
    {
      "cell_type": "code",
      "metadata": {
        "id": "lbBcxES4lxsW",
        "colab_type": "code",
        "colab": {}
      },
      "source": [
        "mat=x.T.dot(x)"
      ],
      "execution_count": 0,
      "outputs": []
    },
    {
      "cell_type": "code",
      "metadata": {
        "id": "FXtBQnIDlxo7",
        "colab_type": "code",
        "colab": {
          "base_uri": "https://localhost:8080/",
          "height": 101
        },
        "outputId": "2faccc8c-132f-49e7-e1e7-13b72907e7f8"
      },
      "source": [
        "inv(mat)"
      ],
      "execution_count": 240,
      "outputs": [
        {
          "output_type": "execute_result",
          "data": {
            "text/plain": [
              "array([[ 0.13786388,  0.06518489,  0.02242031, -0.10098425,  0.03581819],\n",
              "       [ 0.06518489,  0.577817  , -0.03009721, -0.05651405, -0.10190218],\n",
              "       [ 0.02242031, -0.03009721,  0.42730106, -0.2692575 ,  0.58364096],\n",
              "       [-0.10098425, -0.05651405, -0.2692575 ,  0.60003586, -0.5932152 ],\n",
              "       [ 0.03581819, -0.10190218,  0.58364096, -0.5932152 ,  1.13804262]])"
            ]
          },
          "metadata": {
            "tags": []
          },
          "execution_count": 240
        }
      ]
    },
    {
      "cell_type": "code",
      "metadata": {
        "id": "sCoZzy9klxmB",
        "colab_type": "code",
        "colab": {
          "base_uri": "https://localhost:8080/",
          "height": 185
        },
        "outputId": "aca497c5-7dfd-4396-cba0-a8bef8e6f489"
      },
      "source": [
        "mat.dot(inv(mat))"
      ],
      "execution_count": 241,
      "outputs": [
        {
          "output_type": "execute_result",
          "data": {
            "text/plain": [
              "array([[ 1.00000000e+00, -1.12700629e-17,  2.68731221e-17,\n",
              "        -1.32711115e-16, -3.87795480e-17],\n",
              "       [ 8.38677764e-18,  1.00000000e+00,  1.65298421e-17,\n",
              "         5.14790703e-17,  1.45251170e-16],\n",
              "       [ 7.35892073e-18, -7.99653935e-18,  1.00000000e+00,\n",
              "         2.36647493e-17, -7.25168748e-16],\n",
              "       [-1.10070575e-17,  6.57199244e-17, -5.06554183e-17,\n",
              "         1.00000000e+00, -5.99718986e-16],\n",
              "       [ 3.12284783e-17,  1.01982042e-16,  2.68036304e-16,\n",
              "        -9.69048116e-17,  1.00000000e+00]])"
            ]
          },
          "metadata": {
            "tags": []
          },
          "execution_count": 241
        }
      ]
    },
    {
      "cell_type": "code",
      "metadata": {
        "id": "3-PU3IxkmHnF",
        "colab_type": "code",
        "colab": {}
      },
      "source": [
        "q,r = qr(mat)"
      ],
      "execution_count": 0,
      "outputs": []
    },
    {
      "cell_type": "code",
      "metadata": {
        "id": "Z5hd4zqbmHuw",
        "colab_type": "code",
        "colab": {
          "base_uri": "https://localhost:8080/",
          "height": 101
        },
        "outputId": "1bf79223-20c6-4a26-f421-a84f449de9ce"
      },
      "source": [
        "r"
      ],
      "execution_count": 243,
      "outputs": [
        {
          "output_type": "execute_result",
          "data": {
            "text/plain": [
              "array([[-9.59882932,  0.35896163,  2.62207051, -4.03710533, -3.24155861],\n",
              "       [ 0.        , -2.31618814,  4.48374784, -3.13841629, -4.45887511],\n",
              "       [ 0.        ,  0.        , -8.39788757,  1.39133968,  5.34993608],\n",
              "       [ 0.        ,  0.        ,  0.        , -3.25752787, -1.9324447 ],\n",
              "       [ 0.        ,  0.        ,  0.        ,  0.        ,  0.70722188]])"
            ]
          },
          "metadata": {
            "tags": []
          },
          "execution_count": 243
        }
      ]
    },
    {
      "cell_type": "code",
      "metadata": {
        "id": "DhA4qhxhmHzN",
        "colab_type": "code",
        "colab": {}
      },
      "source": [
        "samples = np.random.normal(size=(4,4))"
      ],
      "execution_count": 0,
      "outputs": []
    },
    {
      "cell_type": "code",
      "metadata": {
        "id": "kOJAQFbZmHsT",
        "colab_type": "code",
        "colab": {
          "base_uri": "https://localhost:8080/",
          "height": 84
        },
        "outputId": "73c0f366-511f-465d-95de-aac3d7ff6861"
      },
      "source": [
        "samples"
      ],
      "execution_count": 245,
      "outputs": [
        {
          "output_type": "execute_result",
          "data": {
            "text/plain": [
              "array([[-1.12425159,  0.07936591, -0.83294868,  0.26828299],\n",
              "       [ 0.03471948,  0.70516938,  0.31705684, -0.78987784],\n",
              "       [ 0.67191826, -1.08706564,  0.66136034,  1.55174718],\n",
              "       [-0.93137109, -2.07884845, -1.55406546, -1.47008304]])"
            ]
          },
          "metadata": {
            "tags": []
          },
          "execution_count": 245
        }
      ]
    },
    {
      "cell_type": "code",
      "metadata": {
        "id": "Jj8MK2q8mHkU",
        "colab_type": "code",
        "colab": {}
      },
      "source": [
        "from random import normalvariate"
      ],
      "execution_count": 0,
      "outputs": []
    },
    {
      "cell_type": "code",
      "metadata": {
        "id": "zfK5sfWUmpb7",
        "colab_type": "code",
        "colab": {}
      },
      "source": [
        "N = 1000000"
      ],
      "execution_count": 0,
      "outputs": []
    },
    {
      "cell_type": "code",
      "metadata": {
        "id": "npzxBStEmp0p",
        "colab_type": "code",
        "colab": {
          "base_uri": "https://localhost:8080/",
          "height": 34
        },
        "outputId": "4b699257-b5bd-42ef-9d0e-2e4017eb030e"
      },
      "source": [
        "%timeit samples = [normalvariate(0,1)for _ in range(N)]"
      ],
      "execution_count": 248,
      "outputs": [
        {
          "output_type": "stream",
          "text": [
            "1 loop, best of 3: 805 ms per loop\n"
          ],
          "name": "stdout"
        }
      ]
    },
    {
      "cell_type": "code",
      "metadata": {
        "id": "Y_rNlevXmpvC",
        "colab_type": "code",
        "colab": {
          "base_uri": "https://localhost:8080/",
          "height": 34
        },
        "outputId": "dfd5128e-bc4a-4b30-cd58-173fef7d9886"
      },
      "source": [
        "%timeit np.random.normal(size=N)"
      ],
      "execution_count": 249,
      "outputs": [
        {
          "output_type": "stream",
          "text": [
            "10 loops, best of 3: 43.3 ms per loop\n"
          ],
          "name": "stdout"
        }
      ]
    },
    {
      "cell_type": "code",
      "metadata": {
        "id": "DzUGEbSfmpsb",
        "colab_type": "code",
        "colab": {}
      },
      "source": [
        "import random\n",
        "position = 0\n",
        "walk = [position]\n",
        "steps = 1000\n",
        "for i in range(steps):\n",
        "  step = 1 if random.randint(0,1) else -1\n",
        "  position += step\n",
        "  walk.append(position)"
      ],
      "execution_count": 0,
      "outputs": []
    },
    {
      "cell_type": "code",
      "metadata": {
        "id": "orBhmSymmpoy",
        "colab_type": "code",
        "colab": {
          "base_uri": "https://localhost:8080/",
          "height": 286
        },
        "outputId": "a474ec39-fc16-44da-fd7a-ee1171eda526"
      },
      "source": [
        "plt.plot(walk)"
      ],
      "execution_count": 252,
      "outputs": [
        {
          "output_type": "execute_result",
          "data": {
            "text/plain": [
              "[<matplotlib.lines.Line2D at 0x7f0cfb8bd2b0>]"
            ]
          },
          "metadata": {
            "tags": []
          },
          "execution_count": 252
        },
        {
          "output_type": "display_data",
          "data": {
            "image/png": "[encoded data removed]",
            "text/plain": [
              "<Figure size 432x288 with 1 Axes>"
            ]
          },
          "metadata": {
            "tags": []
          }
        }
      ]
    },
    {
      "cell_type": "code",
      "metadata": {
        "id": "JS6BP22SmpmY",
        "colab_type": "code",
        "colab": {}
      },
      "source": [
        "nsteps = 1000"
      ],
      "execution_count": 0,
      "outputs": []
    },
    {
      "cell_type": "code",
      "metadata": {
        "id": "XV-M0bxgmpjo",
        "colab_type": "code",
        "colab": {}
      },
      "source": [
        "draws = np.random.randint(0,2,size=nsteps)"
      ],
      "execution_count": 0,
      "outputs": []
    },
    {
      "cell_type": "code",
      "metadata": {
        "id": "LLvx-IxKosQ9",
        "colab_type": "code",
        "colab": {}
      },
      "source": [
        "steps = np.where(draws >0,1,-1)"
      ],
      "execution_count": 0,
      "outputs": []
    },
    {
      "cell_type": "code",
      "metadata": {
        "id": "zvQHW4XaosaR",
        "colab_type": "code",
        "colab": {}
      },
      "source": [
        "walk = steps.cumsum()"
      ],
      "execution_count": 0,
      "outputs": []
    },
    {
      "cell_type": "code",
      "metadata": {
        "id": "B9GkuMfFosWh",
        "colab_type": "code",
        "colab": {
          "base_uri": "https://localhost:8080/",
          "height": 34
        },
        "outputId": "fb934aca-fef4-4664-f62e-9bf3faba1287"
      },
      "source": [
        "walk.min()"
      ],
      "execution_count": 258,
      "outputs": [
        {
          "output_type": "execute_result",
          "data": {
            "text/plain": [
              "-1"
            ]
          },
          "metadata": {
            "tags": []
          },
          "execution_count": 258
        }
      ]
    },
    {
      "cell_type": "code",
      "metadata": {
        "id": "QQOmUhtmosN9",
        "colab_type": "code",
        "colab": {
          "base_uri": "https://localhost:8080/",
          "height": 34
        },
        "outputId": "0a73c170-95ad-4193-c116-17b95b4f861f"
      },
      "source": [
        "walk.max()"
      ],
      "execution_count": 259,
      "outputs": [
        {
          "output_type": "execute_result",
          "data": {
            "text/plain": [
              "45"
            ]
          },
          "metadata": {
            "tags": []
          },
          "execution_count": 259
        }
      ]
    },
    {
      "cell_type": "code",
      "metadata": {
        "id": "nBqLfifposKR",
        "colab_type": "code",
        "colab": {
          "base_uri": "https://localhost:8080/",
          "height": 34
        },
        "outputId": "c7e02218-e472-452c-c348-34f4acf3bb19"
      },
      "source": [
        "(np.abs(walk)>=10).argmax()"
      ],
      "execution_count": 260,
      "outputs": [
        {
          "output_type": "execute_result",
          "data": {
            "text/plain": [
              "131"
            ]
          },
          "metadata": {
            "tags": []
          },
          "execution_count": 260
        }
      ]
    },
    {
      "cell_type": "code",
      "metadata": {
        "id": "gNyE04IIo_xa",
        "colab_type": "code",
        "colab": {
          "base_uri": "https://localhost:8080/",
          "height": 286
        },
        "outputId": "223a3f8a-078a-4b2e-9473-645d07429b34"
      },
      "source": [
        "plt.plot(walk)"
      ],
      "execution_count": 261,
      "outputs": [
        {
          "output_type": "execute_result",
          "data": {
            "text/plain": [
              "[<matplotlib.lines.Line2D at 0x7f0ca695b438>]"
            ]
          },
          "metadata": {
            "tags": []
          },
          "execution_count": 261
        },
        {
          "output_type": "display_data",
          "data": {
            "image/png": "[encoded data removed]",
            "text/plain": [
              "<Figure size 432x288 with 1 Axes>"
            ]
          },
          "metadata": {
            "tags": []
          }
        }
      ]
    },
    {
      "cell_type": "code",
      "metadata": {
        "id": "ABgMFzBYo_ud",
        "colab_type": "code",
        "colab": {}
      },
      "source": [
        "nwalks = 5000"
      ],
      "execution_count": 0,
      "outputs": []
    },
    {
      "cell_type": "code",
      "metadata": {
        "id": "P9pWOxOwo_rh",
        "colab_type": "code",
        "colab": {}
      },
      "source": [
        "nsteps = 1000"
      ],
      "execution_count": 0,
      "outputs": []
    },
    {
      "cell_type": "code",
      "metadata": {
        "id": "0tbMnhAUo_oe",
        "colab_type": "code",
        "colab": {}
      },
      "source": [
        "draws = np.random.randint(0,2,size=(nwalks,nsteps))"
      ],
      "execution_count": 0,
      "outputs": []
    },
    {
      "cell_type": "code",
      "metadata": {
        "id": "Tr_2ZQTZpp82",
        "colab_type": "code",
        "colab": {}
      },
      "source": [
        "steps = np.where(draws >0,1,-1)"
      ],
      "execution_count": 0,
      "outputs": []
    },
    {
      "cell_type": "code",
      "metadata": {
        "id": "OoJo1lEApqQU",
        "colab_type": "code",
        "colab": {}
      },
      "source": [
        "walks = steps.cumsum(1)"
      ],
      "execution_count": 0,
      "outputs": []
    },
    {
      "cell_type": "code",
      "metadata": {
        "id": "u6c-pumDp6jR",
        "colab_type": "code",
        "colab": {
          "base_uri": "https://localhost:8080/",
          "height": 134
        },
        "outputId": "9805d574-494c-47bb-c021-c11da17a8cd0"
      },
      "source": [
        "walks"
      ],
      "execution_count": 269,
      "outputs": [
        {
          "output_type": "execute_result",
          "data": {
            "text/plain": [
              "array([[ -1,   0,  -1, ...,  58,  57,  56],\n",
              "       [ -1,  -2,  -1, ..., -38, -37, -36],\n",
              "       [ -1,  -2,  -3, ..., -50, -51, -50],\n",
              "       ...,\n",
              "       [  1,   2,   1, ...,  28,  27,  26],\n",
              "       [ -1,   0,   1, ...,   6,   5,   4],\n",
              "       [ -1,  -2,  -3, ..., -52, -53, -54]])"
            ]
          },
          "metadata": {
            "tags": []
          },
          "execution_count": 269
        }
      ]
    },
    {
      "cell_type": "code",
      "metadata": {
        "id": "waeLcy_Ap876",
        "colab_type": "code",
        "colab": {
          "base_uri": "https://localhost:8080/",
          "height": 34
        },
        "outputId": "1e8094b1-dbd1-4711-82fd-fadac4557d1f"
      },
      "source": [
        "walks.max()"
      ],
      "execution_count": 270,
      "outputs": [
        {
          "output_type": "execute_result",
          "data": {
            "text/plain": [
              "117"
            ]
          },
          "metadata": {
            "tags": []
          },
          "execution_count": 270
        }
      ]
    },
    {
      "cell_type": "code",
      "metadata": {
        "id": "imzTWChvqCvv",
        "colab_type": "code",
        "colab": {
          "base_uri": "https://localhost:8080/",
          "height": 34
        },
        "outputId": "6ff7d571-9e86-4e63-d937-806ee41d4849"
      },
      "source": [
        "walks.min()"
      ],
      "execution_count": 271,
      "outputs": [
        {
          "output_type": "execute_result",
          "data": {
            "text/plain": [
              "-120"
            ]
          },
          "metadata": {
            "tags": []
          },
          "execution_count": 271
        }
      ]
    },
    {
      "cell_type": "code",
      "metadata": {
        "id": "SfnkxvbBqC6k",
        "colab_type": "code",
        "colab": {}
      },
      "source": [
        "hist30 = (np.abs(walks)>=30).any(1)"
      ],
      "execution_count": 0,
      "outputs": []
    },
    {
      "cell_type": "code",
      "metadata": {
        "id": "LWgEhEiGqX7u",
        "colab_type": "code",
        "colab": {
          "base_uri": "https://localhost:8080/",
          "height": 34
        },
        "outputId": "79ab9ecb-415a-47d3-9f46-89fe03db394d"
      },
      "source": [
        "hist30"
      ],
      "execution_count": 273,
      "outputs": [
        {
          "output_type": "execute_result",
          "data": {
            "text/plain": [
              "array([ True,  True,  True, ..., False, False,  True])"
            ]
          },
          "metadata": {
            "tags": []
          },
          "execution_count": 273
        }
      ]
    },
    {
      "cell_type": "code",
      "metadata": {
        "id": "U5a6TXVrqYGV",
        "colab_type": "code",
        "colab": {
          "base_uri": "https://localhost:8080/",
          "height": 34
        },
        "outputId": "2e077291-6b07-4713-c99d-feaba02ac535"
      },
      "source": [
        "hist30.sum()"
      ],
      "execution_count": 274,
      "outputs": [
        {
          "output_type": "execute_result",
          "data": {
            "text/plain": [
              "3351"
            ]
          },
          "metadata": {
            "tags": []
          },
          "execution_count": 274
        }
      ]
    },
    {
      "cell_type": "code",
      "metadata": {
        "id": "c1-z_qvrqYRI",
        "colab_type": "code",
        "colab": {}
      },
      "source": [
        "crossing_time = (np.abs(walks[hist30])>=30).argmax(1)"
      ],
      "execution_count": 0,
      "outputs": []
    },
    {
      "cell_type": "code",
      "metadata": {
        "id": "FUgrhXP2qs49",
        "colab_type": "code",
        "colab": {
          "base_uri": "https://localhost:8080/",
          "height": 34
        },
        "outputId": "86c7b847-b02f-4670-db89-e2ed4330c18c"
      },
      "source": [
        "crossing_time.mean()"
      ],
      "execution_count": 276,
      "outputs": [
        {
          "output_type": "execute_result",
          "data": {
            "text/plain": [
              "502.769024171889"
            ]
          },
          "metadata": {
            "tags": []
          },
          "execution_count": 276
        }
      ]
    },
    {
      "cell_type": "markdown",
      "metadata": {
        "id": "zPd8CnZzq0w9",
        "colab_type": "text"
      },
      "source": [
        "draws = np.random.normal(0,2,size=(nwalks,nsteps))"
      ]
    },
    {
      "cell_type": "code",
      "metadata": {
        "id": "vC2XJR5iqtDA",
        "colab_type": "code",
        "colab": {
          "base_uri": "https://localhost:8080/",
          "height": 17069
        },
        "outputId": "88393363-d543-41ef-ad9f-8b302e480a3d"
      },
      "source": [
        "plt.plot(walks)"
      ],
      "execution_count": 277,
      "outputs": [
        {
          "output_type": "execute_result",
          "data": {
            "text/plain": [
              "[<matplotlib.lines.Line2D at 0x7f0ca626f198>,\n",
              " <matplotlib.lines.Line2D at 0x7f0ca626f2e8>,\n",
              " <matplotlib.lines.Line2D at 0x7f0ca626f438>,\n",
              " <matplotlib.lines.Line2D at 0x7f0ca626f588>,\n",
              " <matplotlib.lines.Line2D at 0x7f0ca626f6d8>,\n",
              " <matplotlib.lines.Line2D at 0x7f0ca626f828>,\n",
              " <matplotlib.lines.Line2D at 0x7f0ca626f978>,\n",
              " <matplotlib.lines.Line2D at 0x7f0ca626fac8>,\n",
              " <matplotlib.lines.Line2D at 0x7f0ca626fc18>,\n",
              " <matplotlib.lines.Line2D at 0x7f0ca626fd68>,\n",
              " <matplotlib.lines.Line2D at 0x7f0ca624fd30>,\n",
              " <matplotlib.lines.Line2D at 0x7f0ca626ffd0>,\n",
              " <matplotlib.lines.Line2D at 0x7f0ca6275160>,\n",
              " <matplotlib.lines.Line2D at 0x7f0ca62752b0>,\n",
              " <matplotlib.lines.Line2D at 0x7f0ca6275400>,\n",
              " <matplotlib.lines.Line2D at 0x7f0ca6275550>,\n",
              " <matplotlib.lines.Line2D at 0x7f0ca62756a0>,\n",
              " <matplotlib.lines.Line2D at 0x7f0ca62757f0>,\n",
              " <matplotlib.lines.Line2D at 0x7f0ca6275940>,\n",
              " <matplotlib.lines.Line2D at 0x7f0ca6275a90>,\n",
              " <matplotlib.lines.Line2D at 0x7f0ca6275be0>,\n",
              " <matplotlib.lines.Line2D at 0x7f0ca6275d30>,\n",
              " <matplotlib.lines.Line2D at 0x7f0ca6275e80>,\n",
              " <matplotlib.lines.Line2D at 0x7f0ca6275fd0>,\n",
              " <matplotlib.lines.Line2D at 0x7f0ca627a160>,\n",
              " <matplotlib.lines.Line2D at 0x7f0ca627a2b0>,\n",
              " <matplotlib.lines.Line2D at 0x7f0ca627a400>,\n",
              " <matplotlib.lines.Line2D at 0x7f0ca627a550>,\n",
              " <matplotlib.lines.Line2D at 0x7f0ca627a6a0>,\n",
              " <matplotlib.lines.Line2D at 0x7f0ca627a7f0>,\n",
              " <matplotlib.lines.Line2D at 0x7f0ca627a940>,\n",
              " <matplotlib.lines.Line2D at 0x7f0ca627aa90>,\n",
              " <matplotlib.lines.Line2D at 0x7f0ca627abe0>,\n",
              " <matplotlib.lines.Line2D at 0x7f0ca627ad30>,\n",
              " <matplotlib.lines.Line2D at 0x7f0ca627ae80>,\n",
              " <matplotlib.lines.Line2D at 0x7f0ca627afd0>,\n",
              " <matplotlib.lines.Line2D at 0x7f0ca627f160>,\n",
              " <matplotlib.lines.Line2D at 0x7f0ca627f2b0>,\n",
              " <matplotlib.lines.Line2D at 0x7f0ca627f400>,\n",
              " <matplotlib.lines.Line2D at 0x7f0ca627f550>,\n",
              " <matplotlib.lines.Line2D at 0x7f0ca627f6a0>,\n",
              " <matplotlib.lines.Line2D at 0x7f0ca627f7f0>,\n",
              " <matplotlib.lines.Line2D at 0x7f0ca627f940>,\n",
              " <matplotlib.lines.Line2D at 0x7f0ca627fa90>,\n",
              " <matplotlib.lines.Line2D at 0x7f0ca627fbe0>,\n",
              " <matplotlib.lines.Line2D at 0x7f0ca627fd30>,\n",
              " <matplotlib.lines.Line2D at 0x7f0ca627fe80>,\n",
              " <matplotlib.lines.Line2D at 0x7f0ca627ffd0>,\n",
              " <matplotlib.lines.Line2D at 0x7f0ca6284160>,\n",
              " <matplotlib.lines.Line2D at 0x7f0ca62842b0>,\n",
              " <matplotlib.lines.Line2D at 0x7f0ca6284400>,\n",
              " <matplotlib.lines.Line2D at 0x7f0ca6284550>,\n",
              " <matplotlib.lines.Line2D at 0x7f0ca62846a0>,\n",
              " <matplotlib.lines.Line2D at 0x7f0ca62847f0>,\n",
              " <matplotlib.lines.Line2D at 0x7f0ca6284940>,\n",
              " <matplotlib.lines.Line2D at 0x7f0ca6284a90>,\n",
              " <matplotlib.lines.Line2D at 0x7f0ca6284be0>,\n",
              " <matplotlib.lines.Line2D at 0x7f0ca6284d30>,\n",
              " <matplotlib.lines.Line2D at 0x7f0ca6284e80>,\n",
              " <matplotlib.lines.Line2D at 0x7f0ca6284fd0>,\n",
              " <matplotlib.lines.Line2D at 0x7f0ca6209160>,\n",
              " <matplotlib.lines.Line2D at 0x7f0ca62092b0>,\n",
              " <matplotlib.lines.Line2D at 0x7f0ca6209400>,\n",
              " <matplotlib.lines.Line2D at 0x7f0ca6209550>,\n",
              " <matplotlib.lines.Line2D at 0x7f0ca62096a0>,\n",
              " <matplotlib.lines.Line2D at 0x7f0ca62097f0>,\n",
              " <matplotlib.lines.Line2D at 0x7f0ca6209940>,\n",
              " <matplotlib.lines.Line2D at 0x7f0ca6209a90>,\n",
              " <matplotlib.lines.Line2D at 0x7f0ca6209be0>,\n",
              " <matplotlib.lines.Line2D at 0x7f0ca6209d30>,\n",
              " <matplotlib.lines.Line2D at 0x7f0ca6209e80>,\n",
              " <matplotlib.lines.Line2D at 0x7f0ca6209fd0>,\n",
              " <matplotlib.lines.Line2D at 0x7f0ca620e160>,\n",
              " <matplotlib.lines.Line2D at 0x7f0ca620e2b0>,\n",
              " <matplotlib.lines.Line2D at 0x7f0ca620e400>,\n",
              " <matplotlib.lines.Line2D at 0x7f0ca620e550>,\n",
              " <matplotlib.lines.Line2D at 0x7f0ca620e6a0>,\n",
              " <matplotlib.lines.Line2D at 0x7f0ca620e7f0>,\n",
              " <matplotlib.lines.Line2D at 0x7f0ca620e940>,\n",
              " <matplotlib.lines.Line2D at 0x7f0ca620ea90>,\n",
              " <matplotlib.lines.Line2D at 0x7f0ca620ebe0>,\n",
              " <matplotlib.lines.Line2D at 0x7f0ca620ed30>,\n",
              " <matplotlib.lines.Line2D at 0x7f0ca620ee80>,\n",
              " <matplotlib.lines.Line2D at 0x7f0ca620efd0>,\n",
              " <matplotlib.lines.Line2D at 0x7f0ca6213160>,\n",
              " <matplotlib.lines.Line2D at 0x7f0ca62132b0>,\n",
              " <matplotlib.lines.Line2D at 0x7f0ca6213400>,\n",
              " <matplotlib.lines.Line2D at 0x7f0ca6213550>,\n",
              " <matplotlib.lines.Line2D at 0x7f0ca62136a0>,\n",
              " <matplotlib.lines.Line2D at 0x7f0ca62137f0>,\n",
              " <matplotlib.lines.Line2D at 0x7f0ca6213940>,\n",
              " <matplotlib.lines.Line2D at 0x7f0ca6213a90>,\n",
              " <matplotlib.lines.Line2D at 0x7f0ca6213be0>,\n",
              " <matplotlib.lines.Line2D at 0x7f0ca6213d30>,\n",
              " <matplotlib.lines.Line2D at 0x7f0ca6213e80>,\n",
              " <matplotlib.lines.Line2D at 0x7f0ca6213fd0>,\n",
              " <matplotlib.lines.Line2D at 0x7f0ca6218160>,\n",
              " <matplotlib.lines.Line2D at 0x7f0ca62182b0>,\n",
              " <matplotlib.lines.Line2D at 0x7f0ca6218400>,\n",
              " <matplotlib.lines.Line2D at 0x7f0ca6218550>,\n",
              " <matplotlib.lines.Line2D at 0x7f0ca62186a0>,\n",
              " <matplotlib.lines.Line2D at 0x7f0ca62187f0>,\n",
              " <matplotlib.lines.Line2D at 0x7f0ca6218940>,\n",
              " <matplotlib.lines.Line2D at 0x7f0ca6218a90>,\n",
              " <matplotlib.lines.Line2D at 0x7f0ca6218be0>,\n",
              " <matplotlib.lines.Line2D at 0x7f0ca6218d30>,\n",
              " <matplotlib.lines.Line2D at 0x7f0ca6218e80>,\n",
              " <matplotlib.lines.Line2D at 0x7f0ca6218fd0>,\n",
              " <matplotlib.lines.Line2D at 0x7f0ca621e160>,\n",
              " <matplotlib.lines.Line2D at 0x7f0ca621e2b0>,\n",
              " <matplotlib.lines.Line2D at 0x7f0ca621e400>,\n",
              " <matplotlib.lines.Line2D at 0x7f0ca621e550>,\n",
              " <matplotlib.lines.Line2D at 0x7f0ca621e6a0>,\n",
              " <matplotlib.lines.Line2D at 0x7f0ca621e7f0>,\n",
              " <matplotlib.lines.Line2D at 0x7f0ca621e940>,\n",
              " <matplotlib.lines.Line2D at 0x7f0ca621ea90>,\n",
              " <matplotlib.lines.Line2D at 0x7f0ca621ebe0>,\n",
              " <matplotlib.lines.Line2D at 0x7f0ca621ed30>,\n",
              " <matplotlib.lines.Line2D at 0x7f0ca621ee80>,\n",
              " <matplotlib.lines.Line2D at 0x7f0ca621efd0>,\n",
              " <matplotlib.lines.Line2D at 0x7f0ca6224160>,\n",
              " <matplotlib.lines.Line2D at 0x7f0ca62242b0>,\n",
              " <matplotlib.lines.Line2D at 0x7f0ca6224400>,\n",
              " <matplotlib.lines.Line2D at 0x7f0ca6224550>,\n",
              " <matplotlib.lines.Line2D at 0x7f0ca62246a0>,\n",
              " <matplotlib.lines.Line2D at 0x7f0ca62247f0>,\n",
              " <matplotlib.lines.Line2D at 0x7f0ca6224940>,\n",
              " <matplotlib.lines.Line2D at 0x7f0ca6224a90>,\n",
              " <matplotlib.lines.Line2D at 0x7f0ca6224be0>,\n",
              " <matplotlib.lines.Line2D at 0x7f0ca6224d30>,\n",
              " <matplotlib.lines.Line2D at 0x7f0ca6224e80>,\n",
              " <matplotlib.lines.Line2D at 0x7f0ca6224fd0>,\n",
              " <matplotlib.lines.Line2D at 0x7f0ca6228160>,\n",
              " <matplotlib.lines.Line2D at 0x7f0ca62282b0>,\n",
              " <matplotlib.lines.Line2D at 0x7f0ca6228400>,\n",
              " <matplotlib.lines.Line2D at 0x7f0ca6228550>,\n",
              " <matplotlib.lines.Line2D at 0x7f0ca62286a0>,\n",
              " <matplotlib.lines.Line2D at 0x7f0ca62287f0>,\n",
              " <matplotlib.lines.Line2D at 0x7f0ca6228940>,\n",
              " <matplotlib.lines.Line2D at 0x7f0ca6228a90>,\n",
              " <matplotlib.lines.Line2D at 0x7f0ca6228be0>,\n",
              " <matplotlib.lines.Line2D at 0x7f0ca6228d30>,\n",
              " <matplotlib.lines.Line2D at 0x7f0ca6228e80>,\n",
              " <matplotlib.lines.Line2D at 0x7f0ca6228fd0>,\n",
              " <matplotlib.lines.Line2D at 0x7f0ca622d160>,\n",
              " <matplotlib.lines.Line2D at 0x7f0ca622d2b0>,\n",
              " <matplotlib.lines.Line2D at 0x7f0ca622d400>,\n",
              " <matplotlib.lines.Line2D at 0x7f0ca622d550>,\n",
              " <matplotlib.lines.Line2D at 0x7f0ca622d6a0>,\n",
              " <matplotlib.lines.Line2D at 0x7f0ca622d7f0>,\n",
              " <matplotlib.lines.Line2D at 0x7f0ca622d940>,\n",
              " <matplotlib.lines.Line2D at 0x7f0ca622da90>,\n",
              " <matplotlib.lines.Line2D at 0x7f0ca622dbe0>,\n",
              " <matplotlib.lines.Line2D at 0x7f0ca622dd30>,\n",
              " <matplotlib.lines.Line2D at 0x7f0ca622de80>,\n",
              " <matplotlib.lines.Line2D at 0x7f0ca622dfd0>,\n",
              " <matplotlib.lines.Line2D at 0x7f0ca6232160>,\n",
              " <matplotlib.lines.Line2D at 0x7f0ca62322b0>,\n",
              " <matplotlib.lines.Line2D at 0x7f0ca6232400>,\n",
              " <matplotlib.lines.Line2D at 0x7f0ca6232550>,\n",
              " <matplotlib.lines.Line2D at 0x7f0ca62326a0>,\n",
              " <matplotlib.lines.Line2D at 0x7f0ca62327f0>,\n",
              " <matplotlib.lines.Line2D at 0x7f0ca6232940>,\n",
              " <matplotlib.lines.Line2D at 0x7f0ca6232a90>,\n",
              " <matplotlib.lines.Line2D at 0x7f0ca6232be0>,\n",
              " <matplotlib.lines.Line2D at 0x7f0ca6232d30>,\n",
              " <matplotlib.lines.Line2D at 0x7f0ca6232e80>,\n",
              " <matplotlib.lines.Line2D at 0x7f0ca6232fd0>,\n",
              " <matplotlib.lines.Line2D at 0x7f0ca6238160>,\n",
              " <matplotlib.lines.Line2D at 0x7f0ca62382b0>,\n",
              " <matplotlib.lines.Line2D at 0x7f0ca6238400>,\n",
              " <matplotlib.lines.Line2D at 0x7f0ca6238550>,\n",
              " <matplotlib.lines.Line2D at 0x7f0ca62386a0>,\n",
              " <matplotlib.lines.Line2D at 0x7f0ca62387f0>,\n",
              " <matplotlib.lines.Line2D at 0x7f0ca6238940>,\n",
              " <matplotlib.lines.Line2D at 0x7f0ca6238a90>,\n",
              " <matplotlib.lines.Line2D at 0x7f0ca6238be0>,\n",
              " <matplotlib.lines.Line2D at 0x7f0ca6238d30>,\n",
              " <matplotlib.lines.Line2D at 0x7f0ca6238e80>,\n",
              " <matplotlib.lines.Line2D at 0x7f0ca6238fd0>,\n",
              " <matplotlib.lines.Line2D at 0x7f0ca623c160>,\n",
              " <matplotlib.lines.Line2D at 0x7f0ca623c2b0>,\n",
              " <matplotlib.lines.Line2D at 0x7f0ca623c400>,\n",
              " <matplotlib.lines.Line2D at 0x7f0ca623c550>,\n",
              " <matplotlib.lines.Line2D at 0x7f0ca623c6a0>,\n",
              " <matplotlib.lines.Line2D at 0x7f0ca623c7f0>,\n",
              " <matplotlib.lines.Line2D at 0x7f0ca623c940>,\n",
              " <matplotlib.lines.Line2D at 0x7f0ca623ca90>,\n",
              " <matplotlib.lines.Line2D at 0x7f0ca623cbe0>,\n",
              " <matplotlib.lines.Line2D at 0x7f0ca623cd30>,\n",
              " <matplotlib.lines.Line2D at 0x7f0ca623ce80>,\n",
              " <matplotlib.lines.Line2D at 0x7f0ca623cfd0>,\n",
              " <matplotlib.lines.Line2D at 0x7f0ca6241160>,\n",
              " <matplotlib.lines.Line2D at 0x7f0ca62412b0>,\n",
              " <matplotlib.lines.Line2D at 0x7f0ca6241400>,\n",
              " <matplotlib.lines.Line2D at 0x7f0ca6241550>,\n",
              " <matplotlib.lines.Line2D at 0x7f0ca62416a0>,\n",
              " <matplotlib.lines.Line2D at 0x7f0ca62417f0>,\n",
              " <matplotlib.lines.Line2D at 0x7f0ca6241940>,\n",
              " <matplotlib.lines.Line2D at 0x7f0ca6241a90>,\n",
              " <matplotlib.lines.Line2D at 0x7f0ca6241be0>,\n",
              " <matplotlib.lines.Line2D at 0x7f0ca6241d30>,\n",
              " <matplotlib.lines.Line2D at 0x7f0ca6241e80>,\n",
              " <matplotlib.lines.Line2D at 0x7f0ca6241fd0>,\n",
              " <matplotlib.lines.Line2D at 0x7f0ca61c8160>,\n",
              " <matplotlib.lines.Line2D at 0x7f0ca61c82b0>,\n",
              " <matplotlib.lines.Line2D at 0x7f0ca61c8400>,\n",
              " <matplotlib.lines.Line2D at 0x7f0ca61c8550>,\n",
              " <matplotlib.lines.Line2D at 0x7f0ca61c86a0>,\n",
              " <matplotlib.lines.Line2D at 0x7f0ca61c87f0>,\n",
              " <matplotlib.lines.Line2D at 0x7f0ca61c8940>,\n",
              " <matplotlib.lines.Line2D at 0x7f0ca61c8a90>,\n",
              " <matplotlib.lines.Line2D at 0x7f0ca61c8be0>,\n",
              " <matplotlib.lines.Line2D at 0x7f0ca61c8d30>,\n",
              " <matplotlib.lines.Line2D at 0x7f0ca61c8e80>,\n",
              " <matplotlib.lines.Line2D at 0x7f0ca61c8fd0>,\n",
              " <matplotlib.lines.Line2D at 0x7f0ca61cd160>,\n",
              " <matplotlib.lines.Line2D at 0x7f0ca61cd2b0>,\n",
              " <matplotlib.lines.Line2D at 0x7f0ca61cd400>,\n",
              " <matplotlib.lines.Line2D at 0x7f0ca61cd550>,\n",
              " <matplotlib.lines.Line2D at 0x7f0ca61cd6a0>,\n",
              " <matplotlib.lines.Line2D at 0x7f0ca61cd7f0>,\n",
              " <matplotlib.lines.Line2D at 0x7f0ca61cd940>,\n",
              " <matplotlib.lines.Line2D at 0x7f0ca61cda90>,\n",
              " <matplotlib.lines.Line2D at 0x7f0ca61cdbe0>,\n",
              " <matplotlib.lines.Line2D at 0x7f0ca61cdd30>,\n",
              " <matplotlib.lines.Line2D at 0x7f0ca61cde80>,\n",
              " <matplotlib.lines.Line2D at 0x7f0ca61cdfd0>,\n",
              " <matplotlib.lines.Line2D at 0x7f0ca61d1160>,\n",
              " <matplotlib.lines.Line2D at 0x7f0ca61d12b0>,\n",
              " <matplotlib.lines.Line2D at 0x7f0ca61d1400>,\n",
              " <matplotlib.lines.Line2D at 0x7f0ca61d1550>,\n",
              " <matplotlib.lines.Line2D at 0x7f0ca61d16a0>,\n",
              " <matplotlib.lines.Line2D at 0x7f0ca61d17f0>,\n",
              " <matplotlib.lines.Line2D at 0x7f0ca61d1940>,\n",
              " <matplotlib.lines.Line2D at 0x7f0ca61d1a90>,\n",
              " <matplotlib.lines.Line2D at 0x7f0ca61d1be0>,\n",
              " <matplotlib.lines.Line2D at 0x7f0ca61d1d30>,\n",
              " <matplotlib.lines.Line2D at 0x7f0ca61d1e80>,\n",
              " <matplotlib.lines.Line2D at 0x7f0ca61d1fd0>,\n",
              " <matplotlib.lines.Line2D at 0x7f0ca61d6160>,\n",
              " <matplotlib.lines.Line2D at 0x7f0ca61d62b0>,\n",
              " <matplotlib.lines.Line2D at 0x7f0ca61d6400>,\n",
              " <matplotlib.lines.Line2D at 0x7f0ca61d6550>,\n",
              " <matplotlib.lines.Line2D at 0x7f0ca61d66a0>,\n",
              " <matplotlib.lines.Line2D at 0x7f0ca61d67f0>,\n",
              " <matplotlib.lines.Line2D at 0x7f0ca61d6940>,\n",
              " <matplotlib.lines.Line2D at 0x7f0ca61d6a90>,\n",
              " <matplotlib.lines.Line2D at 0x7f0ca61d6be0>,\n",
              " <matplotlib.lines.Line2D at 0x7f0ca61d6d30>,\n",
              " <matplotlib.lines.Line2D at 0x7f0ca61d6e80>,\n",
              " <matplotlib.lines.Line2D at 0x7f0ca61d6fd0>,\n",
              " <matplotlib.lines.Line2D at 0x7f0ca61dc160>,\n",
              " <matplotlib.lines.Line2D at 0x7f0ca61dc2b0>,\n",
              " <matplotlib.lines.Line2D at 0x7f0ca61dc400>,\n",
              " <matplotlib.lines.Line2D at 0x7f0ca61dc550>,\n",
              " <matplotlib.lines.Line2D at 0x7f0ca61dc6a0>,\n",
              " <matplotlib.lines.Line2D at 0x7f0ca61dc7f0>,\n",
              " <matplotlib.lines.Line2D at 0x7f0ca61dc940>,\n",
              " <matplotlib.lines.Line2D at 0x7f0ca61dca90>,\n",
              " <matplotlib.lines.Line2D at 0x7f0ca61dcbe0>,\n",
              " <matplotlib.lines.Line2D at 0x7f0ca61dcd30>,\n",
              " <matplotlib.lines.Line2D at 0x7f0ca61dce80>,\n",
              " <matplotlib.lines.Line2D at 0x7f0ca61dcfd0>,\n",
              " <matplotlib.lines.Line2D at 0x7f0ca61e1160>,\n",
              " <matplotlib.lines.Line2D at 0x7f0ca61e12b0>,\n",
              " <matplotlib.lines.Line2D at 0x7f0ca61e1400>,\n",
              " <matplotlib.lines.Line2D at 0x7f0ca61e1550>,\n",
              " <matplotlib.lines.Line2D at 0x7f0ca61e16a0>,\n",
              " <matplotlib.lines.Line2D at 0x7f0ca61e17f0>,\n",
              " <matplotlib.lines.Line2D at 0x7f0ca61e1940>,\n",
              " <matplotlib.lines.Line2D at 0x7f0ca61e1a90>,\n",
              " <matplotlib.lines.Line2D at 0x7f0ca61e1be0>,\n",
              " <matplotlib.lines.Line2D at 0x7f0ca61e1d30>,\n",
              " <matplotlib.lines.Line2D at 0x7f0ca61e1e80>,\n",
              " <matplotlib.lines.Line2D at 0x7f0ca61e1fd0>,\n",
              " <matplotlib.lines.Line2D at 0x7f0ca61e5160>,\n",
              " <matplotlib.lines.Line2D at 0x7f0ca61e52b0>,\n",
              " <matplotlib.lines.Line2D at 0x7f0ca61e5400>,\n",
              " <matplotlib.lines.Line2D at 0x7f0ca61e5550>,\n",
              " <matplotlib.lines.Line2D at 0x7f0ca61e56a0>,\n",
              " <matplotlib.lines.Line2D at 0x7f0ca61e57f0>,\n",
              " <matplotlib.lines.Line2D at 0x7f0ca61e5940>,\n",
              " <matplotlib.lines.Line2D at 0x7f0ca61e5a90>,\n",
              " <matplotlib.lines.Line2D at 0x7f0ca61e5be0>,\n",
              " <matplotlib.lines.Line2D at 0x7f0ca61e5d30>,\n",
              " <matplotlib.lines.Line2D at 0x7f0ca61e5e80>,\n",
              " <matplotlib.lines.Line2D at 0x7f0ca61e5fd0>,\n",
              " <matplotlib.lines.Line2D at 0x7f0ca61eb160>,\n",
              " <matplotlib.lines.Line2D at 0x7f0ca61eb2b0>,\n",
              " <matplotlib.lines.Line2D at 0x7f0ca61eb400>,\n",
              " <matplotlib.lines.Line2D at 0x7f0ca61eb550>,\n",
              " <matplotlib.lines.Line2D at 0x7f0ca61eb6a0>,\n",
              " <matplotlib.lines.Line2D at 0x7f0ca61eb7f0>,\n",
              " <matplotlib.lines.Line2D at 0x7f0ca61eb940>,\n",
              " <matplotlib.lines.Line2D at 0x7f0ca61eba90>,\n",
              " <matplotlib.lines.Line2D at 0x7f0ca61ebbe0>,\n",
              " <matplotlib.lines.Line2D at 0x7f0ca61ebd30>,\n",
              " <matplotlib.lines.Line2D at 0x7f0ca61ebe80>,\n",
              " <matplotlib.lines.Line2D at 0x7f0ca61ebfd0>,\n",
              " <matplotlib.lines.Line2D at 0x7f0ca61f1160>,\n",
              " <matplotlib.lines.Line2D at 0x7f0ca61f12b0>,\n",
              " <matplotlib.lines.Line2D at 0x7f0ca61f1400>,\n",
              " <matplotlib.lines.Line2D at 0x7f0ca61f1550>,\n",
              " <matplotlib.lines.Line2D at 0x7f0ca61f16a0>,\n",
              " <matplotlib.lines.Line2D at 0x7f0ca61f17f0>,\n",
              " <matplotlib.lines.Line2D at 0x7f0ca61f1940>,\n",
              " <matplotlib.lines.Line2D at 0x7f0ca61f1a90>,\n",
              " <matplotlib.lines.Line2D at 0x7f0ca61f1be0>,\n",
              " <matplotlib.lines.Line2D at 0x7f0ca61f1d30>,\n",
              " <matplotlib.lines.Line2D at 0x7f0ca61f1e80>,\n",
              " <matplotlib.lines.Line2D at 0x7f0ca61f1fd0>,\n",
              " <matplotlib.lines.Line2D at 0x7f0ca61f6160>,\n",
              " <matplotlib.lines.Line2D at 0x7f0ca61f62b0>,\n",
              " <matplotlib.lines.Line2D at 0x7f0ca61f6400>,\n",
              " <matplotlib.lines.Line2D at 0x7f0ca61f6550>,\n",
              " <matplotlib.lines.Line2D at 0x7f0ca61f66a0>,\n",
              " <matplotlib.lines.Line2D at 0x7f0ca61f67f0>,\n",
              " <matplotlib.lines.Line2D at 0x7f0ca61f6940>,\n",
              " <matplotlib.lines.Line2D at 0x7f0ca61f6a90>,\n",
              " <matplotlib.lines.Line2D at 0x7f0ca61f6be0>,\n",
              " <matplotlib.lines.Line2D at 0x7f0ca61f6d30>,\n",
              " <matplotlib.lines.Line2D at 0x7f0ca61f6e80>,\n",
              " <matplotlib.lines.Line2D at 0x7f0ca61f6fd0>,\n",
              " <matplotlib.lines.Line2D at 0x7f0ca61fa160>,\n",
              " <matplotlib.lines.Line2D at 0x7f0ca61fa2b0>,\n",
              " <matplotlib.lines.Line2D at 0x7f0ca61fa400>,\n",
              " <matplotlib.lines.Line2D at 0x7f0ca61fa550>,\n",
              " <matplotlib.lines.Line2D at 0x7f0ca61fa6a0>,\n",
              " <matplotlib.lines.Line2D at 0x7f0ca61fa7f0>,\n",
              " <matplotlib.lines.Line2D at 0x7f0ca61fa940>,\n",
              " <matplotlib.lines.Line2D at 0x7f0ca61faa90>,\n",
              " <matplotlib.lines.Line2D at 0x7f0ca61fabe0>,\n",
              " <matplotlib.lines.Line2D at 0x7f0ca61fad30>,\n",
              " <matplotlib.lines.Line2D at 0x7f0ca61fae80>,\n",
              " <matplotlib.lines.Line2D at 0x7f0ca61fafd0>,\n",
              " <matplotlib.lines.Line2D at 0x7f0ca6200160>,\n",
              " <matplotlib.lines.Line2D at 0x7f0ca62002b0>,\n",
              " <matplotlib.lines.Line2D at 0x7f0ca6200400>,\n",
              " <matplotlib.lines.Line2D at 0x7f0ca6200550>,\n",
              " <matplotlib.lines.Line2D at 0x7f0ca62006a0>,\n",
              " <matplotlib.lines.Line2D at 0x7f0ca62007f0>,\n",
              " <matplotlib.lines.Line2D at 0x7f0ca6200940>,\n",
              " <matplotlib.lines.Line2D at 0x7f0ca6200a90>,\n",
              " <matplotlib.lines.Line2D at 0x7f0ca6200be0>,\n",
              " <matplotlib.lines.Line2D at 0x7f0ca6200d30>,\n",
              " <matplotlib.lines.Line2D at 0x7f0ca6200e80>,\n",
              " <matplotlib.lines.Line2D at 0x7f0ca6200fd0>,\n",
              " <matplotlib.lines.Line2D at 0x7f0ca6204160>,\n",
              " <matplotlib.lines.Line2D at 0x7f0ca62042b0>,\n",
              " <matplotlib.lines.Line2D at 0x7f0ca6204400>,\n",
              " <matplotlib.lines.Line2D at 0x7f0ca6204550>,\n",
              " <matplotlib.lines.Line2D at 0x7f0ca62046a0>,\n",
              " <matplotlib.lines.Line2D at 0x7f0ca62047f0>,\n",
              " <matplotlib.lines.Line2D at 0x7f0ca6204940>,\n",
              " <matplotlib.lines.Line2D at 0x7f0ca6204a90>,\n",
              " <matplotlib.lines.Line2D at 0x7f0ca6204be0>,\n",
              " <matplotlib.lines.Line2D at 0x7f0ca6204d30>,\n",
              " <matplotlib.lines.Line2D at 0x7f0ca6204e80>,\n",
              " <matplotlib.lines.Line2D at 0x7f0ca6204fd0>,\n",
              " <matplotlib.lines.Line2D at 0x7f0ca618a160>,\n",
              " <matplotlib.lines.Line2D at 0x7f0ca618a2b0>,\n",
              " <matplotlib.lines.Line2D at 0x7f0ca618a400>,\n",
              " <matplotlib.lines.Line2D at 0x7f0ca618a550>,\n",
              " <matplotlib.lines.Line2D at 0x7f0ca618a6a0>,\n",
              " <matplotlib.lines.Line2D at 0x7f0ca618a7f0>,\n",
              " <matplotlib.lines.Line2D at 0x7f0ca618a940>,\n",
              " <matplotlib.lines.Line2D at 0x7f0ca618aa90>,\n",
              " <matplotlib.lines.Line2D at 0x7f0ca618abe0>,\n",
              " <matplotlib.lines.Line2D at 0x7f0ca618ad30>,\n",
              " <matplotlib.lines.Line2D at 0x7f0ca618ae80>,\n",
              " <matplotlib.lines.Line2D at 0x7f0ca618afd0>,\n",
              " <matplotlib.lines.Line2D at 0x7f0ca618f160>,\n",
              " <matplotlib.lines.Line2D at 0x7f0ca618f2b0>,\n",
              " <matplotlib.lines.Line2D at 0x7f0ca618f400>,\n",
              " <matplotlib.lines.Line2D at 0x7f0ca618f550>,\n",
              " <matplotlib.lines.Line2D at 0x7f0ca618f6a0>,\n",
              " <matplotlib.lines.Line2D at 0x7f0ca618f7f0>,\n",
              " <matplotlib.lines.Line2D at 0x7f0ca618f940>,\n",
              " <matplotlib.lines.Line2D at 0x7f0ca618fa90>,\n",
              " <matplotlib.lines.Line2D at 0x7f0ca618fbe0>,\n",
              " <matplotlib.lines.Line2D at 0x7f0ca618fd30>,\n",
              " <matplotlib.lines.Line2D at 0x7f0ca618fe80>,\n",
              " <matplotlib.lines.Line2D at 0x7f0ca618ffd0>,\n",
              " <matplotlib.lines.Line2D at 0x7f0ca6194160>,\n",
              " <matplotlib.lines.Line2D at 0x7f0ca61942b0>,\n",
              " <matplotlib.lines.Line2D at 0x7f0ca6194400>,\n",
              " <matplotlib.lines.Line2D at 0x7f0ca6194550>,\n",
              " <matplotlib.lines.Line2D at 0x7f0ca61946a0>,\n",
              " <matplotlib.lines.Line2D at 0x7f0ca61947f0>,\n",
              " <matplotlib.lines.Line2D at 0x7f0ca6194940>,\n",
              " <matplotlib.lines.Line2D at 0x7f0ca6194a90>,\n",
              " <matplotlib.lines.Line2D at 0x7f0ca6194be0>,\n",
              " <matplotlib.lines.Line2D at 0x7f0ca6194d30>,\n",
              " <matplotlib.lines.Line2D at 0x7f0ca6194e80>,\n",
              " <matplotlib.lines.Line2D at 0x7f0ca6194fd0>,\n",
              " <matplotlib.lines.Line2D at 0x7f0ca6198160>,\n",
              " <matplotlib.lines.Line2D at 0x7f0ca61982b0>,\n",
              " <matplotlib.lines.Line2D at 0x7f0ca6198400>,\n",
              " <matplotlib.lines.Line2D at 0x7f0ca6198550>,\n",
              " <matplotlib.lines.Line2D at 0x7f0ca61986a0>,\n",
              " <matplotlib.lines.Line2D at 0x7f0ca61987f0>,\n",
              " <matplotlib.lines.Line2D at 0x7f0ca6198940>,\n",
              " <matplotlib.lines.Line2D at 0x7f0ca6198a90>,\n",
              " <matplotlib.lines.Line2D at 0x7f0ca6198be0>,\n",
              " <matplotlib.lines.Line2D at 0x7f0ca6198d30>,\n",
              " <matplotlib.lines.Line2D at 0x7f0ca6198e80>,\n",
              " <matplotlib.lines.Line2D at 0x7f0ca6198fd0>,\n",
              " <matplotlib.lines.Line2D at 0x7f0ca619f160>,\n",
              " <matplotlib.lines.Line2D at 0x7f0ca619f2b0>,\n",
              " <matplotlib.lines.Line2D at 0x7f0ca619f400>,\n",
              " <matplotlib.lines.Line2D at 0x7f0ca619f550>,\n",
              " <matplotlib.lines.Line2D at 0x7f0ca619f6a0>,\n",
              " <matplotlib.lines.Line2D at 0x7f0ca619f7f0>,\n",
              " <matplotlib.lines.Line2D at 0x7f0ca619f940>,\n",
              " <matplotlib.lines.Line2D at 0x7f0ca619fa90>,\n",
              " <matplotlib.lines.Line2D at 0x7f0ca619fbe0>,\n",
              " <matplotlib.lines.Line2D at 0x7f0ca619fd30>,\n",
              " <matplotlib.lines.Line2D at 0x7f0ca619fe80>,\n",
              " <matplotlib.lines.Line2D at 0x7f0ca619ffd0>,\n",
              " <matplotlib.lines.Line2D at 0x7f0ca61a4160>,\n",
              " <matplotlib.lines.Line2D at 0x7f0ca61a42b0>,\n",
              " <matplotlib.lines.Line2D at 0x7f0ca61a4400>,\n",
              " <matplotlib.lines.Line2D at 0x7f0ca61a4550>,\n",
              " <matplotlib.lines.Line2D at 0x7f0ca61a46a0>,\n",
              " <matplotlib.lines.Line2D at 0x7f0ca61a47f0>,\n",
              " <matplotlib.lines.Line2D at 0x7f0ca61a4940>,\n",
              " <matplotlib.lines.Line2D at 0x7f0ca61a4a90>,\n",
              " <matplotlib.lines.Line2D at 0x7f0ca61a4be0>,\n",
              " <matplotlib.lines.Line2D at 0x7f0ca61a4d30>,\n",
              " <matplotlib.lines.Line2D at 0x7f0ca61a4e80>,\n",
              " <matplotlib.lines.Line2D at 0x7f0ca61a4fd0>,\n",
              " <matplotlib.lines.Line2D at 0x7f0ca61a9160>,\n",
              " <matplotlib.lines.Line2D at 0x7f0ca61a92b0>,\n",
              " <matplotlib.lines.Line2D at 0x7f0ca61a9400>,\n",
              " <matplotlib.lines.Line2D at 0x7f0ca61a9550>,\n",
              " <matplotlib.lines.Line2D at 0x7f0ca61a96a0>,\n",
              " <matplotlib.lines.Line2D at 0x7f0ca61a97f0>,\n",
              " <matplotlib.lines.Line2D at 0x7f0ca61a9940>,\n",
              " <matplotlib.lines.Line2D at 0x7f0ca61a9a90>,\n",
              " <matplotlib.lines.Line2D at 0x7f0ca61a9be0>,\n",
              " <matplotlib.lines.Line2D at 0x7f0ca61a9d30>,\n",
              " <matplotlib.lines.Line2D at 0x7f0ca61a9e80>,\n",
              " <matplotlib.lines.Line2D at 0x7f0ca61a9fd0>,\n",
              " <matplotlib.lines.Line2D at 0x7f0ca61ad160>,\n",
              " <matplotlib.lines.Line2D at 0x7f0ca61ad2b0>,\n",
              " <matplotlib.lines.Line2D at 0x7f0ca61ad400>,\n",
              " <matplotlib.lines.Line2D at 0x7f0ca61ad550>,\n",
              " <matplotlib.lines.Line2D at 0x7f0ca61ad6a0>,\n",
              " <matplotlib.lines.Line2D at 0x7f0ca61ad7f0>,\n",
              " <matplotlib.lines.Line2D at 0x7f0ca61ad940>,\n",
              " <matplotlib.lines.Line2D at 0x7f0ca61ada90>,\n",
              " <matplotlib.lines.Line2D at 0x7f0ca61adbe0>,\n",
              " <matplotlib.lines.Line2D at 0x7f0ca61add30>,\n",
              " <matplotlib.lines.Line2D at 0x7f0ca61ade80>,\n",
              " <matplotlib.lines.Line2D at 0x7f0ca61adfd0>,\n",
              " <matplotlib.lines.Line2D at 0x7f0ca61b4160>,\n",
              " <matplotlib.lines.Line2D at 0x7f0ca61b42b0>,\n",
              " <matplotlib.lines.Line2D at 0x7f0ca61b4400>,\n",
              " <matplotlib.lines.Line2D at 0x7f0ca61b4550>,\n",
              " <matplotlib.lines.Line2D at 0x7f0ca61b46a0>,\n",
              " <matplotlib.lines.Line2D at 0x7f0ca61b47f0>,\n",
              " <matplotlib.lines.Line2D at 0x7f0ca61b4940>,\n",
              " <matplotlib.lines.Line2D at 0x7f0ca61b4a90>,\n",
              " <matplotlib.lines.Line2D at 0x7f0ca61b4be0>,\n",
              " <matplotlib.lines.Line2D at 0x7f0ca61b4d30>,\n",
              " <matplotlib.lines.Line2D at 0x7f0ca61b4e80>,\n",
              " <matplotlib.lines.Line2D at 0x7f0ca61b4fd0>,\n",
              " <matplotlib.lines.Line2D at 0x7f0ca61b8160>,\n",
              " <matplotlib.lines.Line2D at 0x7f0ca61b82b0>,\n",
              " <matplotlib.lines.Line2D at 0x7f0ca61b8400>,\n",
              " <matplotlib.lines.Line2D at 0x7f0ca61b8550>,\n",
              " <matplotlib.lines.Line2D at 0x7f0ca61b86a0>,\n",
              " <matplotlib.lines.Line2D at 0x7f0ca61b87f0>,\n",
              " <matplotlib.lines.Line2D at 0x7f0ca61b8940>,\n",
              " <matplotlib.lines.Line2D at 0x7f0ca61b8a90>,\n",
              " <matplotlib.lines.Line2D at 0x7f0ca61b8be0>,\n",
              " <matplotlib.lines.Line2D at 0x7f0ca61b8d30>,\n",
              " <matplotlib.lines.Line2D at 0x7f0ca61b8e80>,\n",
              " <matplotlib.lines.Line2D at 0x7f0ca61b8fd0>,\n",
              " <matplotlib.lines.Line2D at 0x7f0ca61bd160>,\n",
              " <matplotlib.lines.Line2D at 0x7f0ca61bd2b0>,\n",
              " <matplotlib.lines.Line2D at 0x7f0ca61bd400>,\n",
              " <matplotlib.lines.Line2D at 0x7f0ca61bd550>,\n",
              " <matplotlib.lines.Line2D at 0x7f0ca61bd6a0>,\n",
              " <matplotlib.lines.Line2D at 0x7f0ca61bd7f0>,\n",
              " <matplotlib.lines.Line2D at 0x7f0ca61bd940>,\n",
              " <matplotlib.lines.Line2D at 0x7f0ca61bda90>,\n",
              " <matplotlib.lines.Line2D at 0x7f0ca61bdbe0>,\n",
              " <matplotlib.lines.Line2D at 0x7f0ca61bdd30>,\n",
              " <matplotlib.lines.Line2D at 0x7f0ca61bde80>,\n",
              " <matplotlib.lines.Line2D at 0x7f0ca61bdfd0>,\n",
              " <matplotlib.lines.Line2D at 0x7f0ca61c1160>,\n",
              " <matplotlib.lines.Line2D at 0x7f0ca61c12b0>,\n",
              " <matplotlib.lines.Line2D at 0x7f0ca61c1400>,\n",
              " <matplotlib.lines.Line2D at 0x7f0ca61c1550>,\n",
              " <matplotlib.lines.Line2D at 0x7f0ca61c16a0>,\n",
              " <matplotlib.lines.Line2D at 0x7f0ca61c17f0>,\n",
              " <matplotlib.lines.Line2D at 0x7f0ca61c1940>,\n",
              " <matplotlib.lines.Line2D at 0x7f0ca61c1a90>,\n",
              " <matplotlib.lines.Line2D at 0x7f0ca61c1be0>,\n",
              " <matplotlib.lines.Line2D at 0x7f0ca61c1d30>,\n",
              " <matplotlib.lines.Line2D at 0x7f0ca61c1e80>,\n",
              " <matplotlib.lines.Line2D at 0x7f0ca61c1fd0>,\n",
              " <matplotlib.lines.Line2D at 0x7f0ca6149160>,\n",
              " <matplotlib.lines.Line2D at 0x7f0ca61492b0>,\n",
              " <matplotlib.lines.Line2D at 0x7f0ca6149400>,\n",
              " <matplotlib.lines.Line2D at 0x7f0ca6149550>,\n",
              " <matplotlib.lines.Line2D at 0x7f0ca61496a0>,\n",
              " <matplotlib.lines.Line2D at 0x7f0ca61497f0>,\n",
              " <matplotlib.lines.Line2D at 0x7f0ca6149940>,\n",
              " <matplotlib.lines.Line2D at 0x7f0ca6149a90>,\n",
              " <matplotlib.lines.Line2D at 0x7f0ca6149be0>,\n",
              " <matplotlib.lines.Line2D at 0x7f0ca6149d30>,\n",
              " <matplotlib.lines.Line2D at 0x7f0ca6149e80>,\n",
              " <matplotlib.lines.Line2D at 0x7f0ca6149fd0>,\n",
              " <matplotlib.lines.Line2D at 0x7f0ca614d160>,\n",
              " <matplotlib.lines.Line2D at 0x7f0ca614d2b0>,\n",
              " <matplotlib.lines.Line2D at 0x7f0ca614d400>,\n",
              " <matplotlib.lines.Line2D at 0x7f0ca614d550>,\n",
              " <matplotlib.lines.Line2D at 0x7f0ca614d6a0>,\n",
              " <matplotlib.lines.Line2D at 0x7f0ca614d7f0>,\n",
              " <matplotlib.lines.Line2D at 0x7f0ca614d940>,\n",
              " <matplotlib.lines.Line2D at 0x7f0ca614da90>,\n",
              " <matplotlib.lines.Line2D at 0x7f0ca614dbe0>,\n",
              " <matplotlib.lines.Line2D at 0x7f0ca614dd30>,\n",
              " <matplotlib.lines.Line2D at 0x7f0ca614de80>,\n",
              " <matplotlib.lines.Line2D at 0x7f0ca614dfd0>,\n",
              " <matplotlib.lines.Line2D at 0x7f0ca6152160>,\n",
              " <matplotlib.lines.Line2D at 0x7f0ca61522b0>,\n",
              " <matplotlib.lines.Line2D at 0x7f0ca6152400>,\n",
              " <matplotlib.lines.Line2D at 0x7f0ca6152550>,\n",
              " <matplotlib.lines.Line2D at 0x7f0ca61526a0>,\n",
              " <matplotlib.lines.Line2D at 0x7f0ca61527f0>,\n",
              " <matplotlib.lines.Line2D at 0x7f0ca6152940>,\n",
              " <matplotlib.lines.Line2D at 0x7f0ca6152a90>,\n",
              " <matplotlib.lines.Line2D at 0x7f0ca6152be0>,\n",
              " <matplotlib.lines.Line2D at 0x7f0ca6152d30>,\n",
              " <matplotlib.lines.Line2D at 0x7f0ca6152e80>,\n",
              " <matplotlib.lines.Line2D at 0x7f0ca6152fd0>,\n",
              " <matplotlib.lines.Line2D at 0x7f0ca6157160>,\n",
              " <matplotlib.lines.Line2D at 0x7f0ca61572b0>,\n",
              " <matplotlib.lines.Line2D at 0x7f0ca6157400>,\n",
              " <matplotlib.lines.Line2D at 0x7f0ca6157550>,\n",
              " <matplotlib.lines.Line2D at 0x7f0ca61576a0>,\n",
              " <matplotlib.lines.Line2D at 0x7f0ca61577f0>,\n",
              " <matplotlib.lines.Line2D at 0x7f0ca6157940>,\n",
              " <matplotlib.lines.Line2D at 0x7f0ca6157a90>,\n",
              " <matplotlib.lines.Line2D at 0x7f0ca6157be0>,\n",
              " <matplotlib.lines.Line2D at 0x7f0ca6157d30>,\n",
              " <matplotlib.lines.Line2D at 0x7f0ca6157e80>,\n",
              " <matplotlib.lines.Line2D at 0x7f0ca6157fd0>,\n",
              " <matplotlib.lines.Line2D at 0x7f0ca615d160>,\n",
              " <matplotlib.lines.Line2D at 0x7f0ca615d2b0>,\n",
              " <matplotlib.lines.Line2D at 0x7f0ca615d400>,\n",
              " <matplotlib.lines.Line2D at 0x7f0ca615d550>,\n",
              " <matplotlib.lines.Line2D at 0x7f0ca615d6a0>,\n",
              " <matplotlib.lines.Line2D at 0x7f0ca615d7f0>,\n",
              " <matplotlib.lines.Line2D at 0x7f0ca615d940>,\n",
              " <matplotlib.lines.Line2D at 0x7f0ca615da90>,\n",
              " <matplotlib.lines.Line2D at 0x7f0ca615dbe0>,\n",
              " <matplotlib.lines.Line2D at 0x7f0ca615dd30>,\n",
              " <matplotlib.lines.Line2D at 0x7f0ca615de80>,\n",
              " <matplotlib.lines.Line2D at 0x7f0ca615dfd0>,\n",
              " <matplotlib.lines.Line2D at 0x7f0ca6161160>,\n",
              " <matplotlib.lines.Line2D at 0x7f0ca61612b0>,\n",
              " <matplotlib.lines.Line2D at 0x7f0ca6161400>,\n",
              " <matplotlib.lines.Line2D at 0x7f0ca6161550>,\n",
              " <matplotlib.lines.Line2D at 0x7f0ca61616a0>,\n",
              " <matplotlib.lines.Line2D at 0x7f0ca61617f0>,\n",
              " <matplotlib.lines.Line2D at 0x7f0ca6161940>,\n",
              " <matplotlib.lines.Line2D at 0x7f0ca6161a90>,\n",
              " <matplotlib.lines.Line2D at 0x7f0ca6161be0>,\n",
              " <matplotlib.lines.Line2D at 0x7f0ca6161d30>,\n",
              " <matplotlib.lines.Line2D at 0x7f0ca6161e80>,\n",
              " <matplotlib.lines.Line2D at 0x7f0ca6161fd0>,\n",
              " <matplotlib.lines.Line2D at 0x7f0ca6167160>,\n",
              " <matplotlib.lines.Line2D at 0x7f0ca61672b0>,\n",
              " <matplotlib.lines.Line2D at 0x7f0ca6167400>,\n",
              " <matplotlib.lines.Line2D at 0x7f0ca6167550>,\n",
              " <matplotlib.lines.Line2D at 0x7f0ca61676a0>,\n",
              " <matplotlib.lines.Line2D at 0x7f0ca61677f0>,\n",
              " <matplotlib.lines.Line2D at 0x7f0ca6167940>,\n",
              " <matplotlib.lines.Line2D at 0x7f0ca6167a90>,\n",
              " <matplotlib.lines.Line2D at 0x7f0ca6167be0>,\n",
              " <matplotlib.lines.Line2D at 0x7f0ca6167d30>,\n",
              " <matplotlib.lines.Line2D at 0x7f0ca6167e80>,\n",
              " <matplotlib.lines.Line2D at 0x7f0ca6167fd0>,\n",
              " <matplotlib.lines.Line2D at 0x7f0ca616b160>,\n",
              " <matplotlib.lines.Line2D at 0x7f0ca616b2b0>,\n",
              " <matplotlib.lines.Line2D at 0x7f0ca616b400>,\n",
              " <matplotlib.lines.Line2D at 0x7f0ca616b550>,\n",
              " <matplotlib.lines.Line2D at 0x7f0ca616b6a0>,\n",
              " <matplotlib.lines.Line2D at 0x7f0ca616b7f0>,\n",
              " <matplotlib.lines.Line2D at 0x7f0ca616b940>,\n",
              " <matplotlib.lines.Line2D at 0x7f0ca616ba90>,\n",
              " <matplotlib.lines.Line2D at 0x7f0ca616bbe0>,\n",
              " <matplotlib.lines.Line2D at 0x7f0ca616bd30>,\n",
              " <matplotlib.lines.Line2D at 0x7f0ca616be80>,\n",
              " <matplotlib.lines.Line2D at 0x7f0ca616bfd0>,\n",
              " <matplotlib.lines.Line2D at 0x7f0ca6171160>,\n",
              " <matplotlib.lines.Line2D at 0x7f0ca61712b0>,\n",
              " <matplotlib.lines.Line2D at 0x7f0ca6171400>,\n",
              " <matplotlib.lines.Line2D at 0x7f0ca6171550>,\n",
              " <matplotlib.lines.Line2D at 0x7f0ca61716a0>,\n",
              " <matplotlib.lines.Line2D at 0x7f0ca61717f0>,\n",
              " <matplotlib.lines.Line2D at 0x7f0ca6171940>,\n",
              " <matplotlib.lines.Line2D at 0x7f0ca6171a90>,\n",
              " <matplotlib.lines.Line2D at 0x7f0ca6171be0>,\n",
              " <matplotlib.lines.Line2D at 0x7f0ca6171d30>,\n",
              " <matplotlib.lines.Line2D at 0x7f0ca6171e80>,\n",
              " <matplotlib.lines.Line2D at 0x7f0ca6171fd0>,\n",
              " <matplotlib.lines.Line2D at 0x7f0ca6176160>,\n",
              " <matplotlib.lines.Line2D at 0x7f0ca61762b0>,\n",
              " <matplotlib.lines.Line2D at 0x7f0ca6176400>,\n",
              " <matplotlib.lines.Line2D at 0x7f0ca6176550>,\n",
              " <matplotlib.lines.Line2D at 0x7f0ca61766a0>,\n",
              " <matplotlib.lines.Line2D at 0x7f0ca61767f0>,\n",
              " <matplotlib.lines.Line2D at 0x7f0ca6176940>,\n",
              " <matplotlib.lines.Line2D at 0x7f0ca6176a90>,\n",
              " <matplotlib.lines.Line2D at 0x7f0ca6176be0>,\n",
              " <matplotlib.lines.Line2D at 0x7f0ca6176d30>,\n",
              " <matplotlib.lines.Line2D at 0x7f0ca6176e80>,\n",
              " <matplotlib.lines.Line2D at 0x7f0ca6176fd0>,\n",
              " <matplotlib.lines.Line2D at 0x7f0ca617c160>,\n",
              " <matplotlib.lines.Line2D at 0x7f0ca617c2b0>,\n",
              " <matplotlib.lines.Line2D at 0x7f0ca617c400>,\n",
              " <matplotlib.lines.Line2D at 0x7f0ca617c550>,\n",
              " <matplotlib.lines.Line2D at 0x7f0ca617c6a0>,\n",
              " <matplotlib.lines.Line2D at 0x7f0ca617c7f0>,\n",
              " <matplotlib.lines.Line2D at 0x7f0ca617c940>,\n",
              " <matplotlib.lines.Line2D at 0x7f0ca617ca90>,\n",
              " <matplotlib.lines.Line2D at 0x7f0ca617cbe0>,\n",
              " <matplotlib.lines.Line2D at 0x7f0ca617cd30>,\n",
              " <matplotlib.lines.Line2D at 0x7f0ca617ce80>,\n",
              " <matplotlib.lines.Line2D at 0x7f0ca617cfd0>,\n",
              " <matplotlib.lines.Line2D at 0x7f0ca6180160>,\n",
              " <matplotlib.lines.Line2D at 0x7f0ca61802b0>,\n",
              " <matplotlib.lines.Line2D at 0x7f0ca6180400>,\n",
              " <matplotlib.lines.Line2D at 0x7f0ca6180550>,\n",
              " <matplotlib.lines.Line2D at 0x7f0ca61806a0>,\n",
              " <matplotlib.lines.Line2D at 0x7f0ca61807f0>,\n",
              " <matplotlib.lines.Line2D at 0x7f0ca6180940>,\n",
              " <matplotlib.lines.Line2D at 0x7f0ca6180a90>,\n",
              " <matplotlib.lines.Line2D at 0x7f0ca6180be0>,\n",
              " <matplotlib.lines.Line2D at 0x7f0ca6180d30>,\n",
              " <matplotlib.lines.Line2D at 0x7f0ca6180e80>,\n",
              " <matplotlib.lines.Line2D at 0x7f0ca6180fd0>,\n",
              " <matplotlib.lines.Line2D at 0x7f0ca6185160>,\n",
              " <matplotlib.lines.Line2D at 0x7f0ca61852b0>,\n",
              " <matplotlib.lines.Line2D at 0x7f0ca6185400>,\n",
              " <matplotlib.lines.Line2D at 0x7f0ca6185550>,\n",
              " <matplotlib.lines.Line2D at 0x7f0ca61856a0>,\n",
              " <matplotlib.lines.Line2D at 0x7f0ca61857f0>,\n",
              " <matplotlib.lines.Line2D at 0x7f0ca6185940>,\n",
              " <matplotlib.lines.Line2D at 0x7f0ca6185a90>,\n",
              " <matplotlib.lines.Line2D at 0x7f0ca6185be0>,\n",
              " <matplotlib.lines.Line2D at 0x7f0ca6185d30>,\n",
              " <matplotlib.lines.Line2D at 0x7f0ca6185e80>,\n",
              " <matplotlib.lines.Line2D at 0x7f0ca6185fd0>,\n",
              " <matplotlib.lines.Line2D at 0x7f0ca610a160>,\n",
              " <matplotlib.lines.Line2D at 0x7f0ca610a2b0>,\n",
              " <matplotlib.lines.Line2D at 0x7f0ca610a400>,\n",
              " <matplotlib.lines.Line2D at 0x7f0ca610a550>,\n",
              " <matplotlib.lines.Line2D at 0x7f0ca610a6a0>,\n",
              " <matplotlib.lines.Line2D at 0x7f0ca610a7f0>,\n",
              " <matplotlib.lines.Line2D at 0x7f0ca610a940>,\n",
              " <matplotlib.lines.Line2D at 0x7f0ca610aa90>,\n",
              " <matplotlib.lines.Line2D at 0x7f0ca610abe0>,\n",
              " <matplotlib.lines.Line2D at 0x7f0ca610ad30>,\n",
              " <matplotlib.lines.Line2D at 0x7f0ca610ae80>,\n",
              " <matplotlib.lines.Line2D at 0x7f0ca610afd0>,\n",
              " <matplotlib.lines.Line2D at 0x7f0ca6110160>,\n",
              " <matplotlib.lines.Line2D at 0x7f0ca61102b0>,\n",
              " <matplotlib.lines.Line2D at 0x7f0ca6110400>,\n",
              " <matplotlib.lines.Line2D at 0x7f0ca6110550>,\n",
              " <matplotlib.lines.Line2D at 0x7f0ca61106a0>,\n",
              " <matplotlib.lines.Line2D at 0x7f0ca61107f0>,\n",
              " <matplotlib.lines.Line2D at 0x7f0ca6110940>,\n",
              " <matplotlib.lines.Line2D at 0x7f0ca6110a90>,\n",
              " <matplotlib.lines.Line2D at 0x7f0ca6110be0>,\n",
              " <matplotlib.lines.Line2D at 0x7f0ca6110d30>,\n",
              " <matplotlib.lines.Line2D at 0x7f0ca6110e80>,\n",
              " <matplotlib.lines.Line2D at 0x7f0ca6110fd0>,\n",
              " <matplotlib.lines.Line2D at 0x7f0ca6114160>,\n",
              " <matplotlib.lines.Line2D at 0x7f0ca61142b0>,\n",
              " <matplotlib.lines.Line2D at 0x7f0ca6114400>,\n",
              " <matplotlib.lines.Line2D at 0x7f0ca6114550>,\n",
              " <matplotlib.lines.Line2D at 0x7f0ca61146a0>,\n",
              " <matplotlib.lines.Line2D at 0x7f0ca61147f0>,\n",
              " <matplotlib.lines.Line2D at 0x7f0ca6114940>,\n",
              " <matplotlib.lines.Line2D at 0x7f0ca6114a90>,\n",
              " <matplotlib.lines.Line2D at 0x7f0ca6114be0>,\n",
              " <matplotlib.lines.Line2D at 0x7f0ca6114d30>,\n",
              " <matplotlib.lines.Line2D at 0x7f0ca6114e80>,\n",
              " <matplotlib.lines.Line2D at 0x7f0ca6114fd0>,\n",
              " <matplotlib.lines.Line2D at 0x7f0ca6119160>,\n",
              " <matplotlib.lines.Line2D at 0x7f0ca61192b0>,\n",
              " <matplotlib.lines.Line2D at 0x7f0ca6119400>,\n",
              " <matplotlib.lines.Line2D at 0x7f0ca6119550>,\n",
              " <matplotlib.lines.Line2D at 0x7f0ca61196a0>,\n",
              " <matplotlib.lines.Line2D at 0x7f0ca61197f0>,\n",
              " <matplotlib.lines.Line2D at 0x7f0ca6119940>,\n",
              " <matplotlib.lines.Line2D at 0x7f0ca6119a90>,\n",
              " <matplotlib.lines.Line2D at 0x7f0ca6119be0>,\n",
              " <matplotlib.lines.Line2D at 0x7f0ca6119d30>,\n",
              " <matplotlib.lines.Line2D at 0x7f0ca6119e80>,\n",
              " <matplotlib.lines.Line2D at 0x7f0ca6119fd0>,\n",
              " <matplotlib.lines.Line2D at 0x7f0ca6120160>,\n",
              " <matplotlib.lines.Line2D at 0x7f0ca61202b0>,\n",
              " <matplotlib.lines.Line2D at 0x7f0ca6120400>,\n",
              " <matplotlib.lines.Line2D at 0x7f0ca6120550>,\n",
              " <matplotlib.lines.Line2D at 0x7f0ca61206a0>,\n",
              " <matplotlib.lines.Line2D at 0x7f0ca61207f0>,\n",
              " <matplotlib.lines.Line2D at 0x7f0ca6120940>,\n",
              " <matplotlib.lines.Line2D at 0x7f0ca6120a90>,\n",
              " <matplotlib.lines.Line2D at 0x7f0ca6120be0>,\n",
              " <matplotlib.lines.Line2D at 0x7f0ca6120d30>,\n",
              " <matplotlib.lines.Line2D at 0x7f0ca6120e80>,\n",
              " <matplotlib.lines.Line2D at 0x7f0ca6120fd0>,\n",
              " <matplotlib.lines.Line2D at 0x7f0ca6125160>,\n",
              " <matplotlib.lines.Line2D at 0x7f0ca61252b0>,\n",
              " <matplotlib.lines.Line2D at 0x7f0ca6125400>,\n",
              " <matplotlib.lines.Line2D at 0x7f0ca6125550>,\n",
              " <matplotlib.lines.Line2D at 0x7f0ca61256a0>,\n",
              " <matplotlib.lines.Line2D at 0x7f0ca61257f0>,\n",
              " <matplotlib.lines.Line2D at 0x7f0ca6125940>,\n",
              " <matplotlib.lines.Line2D at 0x7f0ca6125a90>,\n",
              " <matplotlib.lines.Line2D at 0x7f0ca6125be0>,\n",
              " <matplotlib.lines.Line2D at 0x7f0ca6125d30>,\n",
              " <matplotlib.lines.Line2D at 0x7f0ca6125e80>,\n",
              " <matplotlib.lines.Line2D at 0x7f0ca6125fd0>,\n",
              " <matplotlib.lines.Line2D at 0x7f0ca6129160>,\n",
              " <matplotlib.lines.Line2D at 0x7f0ca61292b0>,\n",
              " <matplotlib.lines.Line2D at 0x7f0ca6129400>,\n",
              " <matplotlib.lines.Line2D at 0x7f0ca6129550>,\n",
              " <matplotlib.lines.Line2D at 0x7f0ca61296a0>,\n",
              " <matplotlib.lines.Line2D at 0x7f0ca61297f0>,\n",
              " <matplotlib.lines.Line2D at 0x7f0ca6129940>,\n",
              " <matplotlib.lines.Line2D at 0x7f0ca6129a90>,\n",
              " <matplotlib.lines.Line2D at 0x7f0ca6129be0>,\n",
              " <matplotlib.lines.Line2D at 0x7f0ca6129d30>,\n",
              " <matplotlib.lines.Line2D at 0x7f0ca6129e80>,\n",
              " <matplotlib.lines.Line2D at 0x7f0ca6129fd0>,\n",
              " <matplotlib.lines.Line2D at 0x7f0ca612e160>,\n",
              " <matplotlib.lines.Line2D at 0x7f0ca612e2b0>,\n",
              " <matplotlib.lines.Line2D at 0x7f0ca612e400>,\n",
              " <matplotlib.lines.Line2D at 0x7f0ca612e550>,\n",
              " <matplotlib.lines.Line2D at 0x7f0ca612e6a0>,\n",
              " <matplotlib.lines.Line2D at 0x7f0ca612e7f0>,\n",
              " <matplotlib.lines.Line2D at 0x7f0ca612e940>,\n",
              " <matplotlib.lines.Line2D at 0x7f0ca612ea90>,\n",
              " <matplotlib.lines.Line2D at 0x7f0ca612ebe0>,\n",
              " <matplotlib.lines.Line2D at 0x7f0ca612ed30>,\n",
              " <matplotlib.lines.Line2D at 0x7f0ca612ee80>,\n",
              " <matplotlib.lines.Line2D at 0x7f0ca612efd0>,\n",
              " <matplotlib.lines.Line2D at 0x7f0ca6134160>,\n",
              " <matplotlib.lines.Line2D at 0x7f0ca61342b0>,\n",
              " <matplotlib.lines.Line2D at 0x7f0ca6134400>,\n",
              " <matplotlib.lines.Line2D at 0x7f0ca6134550>,\n",
              " <matplotlib.lines.Line2D at 0x7f0ca61346a0>,\n",
              " <matplotlib.lines.Line2D at 0x7f0ca61347f0>,\n",
              " <matplotlib.lines.Line2D at 0x7f0ca6134940>,\n",
              " <matplotlib.lines.Line2D at 0x7f0ca6134a90>,\n",
              " <matplotlib.lines.Line2D at 0x7f0ca6134be0>,\n",
              " <matplotlib.lines.Line2D at 0x7f0ca6134d30>,\n",
              " <matplotlib.lines.Line2D at 0x7f0ca6134e80>,\n",
              " <matplotlib.lines.Line2D at 0x7f0ca6134fd0>,\n",
              " <matplotlib.lines.Line2D at 0x7f0ca6139160>,\n",
              " <matplotlib.lines.Line2D at 0x7f0ca61392b0>,\n",
              " <matplotlib.lines.Line2D at 0x7f0ca6139400>,\n",
              " <matplotlib.lines.Line2D at 0x7f0ca6139550>,\n",
              " <matplotlib.lines.Line2D at 0x7f0ca61396a0>,\n",
              " <matplotlib.lines.Line2D at 0x7f0ca61397f0>,\n",
              " <matplotlib.lines.Line2D at 0x7f0ca6139940>,\n",
              " <matplotlib.lines.Line2D at 0x7f0ca6139a90>,\n",
              " <matplotlib.lines.Line2D at 0x7f0ca6139be0>,\n",
              " <matplotlib.lines.Line2D at 0x7f0ca6139d30>,\n",
              " <matplotlib.lines.Line2D at 0x7f0ca6139e80>,\n",
              " <matplotlib.lines.Line2D at 0x7f0ca6139fd0>,\n",
              " <matplotlib.lines.Line2D at 0x7f0ca613d160>,\n",
              " <matplotlib.lines.Line2D at 0x7f0ca613d2b0>,\n",
              " <matplotlib.lines.Line2D at 0x7f0ca613d400>,\n",
              " <matplotlib.lines.Line2D at 0x7f0ca613d550>,\n",
              " <matplotlib.lines.Line2D at 0x7f0ca613d6a0>,\n",
              " <matplotlib.lines.Line2D at 0x7f0ca613d7f0>,\n",
              " <matplotlib.lines.Line2D at 0x7f0ca613d940>,\n",
              " <matplotlib.lines.Line2D at 0x7f0ca613da90>,\n",
              " <matplotlib.lines.Line2D at 0x7f0ca613dbe0>,\n",
              " <matplotlib.lines.Line2D at 0x7f0ca613dd30>,\n",
              " <matplotlib.lines.Line2D at 0x7f0ca613de80>,\n",
              " <matplotlib.lines.Line2D at 0x7f0ca613dfd0>,\n",
              " <matplotlib.lines.Line2D at 0x7f0ca6143160>,\n",
              " <matplotlib.lines.Line2D at 0x7f0ca61432b0>,\n",
              " <matplotlib.lines.Line2D at 0x7f0ca6143400>,\n",
              " <matplotlib.lines.Line2D at 0x7f0ca6143550>,\n",
              " <matplotlib.lines.Line2D at 0x7f0ca61436a0>,\n",
              " <matplotlib.lines.Line2D at 0x7f0ca61437f0>,\n",
              " <matplotlib.lines.Line2D at 0x7f0ca6143940>,\n",
              " <matplotlib.lines.Line2D at 0x7f0ca6143a90>,\n",
              " <matplotlib.lines.Line2D at 0x7f0ca6143be0>,\n",
              " <matplotlib.lines.Line2D at 0x7f0ca6143d30>,\n",
              " <matplotlib.lines.Line2D at 0x7f0ca6143e80>,\n",
              " <matplotlib.lines.Line2D at 0x7f0ca6143fd0>,\n",
              " <matplotlib.lines.Line2D at 0x7f0ca60c8160>,\n",
              " <matplotlib.lines.Line2D at 0x7f0ca60c82b0>,\n",
              " <matplotlib.lines.Line2D at 0x7f0ca60c8400>,\n",
              " <matplotlib.lines.Line2D at 0x7f0ca60c8550>,\n",
              " <matplotlib.lines.Line2D at 0x7f0ca60c86a0>,\n",
              " <matplotlib.lines.Line2D at 0x7f0ca60c87f0>,\n",
              " <matplotlib.lines.Line2D at 0x7f0ca60c8940>,\n",
              " <matplotlib.lines.Line2D at 0x7f0ca60c8a90>,\n",
              " <matplotlib.lines.Line2D at 0x7f0ca60c8be0>,\n",
              " <matplotlib.lines.Line2D at 0x7f0ca60c8d30>,\n",
              " <matplotlib.lines.Line2D at 0x7f0ca60c8e80>,\n",
              " <matplotlib.lines.Line2D at 0x7f0ca60c8fd0>,\n",
              " <matplotlib.lines.Line2D at 0x7f0ca60ce160>,\n",
              " <matplotlib.lines.Line2D at 0x7f0ca60ce2b0>,\n",
              " <matplotlib.lines.Line2D at 0x7f0ca60ce400>,\n",
              " <matplotlib.lines.Line2D at 0x7f0ca60ce550>,\n",
              " <matplotlib.lines.Line2D at 0x7f0ca60ce6a0>,\n",
              " <matplotlib.lines.Line2D at 0x7f0ca60ce7f0>,\n",
              " <matplotlib.lines.Line2D at 0x7f0ca60ce940>,\n",
              " <matplotlib.lines.Line2D at 0x7f0ca60cea90>,\n",
              " <matplotlib.lines.Line2D at 0x7f0ca60cebe0>,\n",
              " <matplotlib.lines.Line2D at 0x7f0ca60ced30>,\n",
              " <matplotlib.lines.Line2D at 0x7f0ca60cee80>,\n",
              " <matplotlib.lines.Line2D at 0x7f0ca60cefd0>,\n",
              " <matplotlib.lines.Line2D at 0x7f0ca60d3160>,\n",
              " <matplotlib.lines.Line2D at 0x7f0ca60d32b0>,\n",
              " <matplotlib.lines.Line2D at 0x7f0ca60d3400>,\n",
              " <matplotlib.lines.Line2D at 0x7f0ca60d3550>,\n",
              " <matplotlib.lines.Line2D at 0x7f0ca60d36a0>,\n",
              " <matplotlib.lines.Line2D at 0x7f0ca60d37f0>,\n",
              " <matplotlib.lines.Line2D at 0x7f0ca60d3940>,\n",
              " <matplotlib.lines.Line2D at 0x7f0ca60d3a90>,\n",
              " <matplotlib.lines.Line2D at 0x7f0ca60d3be0>,\n",
              " <matplotlib.lines.Line2D at 0x7f0ca60d3d30>,\n",
              " <matplotlib.lines.Line2D at 0x7f0ca60d3e80>,\n",
              " <matplotlib.lines.Line2D at 0x7f0ca60d3fd0>,\n",
              " <matplotlib.lines.Line2D at 0x7f0ca60d8160>,\n",
              " <matplotlib.lines.Line2D at 0x7f0ca60d82b0>,\n",
              " <matplotlib.lines.Line2D at 0x7f0ca60d8400>,\n",
              " <matplotlib.lines.Line2D at 0x7f0ca60d8550>,\n",
              " <matplotlib.lines.Line2D at 0x7f0ca60d86a0>,\n",
              " <matplotlib.lines.Line2D at 0x7f0ca60d87f0>,\n",
              " <matplotlib.lines.Line2D at 0x7f0ca60d8940>,\n",
              " <matplotlib.lines.Line2D at 0x7f0ca60d8a90>,\n",
              " <matplotlib.lines.Line2D at 0x7f0ca60d8be0>,\n",
              " <matplotlib.lines.Line2D at 0x7f0ca60d8d30>,\n",
              " <matplotlib.lines.Line2D at 0x7f0ca60d8e80>,\n",
              " <matplotlib.lines.Line2D at 0x7f0ca60d8fd0>,\n",
              " <matplotlib.lines.Line2D at 0x7f0ca60dd160>,\n",
              " <matplotlib.lines.Line2D at 0x7f0ca60dd2b0>,\n",
              " <matplotlib.lines.Line2D at 0x7f0ca60dd400>,\n",
              " <matplotlib.lines.Line2D at 0x7f0ca60dd550>,\n",
              " <matplotlib.lines.Line2D at 0x7f0ca60dd6a0>,\n",
              " <matplotlib.lines.Line2D at 0x7f0ca60dd7f0>,\n",
              " <matplotlib.lines.Line2D at 0x7f0ca60dd940>,\n",
              " <matplotlib.lines.Line2D at 0x7f0ca60dda90>,\n",
              " <matplotlib.lines.Line2D at 0x7f0ca60ddbe0>,\n",
              " <matplotlib.lines.Line2D at 0x7f0ca60ddd30>,\n",
              " <matplotlib.lines.Line2D at 0x7f0ca60dde80>,\n",
              " <matplotlib.lines.Line2D at 0x7f0ca60ddfd0>,\n",
              " <matplotlib.lines.Line2D at 0x7f0ca60e2160>,\n",
              " <matplotlib.lines.Line2D at 0x7f0ca60e22b0>,\n",
              " <matplotlib.lines.Line2D at 0x7f0ca60e2400>,\n",
              " <matplotlib.lines.Line2D at 0x7f0ca60e2550>,\n",
              " <matplotlib.lines.Line2D at 0x7f0ca60e26a0>,\n",
              " <matplotlib.lines.Line2D at 0x7f0ca60e27f0>,\n",
              " <matplotlib.lines.Line2D at 0x7f0ca60e2940>,\n",
              " <matplotlib.lines.Line2D at 0x7f0ca60e2a90>,\n",
              " <matplotlib.lines.Line2D at 0x7f0ca60e2be0>,\n",
              " <matplotlib.lines.Line2D at 0x7f0ca60e2d30>,\n",
              " <matplotlib.lines.Line2D at 0x7f0ca60e2e80>,\n",
              " <matplotlib.lines.Line2D at 0x7f0ca60e2fd0>,\n",
              " <matplotlib.lines.Line2D at 0x7f0ca60e8160>,\n",
              " <matplotlib.lines.Line2D at 0x7f0ca60e82b0>,\n",
              " <matplotlib.lines.Line2D at 0x7f0ca60e8400>,\n",
              " <matplotlib.lines.Line2D at 0x7f0ca60e8550>,\n",
              " <matplotlib.lines.Line2D at 0x7f0ca60e86a0>,\n",
              " <matplotlib.lines.Line2D at 0x7f0ca60e87f0>,\n",
              " <matplotlib.lines.Line2D at 0x7f0ca60e8940>,\n",
              " <matplotlib.lines.Line2D at 0x7f0ca60e8a90>,\n",
              " <matplotlib.lines.Line2D at 0x7f0ca60e8be0>,\n",
              " <matplotlib.lines.Line2D at 0x7f0ca60e8d30>,\n",
              " <matplotlib.lines.Line2D at 0x7f0ca60e8e80>,\n",
              " <matplotlib.lines.Line2D at 0x7f0ca60e8fd0>,\n",
              " <matplotlib.lines.Line2D at 0x7f0ca60ec160>,\n",
              " <matplotlib.lines.Line2D at 0x7f0ca60ec2b0>,\n",
              " <matplotlib.lines.Line2D at 0x7f0ca60ec400>,\n",
              " <matplotlib.lines.Line2D at 0x7f0ca60ec550>,\n",
              " <matplotlib.lines.Line2D at 0x7f0ca60ec6a0>,\n",
              " <matplotlib.lines.Line2D at 0x7f0ca60ec7f0>,\n",
              " <matplotlib.lines.Line2D at 0x7f0ca60ec940>,\n",
              " <matplotlib.lines.Line2D at 0x7f0ca60eca90>,\n",
              " <matplotlib.lines.Line2D at 0x7f0ca60ecbe0>,\n",
              " <matplotlib.lines.Line2D at 0x7f0ca60ecd30>,\n",
              " <matplotlib.lines.Line2D at 0x7f0ca60ece80>,\n",
              " <matplotlib.lines.Line2D at 0x7f0ca60ecfd0>,\n",
              " <matplotlib.lines.Line2D at 0x7f0ca60f1160>,\n",
              " <matplotlib.lines.Line2D at 0x7f0ca60f12b0>,\n",
              " <matplotlib.lines.Line2D at 0x7f0ca60f1400>,\n",
              " <matplotlib.lines.Line2D at 0x7f0ca60f1550>,\n",
              " <matplotlib.lines.Line2D at 0x7f0ca60f16a0>,\n",
              " <matplotlib.lines.Line2D at 0x7f0ca60f17f0>,\n",
              " <matplotlib.lines.Line2D at 0x7f0ca60f1940>,\n",
              " <matplotlib.lines.Line2D at 0x7f0ca60f1a90>,\n",
              " <matplotlib.lines.Line2D at 0x7f0ca60f1be0>,\n",
              " <matplotlib.lines.Line2D at 0x7f0ca60f1d30>,\n",
              " <matplotlib.lines.Line2D at 0x7f0ca60f1e80>,\n",
              " <matplotlib.lines.Line2D at 0x7f0ca60f1fd0>,\n",
              " <matplotlib.lines.Line2D at 0x7f0ca60f7160>,\n",
              " <matplotlib.lines.Line2D at 0x7f0ca60f72b0>,\n",
              " <matplotlib.lines.Line2D at 0x7f0ca60f7400>,\n",
              " <matplotlib.lines.Line2D at 0x7f0ca60f7550>,\n",
              " <matplotlib.lines.Line2D at 0x7f0ca60f76a0>,\n",
              " <matplotlib.lines.Line2D at 0x7f0ca60f77f0>,\n",
              " <matplotlib.lines.Line2D at 0x7f0ca60f7940>,\n",
              " <matplotlib.lines.Line2D at 0x7f0ca60f7a90>,\n",
              " <matplotlib.lines.Line2D at 0x7f0ca60f7be0>,\n",
              " <matplotlib.lines.Line2D at 0x7f0ca60f7d30>,\n",
              " <matplotlib.lines.Line2D at 0x7f0ca60f7e80>,\n",
              " <matplotlib.lines.Line2D at 0x7f0ca60f7fd0>,\n",
              " <matplotlib.lines.Line2D at 0x7f0ca60fc160>,\n",
              " <matplotlib.lines.Line2D at 0x7f0ca60fc2b0>,\n",
              " <matplotlib.lines.Line2D at 0x7f0ca60fc400>,\n",
              " <matplotlib.lines.Line2D at 0x7f0ca60fc550>,\n",
              " <matplotlib.lines.Line2D at 0x7f0ca60fc6a0>,\n",
              " <matplotlib.lines.Line2D at 0x7f0ca60fc7f0>,\n",
              " <matplotlib.lines.Line2D at 0x7f0ca60fc940>,\n",
              " <matplotlib.lines.Line2D at 0x7f0ca60fca90>,\n",
              " <matplotlib.lines.Line2D at 0x7f0ca60fcbe0>,\n",
              " <matplotlib.lines.Line2D at 0x7f0ca60fcd30>,\n",
              " <matplotlib.lines.Line2D at 0x7f0ca60fce80>,\n",
              " <matplotlib.lines.Line2D at 0x7f0ca60fcfd0>,\n",
              " <matplotlib.lines.Line2D at 0x7f0ca6101160>,\n",
              " <matplotlib.lines.Line2D at 0x7f0ca61012b0>,\n",
              " <matplotlib.lines.Line2D at 0x7f0ca6101400>,\n",
              " <matplotlib.lines.Line2D at 0x7f0ca6101550>,\n",
              " <matplotlib.lines.Line2D at 0x7f0ca61016a0>,\n",
              " <matplotlib.lines.Line2D at 0x7f0ca61017f0>,\n",
              " <matplotlib.lines.Line2D at 0x7f0ca6101940>,\n",
              " <matplotlib.lines.Line2D at 0x7f0ca6101a90>,\n",
              " <matplotlib.lines.Line2D at 0x7f0ca6101be0>,\n",
              " <matplotlib.lines.Line2D at 0x7f0ca6101d30>,\n",
              " <matplotlib.lines.Line2D at 0x7f0ca6101e80>,\n",
              " <matplotlib.lines.Line2D at 0x7f0ca6101fd0>,\n",
              " <matplotlib.lines.Line2D at 0x7f0ca6105160>,\n",
              " <matplotlib.lines.Line2D at 0x7f0ca61052b0>,\n",
              " <matplotlib.lines.Line2D at 0x7f0ca6105400>,\n",
              " <matplotlib.lines.Line2D at 0x7f0ca6105550>,\n",
              " <matplotlib.lines.Line2D at 0x7f0ca61056a0>,\n",
              " <matplotlib.lines.Line2D at 0x7f0ca61057f0>,\n",
              " <matplotlib.lines.Line2D at 0x7f0ca6105940>,\n",
              " <matplotlib.lines.Line2D at 0x7f0ca6105a90>,\n",
              " <matplotlib.lines.Line2D at 0x7f0ca6105be0>,\n",
              " <matplotlib.lines.Line2D at 0x7f0ca6105d30>,\n",
              " <matplotlib.lines.Line2D at 0x7f0ca6105e80>,\n",
              " <matplotlib.lines.Line2D at 0x7f0ca6105fd0>,\n",
              " <matplotlib.lines.Line2D at 0x7f0ca608c160>,\n",
              " <matplotlib.lines.Line2D at 0x7f0ca608c2b0>,\n",
              " <matplotlib.lines.Line2D at 0x7f0ca608c400>,\n",
              " <matplotlib.lines.Line2D at 0x7f0ca608c550>,\n",
              " <matplotlib.lines.Line2D at 0x7f0ca608c6a0>,\n",
              " <matplotlib.lines.Line2D at 0x7f0ca608c7f0>,\n",
              " <matplotlib.lines.Line2D at 0x7f0ca608c940>,\n",
              " <matplotlib.lines.Line2D at 0x7f0ca608ca90>,\n",
              " <matplotlib.lines.Line2D at 0x7f0ca608cbe0>,\n",
              " <matplotlib.lines.Line2D at 0x7f0ca608cd30>,\n",
              " <matplotlib.lines.Line2D at 0x7f0ca608ce80>,\n",
              " <matplotlib.lines.Line2D at 0x7f0ca608cfd0>,\n",
              " <matplotlib.lines.Line2D at 0x7f0ca6090160>,\n",
              " <matplotlib.lines.Line2D at 0x7f0ca60902b0>,\n",
              " <matplotlib.lines.Line2D at 0x7f0ca6090400>,\n",
              " <matplotlib.lines.Line2D at 0x7f0ca6090550>,\n",
              " <matplotlib.lines.Line2D at 0x7f0ca60906a0>,\n",
              " <matplotlib.lines.Line2D at 0x7f0ca60907f0>,\n",
              " <matplotlib.lines.Line2D at 0x7f0ca6090940>,\n",
              " <matplotlib.lines.Line2D at 0x7f0ca6090a90>,\n",
              " <matplotlib.lines.Line2D at 0x7f0ca6090be0>,\n",
              " <matplotlib.lines.Line2D at 0x7f0ca6090d30>,\n",
              " <matplotlib.lines.Line2D at 0x7f0ca6090e80>,\n",
              " <matplotlib.lines.Line2D at 0x7f0ca6090fd0>,\n",
              " <matplotlib.lines.Line2D at 0x7f0ca6095160>,\n",
              " <matplotlib.lines.Line2D at 0x7f0ca60952b0>,\n",
              " <matplotlib.lines.Line2D at 0x7f0ca6095400>,\n",
              " <matplotlib.lines.Line2D at 0x7f0ca6095550>,\n",
              " <matplotlib.lines.Line2D at 0x7f0ca60956a0>,\n",
              " <matplotlib.lines.Line2D at 0x7f0ca60957f0>,\n",
              " <matplotlib.lines.Line2D at 0x7f0ca6095940>,\n",
              " <matplotlib.lines.Line2D at 0x7f0ca6095a90>,\n",
              " <matplotlib.lines.Line2D at 0x7f0ca6095be0>,\n",
              " <matplotlib.lines.Line2D at 0x7f0ca6095d30>,\n",
              " <matplotlib.lines.Line2D at 0x7f0ca6095e80>,\n",
              " <matplotlib.lines.Line2D at 0x7f0ca6095fd0>,\n",
              " <matplotlib.lines.Line2D at 0x7f0ca6099160>,\n",
              " <matplotlib.lines.Line2D at 0x7f0ca60992b0>,\n",
              " <matplotlib.lines.Line2D at 0x7f0ca6099400>,\n",
              " <matplotlib.lines.Line2D at 0x7f0ca6099550>]"
            ]
          },
          "metadata": {
            "tags": []
          },
          "execution_count": 277
        },
        {
          "output_type": "display_data",
          "data": {
            "image/png": "[encoded data removed]",
            "text/plain": [
              "<Figure size 432x288 with 1 Axes>"
            ]
          },
          "metadata": {
            "tags": []
          }
        }
      ]
    }
  ]
}